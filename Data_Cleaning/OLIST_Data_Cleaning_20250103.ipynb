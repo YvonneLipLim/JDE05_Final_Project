{
 "cells": [
  {
   "cell_type": "code",
   "execution_count": 0,
   "metadata": {
    "application/vnd.databricks.v1+cell": {
     "cellMetadata": {
      "byteLimit": 2048000,
      "rowLimit": 10000
     },
     "inputWidgets": {},
     "nuid": "eaf5c675-1c26-4563-a280-76a2d47c161c",
     "showTitle": false,
     "tableResultSettingsMap": {},
     "title": ""
    }
   },
   "outputs": [
    {
     "output_type": "stream",
     "name": "stdout",
     "output_type": "stream",
     "text": [
      "/mnt/olist-store-data has been unmounted.\n"
     ]
    },
    {
     "output_type": "execute_result",
     "data": {
      "text/plain": [
       "True"
      ]
     },
     "execution_count": 2,
     "metadata": {},
     "output_type": "execute_result"
    }
   ],
   "source": [
    "# Unmount the existing mount point if it exists\n",
    "dbutils.fs.unmount(\"/mnt/olist-store-data\")\n",
    "\n",
    "# Create the configurations\n",
    "configs = {\"fs.azure.account.auth.type\": \"OAuth\",\n",
    "\"fs.azure.account.oauth.provider.type\": \"org.apache.hadoop.fs.azurebfs.oauth2.ClientCredsTokenProvider\",\n",
    "\"fs.azure.account.oauth2.client.id\": \"Client ID",\n",
    "\"fs.azure.account.oauth2.client.secret\": \"Secret Key",\n",
    "\"fs.azure.account.oauth2.client.endpoint\": \"https://login.microsoftonline.com/Tenant Account/oauth2/token\"}\n",
    "\n",
    "# Mount the storage\n",
    "dbutils.fs.mount(\n",
    "source = \"abfss://olist-store-data@olistbrdata.dfs.core.windows.net\", # container-name@storage-account-name\n",
    "mount_point = \"/mnt/olist-store-data\",\n",
    "extra_configs = configs)"
   ]
  },
  {
   "cell_type": "code",
   "execution_count": 0,
   "metadata": {
    "application/vnd.databricks.v1+cell": {
     "cellMetadata": {
      "byteLimit": 2048000,
      "rowLimit": 10000
     },
     "inputWidgets": {},
     "nuid": "87c5bdf5-800f-4b12-bf18-ea41fb0fb3b3",
     "showTitle": false,
     "tableResultSettingsMap": {},
     "title": ""
    }
   },
   "outputs": [],
   "source": [
    "# Check if the mounting is successful or not\n",
    "dbutils.fs.ls(\"/mnt/olist-store-data\")\n",
    "\n",
    "# Read all the datasets\n",
    "customers = spark.read.format(\"csv\").option(\"header\",\"true\").option(\"inferSchema\",\"true\").load(\"/mnt/olist-store-data/raw-data/olist_customers_dataset.csv\")\n",
    "geolocation = spark.read.format(\"csv\").option(\"header\",\"true\").option(\"inferSchema\",\"true\").load(\"/mnt/olist-store-data/raw-data/olist_geolocation_dataset.csv\")\n",
    "order_items = spark.read.format(\"csv\").option(\"header\",\"true\").option(\"inferSchema\",\"true\").load(\"/mnt/olist-store-data/raw-data/olist_order_items_dataset.csv\")\n",
    "order_payments = spark.read.format(\"csv\").option(\"header\",\"true\").option(\"inferSchema\",\"true\").load(\"/mnt/olist-store-data/raw-data/olist_order_payments_dataset.csv\")\n",
    "order_reviews = spark.read.format(\"csv\").option(\"header\",\"true\").option(\"inferSchema\",\"true\").load(\"/mnt/olist-store-data/raw-data/olist_order_reviews_dataset.csv\")\n",
    "orders = spark.read.format(\"csv\").option(\"header\",\"true\").option(\"inferSchema\",\"true\").load(\"/mnt/olist-store-data/raw-data/olist_orders_dataset.csv\")\n",
    "products = spark.read.format(\"csv\").option(\"header\",\"true\").option(\"inferSchema\",\"true\").load(\"/mnt/olist-store-data/raw-data/olist_products_dataset.csv\")\n",
    "sellers = spark.read.format(\"csv\").option(\"header\",\"true\").option(\"inferSchema\",\"true\").load(\"/mnt/olist-store-data/raw-data/olist_sellers_dataset.csv\")\n",
    "product_category = spark.read.format(\"csv\").option(\"header\",\"true\").option(\"inferSchema\",\"true\").load(\"/mnt/olist-store-data/raw-data/product_category_name_translation.csv\")"
   ]
  },
  {
   "cell_type": "code",
   "execution_count": 0,
   "metadata": {
    "application/vnd.databricks.v1+cell": {
     "cellMetadata": {
      "byteLimit": 2048000,
      "rowLimit": 10000
     },
     "inputWidgets": {},
     "nuid": "38548f7a-2f84-4e94-8245-63d8231c994c",
     "showTitle": false,
     "tableResultSettingsMap": {},
     "title": ""
    }
   },
   "outputs": [
    {
     "output_type": "stream",
     "name": "stdout",
     "output_type": "stream",
     "text": [
      "+---------------------------+-------------------+-------------------+----------------+-----------------+\n|geolocation_zip_code_prefix|    geolocation_lat|    geolocation_lng|geolocation_city|geolocation_state|\n+---------------------------+-------------------+-------------------+----------------+-----------------+\n|                       1037| -23.54562128115268| -46.63929204800168|       sao paulo|               SP|\n|                       1046|-23.546081127035535| -46.64482029837157|       sao paulo|               SP|\n|                       1046| -23.54612896641469| -46.64295148361138|       sao paulo|               SP|\n|                       1041|  -23.5443921648681| -46.63949930627844|       sao paulo|               SP|\n|                       1035|-23.541577961711493| -46.64160722329613|       sao paulo|               SP|\n|                       1012|-23.547762303364266| -46.63536053788448|       são paulo|               SP|\n|                       1047|-23.546273112412678| -46.64122516971552|       sao paulo|               SP|\n|                       1013|-23.546923208436723|  -46.6342636964915|       sao paulo|               SP|\n|                       1029|-23.543769055769133| -46.63427784085132|       sao paulo|               SP|\n|                       1011|-23.547639550320632| -46.63603162315495|       sao paulo|               SP|\n|                       1013|-23.547325128224376| -46.63418378613892|       sao paulo|               SP|\n|                       1032| -23.53841810407414|-46.634778375266734|       sao paulo|               SP|\n|                       1014|-23.546435343326205| -46.63383023397196|       sao paulo|               SP|\n|                       1012|-23.548945985189434| -46.63467113292871|       sao paulo|               SP|\n|                       1037|-23.545187340816042| -46.63785524104107|       são paulo|               SP|\n|                       1046|-23.546081127035535| -46.64482029837157|       sao paulo|               SP|\n|                       1039|-23.541883009983316| -46.63991946670314|       sao paulo|               SP|\n|                       1024|-23.541389521053937|-46.629899087812184|       são paulo|               SP|\n|                       1009| -23.54693540437998| -46.63658792659698|       sao paulo|               SP|\n|                       1046|-23.545884279214015|-46.643163191240035|       sao paulo|               SP|\n+---------------------------+-------------------+-------------------+----------------+-----------------+\nonly showing top 20 rows\n\nroot\n |-- geolocation_zip_code_prefix: integer (nullable = true)\n |-- geolocation_lat: double (nullable = true)\n |-- geolocation_lng: double (nullable = true)\n |-- geolocation_city: string (nullable = true)\n |-- geolocation_state: string (nullable = true)\n\n"
     ]
    }
   ],
   "source": [
    "geolocation.show()\n",
    "geolocation.printSchema()"
   ]
  },
  {
   "cell_type": "code",
   "execution_count": 0,
   "metadata": {
    "application/vnd.databricks.v1+cell": {
     "cellMetadata": {
      "byteLimit": 2048000,
      "rowLimit": 10000
     },
     "inputWidgets": {},
     "nuid": "77d55753-005b-4f20-8b40-8d38e47b3622",
     "showTitle": false,
     "tableResultSettingsMap": {},
     "title": ""
    }
   },
   "outputs": [
    {
     "output_type": "stream",
     "name": "stdout",
     "output_type": "stream",
     "text": [
      "+---------------------------+----------------+----------------------+\n|geolocation_zip_code_prefix|geolocation_city|geolocation_city_final|\n+---------------------------+----------------+----------------------+\n|1005                       |sao paulo       |Sao Paulo             |\n|1005                       |são paulo       |Sao Paulo             |\n|1005                       |sao paulo       |Sao Paulo             |\n|1005                       |sao paulo       |Sao Paulo             |\n|1005                       |são paulo       |Sao Paulo             |\n|1005                       |sao paulo       |Sao Paulo             |\n|1005                       |sao paulo       |Sao Paulo             |\n|1005                       |sao paulo       |Sao Paulo             |\n|1005                       |sao paulo       |Sao Paulo             |\n|1005                       |sao paulo       |Sao Paulo             |\n+---------------------------+----------------+----------------------+\nonly showing top 10 rows\n\nUnique cities before cleaning: 8011\nUnique cities after cleaning: 5768\n+----------------------+\n|geolocation_city_final|\n+----------------------+\n|Ceara-Mirim           |\n|Quilometro 14 Do Mutum|\n|Sao Joao D'Alianca    |\n|Pingo-D'Agua          |\n|Sao Jorge D'Oeste     |\n|Venha-Ver             |\n|Colonia Z-3           |\n|Gloria D'Oeste        |\n|Guarda-Mor            |\n|Igarape-Acu           |\n|Sitio D'Abadia        |\n|Mogi-Guacu            |\n|Ji-Parana             |\n|Embu-Guacu            |\n|Santa Clara D'Oeste   |\n|Mirassol D'Oeste      |\n|Santa Barbara D'Oeste |\n|Conceicao Do Lago-Acu |\n|Aparecida D'Oeste     |\n|Peixe-Boi             |\n+----------------------+\nonly showing top 20 rows\n\n+--------------------------+\n|geolocation_city_final    |\n+--------------------------+\n|Ceara-Mirim               |\n|Quilometro 14 Do Mutum    |\n|Sao Joao D'Alianca        |\n|Pingo-D'Agua              |\n|Sao Jorge D'Oeste         |\n|Venha-Ver                 |\n|Colonia Z-3               |\n|Gloria D'Oeste            |\n|Guarda-Mor                |\n|Igarape-Acu               |\n|Sitio D'Abadia            |\n|Mogi-Guacu                |\n|Ji-Parana                 |\n|Embu-Guacu                |\n|Santa Clara D'Oeste       |\n|Xangri-La                 |\n|Perola D'Oeste            |\n|Mirassol D'Oeste          |\n|Santa Barbara D'Oeste     |\n|Conceicao Do Lago-Acu     |\n|Aparecida D'Oeste         |\n|Peixe-Boi                 |\n|Olho D'Agua Do Piaui      |\n|Diamante D'Oeste          |\n|Olho D'Agua               |\n|Varre-Sai                 |\n|Governador Dix-Sept Rosado|\n|Olho D'Agua Grande        |\n|Pau D'Arco                |\n|Igarape-Miri              |\n|Mae D'Agua                |\n|Olhos D'Agua              |\n|Arco-Iris                 |\n|Barra D'Alcantara         |\n|Bandeirantes D'Oeste      |\n|Apicum-Acu                |\n|Biritiba-Mirim            |\n|Machadinho D'Oeste        |\n|Guarani D'Oeste           |\n|Nao-Me-Toque              |\n|Tanque D'Arca             |\n|Figueiropolis D'Oeste     |\n|Entre-Ijuis               |\n|Alvorada D'Oeste          |\n|Sao Felipe D'Oeste        |\n|Lagoa D'Anta              |\n|Olho-D'Agua Do Borges     |\n|Nova Brasilandia D'Oeste  |\n|Olho D'Agua Do Casado     |\n|Sapucai-Mirim             |\n|Vitorinos - Alto Rio Doce |\n|Encantado D'Oeste         |\n|Olhos D'Agua Do Oeste     |\n|Alta Floresta D'Oeste     |\n|Conquista D'Oeste         |\n|Tome-Acu                  |\n|Sao Joao Do Pau D'Alho    |\n|Itaporanga D'Ajuda        |\n|Herval D'Oeste            |\n|Rancho Alegre D'Oeste     |\n|Palmeira D'Oeste          |\n|Arraial D'Ajuda           |\n|Olho D'Agua Das Flores    |\n|Lambari D'Oeste           |\n|Santa Rita D'Oeste        |\n|Dias D'Avila              |\n|Parana D'Oeste            |\n|Xique-Xique               |\n|Pariquera-Acu             |\n|Estrela D'Oeste           |\n|Olho D'Agua Das Cunhas    |\n|Itapejara D'Oeste         |\n|Vau-Acu                   |\n|Guajara-Mirim             |\n+--------------------------+\n\nCities with special characters: 3512\n+--------------------------------+\n|geolocation_city_final          |\n+--------------------------------+\n|Vila Bela Da Santissima Trindade|\n|Sao Francisco De Assis Do Piaui |\n+--------------------------------+\n\nCities with unusual length: 26\n+----------------------+-----+\n|geolocation_city_final|count|\n+----------------------+-----+\n|Sao Paulo             |99650|\n|Rio De Janeiro        |35178|\n|Belo Horizonte        |19475|\n|Curitiba              |11264|\n|Brasilia              |9073 |\n|Porto Alegre          |8703 |\n|Salvador              |8084 |\n|Guarulhos             |7414 |\n|Sao Bernardo Do Campo |5916 |\n|Santo Andre           |5723 |\n|Osasco                |4994 |\n|Goiania               |4552 |\n|Recife                |4427 |\n|Fortaleza             |4326 |\n|Campinas              |4182 |\n|Sorocaba              |4123 |\n|Niteroi               |3903 |\n|Nova Iguacu           |3746 |\n|Ribeirao Preto        |3664 |\n|Florianopolis         |3653 |\n|Contagem              |3520 |\n|Juiz De Fora          |3496 |\n|Campo Grande          |3451 |\n|Uberlandia            |3386 |\n|Sao Jose Dos Campos   |3241 |\n|Belem                 |3134 |\n|Sao Goncalo           |3105 |\n|Santos                |2989 |\n|Sao Jose Do Rio Preto |2892 |\n|Carapicuiba           |2815 |\n|Barueri               |2793 |\n|Mogi Das Cruzes       |2675 |\n|Vitoria               |2620 |\n|Duque De Caxias       |2603 |\n|Maua                  |2510 |\n|Bauru                 |2399 |\n|Joinville             |2397 |\n|Maringa               |2253 |\n|Londrina              |2199 |\n|Praia Grande          |2107 |\n|Sao Luis              |2104 |\n|Guaruja               |2094 |\n|Taubate               |2069 |\n|Diadema               |2045 |\n|Campos Dos Goytacazes |1935 |\n|Caxias Do Sul         |1921 |\n|Cuiaba                |1907 |\n|Blumenau              |1876 |\n|Montes Claros         |1875 |\n|Maceio                |1852 |\n|Sao Carlos            |1833 |\n|Sao Caetano Do Sul    |1823 |\n|Volta Redonda         |1808 |\n|Betim                 |1806 |\n|Joao Pessoa           |1776 |\n|Jundiai               |1736 |\n|Petropolis            |1692 |\n|Natal                 |1683 |\n|Uberaba               |1672 |\n|Franca                |1637 |\n|Suzano                |1597 |\n|Santana De Parnaiba   |1591 |\n|Manaus                |1582 |\n|Cotia                 |1573 |\n|Embu Das Artes        |1560 |\n|Indaiatuba            |1540 |\n|Taboao Da Serra       |1524 |\n|Marilia               |1519 |\n|Pelotas               |1509 |\n|Governador Valadares  |1493 |\n|Macae                 |1491 |\n|Santa Maria           |1456 |\n|Aracaju               |1453 |\n|Ipatinga              |1453 |\n|Canoas                |1447 |\n|Piracicaba            |1447 |\n|Presidente Prudente   |1442 |\n|Araraquara            |1438 |\n|Itaquaquecetuba       |1418 |\n|Cascavel              |1397 |\n|Vila Velha            |1378 |\n|Feira De Santana      |1370 |\n|Teresina              |1358 |\n|Sao Vicente           |1352 |\n|Sao Jose              |1308 |\n|Sao Joao De Meriti    |1299 |\n|Divinopolis           |1273 |\n|Rio Claro             |1271 |\n|Aracatuba             |1251 |\n|Itajai                |1250 |\n|Jacarei               |1249 |\n|Sao Jose Dos Pinhais  |1241 |\n|Braganca Paulista     |1229 |\n|Serra                 |1227 |\n|Ponta Grossa          |1206 |\n|Rio Grande            |1126 |\n|Novo Hamburgo         |1122 |\n|Gravatai              |1120 |\n|Foz Do Iguacu         |1112 |\n|Sumare                |1110 |\n+----------------------+-----+\nonly showing top 100 rows\n\n+---------------------+----------------------+\n|geolocation_city     |geolocation_city_final|\n+---------------------+----------------------+\n|embu das artes       |Embu Das Artes        |\n|sao caetano do sul   |Sao Caetano Do Sul    |\n|santa isabel         |Santa Isabel          |\n|sp                   |Sao Paulo             |\n|são francisco xavier |Sao Francisco Xavier  |\n|pindamonhangaba      |Pindamonhangaba       |\n|carapicuiba          |Carapicuiba           |\n|sao paulo            |Sao Paulo             |\n|bragança paulista    |Braganca Paulista     |\n|ferraz de vasconcelos|Ferraz De Vasconcelos |\n|osasco               |Osasco                |\n|guaratinguetá        |Guaratingueta         |\n|diadema              |Diadema               |\n|jacareí              |Jacarei               |\n|caçapava             |Cacapava              |\n|joanópolis           |Joanopolis            |\n|cotia                |Cotia                 |\n|sao bernardo do campo|Sao Bernardo Do Campo |\n|peruíbe              |Peruibe               |\n|carapicuíba          |Carapicuiba           |\n|taboão da serra      |Taboao Da Serra       |\n|sao francisco xavier |Sao Francisco Xavier  |\n|caieiras             |Caieiras              |\n|são vicente          |Sao Vicente           |\n|jacarei              |Jacarei               |\n|sãopaulo             |Sao Paulo             |\n|franco da rocha      |Franco Da Rocha       |\n|ilhabela             |Ilhabela              |\n|jordanésia           |Cajamar               |\n|poa                  |Poa                   |\n|praia grande         |Praia Grande          |\n|cacapava             |Cacapava              |\n|são josé dos campos  |Sao Jose Dos Campos   |\n|santana de parnaíba  |Santana De Parnaiba   |\n|são bernardo do campo|Sao Bernardo Do Campo |\n|paraibuna            |Paraibuna             |\n|cunha                |Cunha                 |\n|mairiporã            |Mairipora             |\n|embu                 |Embu Das Artes        |\n|poá                  |Poa                   |\n|rio grande da serra  |Rio Grande Da Serra   |\n|redencao da serra    |Redencao Da Serra     |\n|sao jose dos campos  |Sao Jose Dos Campos   |\n|santana de parnaiba  |Santana De Parnaiba   |\n|juquia               |Juquia                |\n|jandira              |Jandira               |\n|taubaté              |Taubate               |\n|peruibe              |Peruibe               |\n|cruzeiro             |Cruzeiro              |\n|campos do jordão     |Campos Do Jordao      |\n|mairipora            |Mairipora             |\n|sao vicente          |Sao Vicente           |\n|santos               |Santos                |\n|barueri              |Barueri               |\n|cajamar              |Cajamar               |\n|maresias             |Sao Sebastiao         |\n|campinas             |Campinas              |\n|lorena               |Lorena                |\n|cubatão              |Cubatao               |\n|itapevi              |Itapevi               |\n|itaquaquecetuba      |Itaquaquecetuba       |\n|sao lourenco da serra|Sao Lourenco Da Serra |\n|ribeirao pires       |Ribeirao Pires        |\n|bertioga             |Bertioga              |\n|taboao da serra      |Taboao Da Serra       |\n|caieiras             |Cajamar               |\n|são paulo            |Sao Paulo             |\n|sao bernardo do campo|Sao Paulo             |\n|mogi das cruzes      |Mogi Das Cruzes       |\n|mauá                 |Maua                  |\n|cubatao              |Cubatao               |\n|arapei               |Arapei                |\n|roseira              |Roseira               |\n|arujá                |Aruja                 |\n|joanopolis           |Joanopolis            |\n|sao sebastiao        |Sao Sebastiao         |\n|cajati               |Cajati                |\n|santo andré          |Santo Andre           |\n|francisco morato     |Francisco Morato      |\n|guaruja              |Guaruja               |\n|caraguatatuba        |Caraguatatuba         |\n|arapeí               |Arapei                |\n|aruja                |Aruja                 |\n|sao jose dos campos  |Sao Francisco Xavier  |\n|são lourenço da serra|Sao Lourenco Da Serra |\n|vargem               |Vargem                |\n|atibaia              |Atibaia               |\n|guaratingueta        |Guaratingueta         |\n|itapecerica da serra |Itapecerica Da Serra  |\n|santo andre          |Santo Andre           |\n|ribeirão pires       |Ribeirao Pires        |\n|são caetano do sul   |Sao Caetano Do Sul    |\n|taubate              |Taubate               |\n|braganca paulista    |Braganca Paulista     |\n|maua                 |Maua                  |\n|juquiá               |Juquia                |\n|guarulhos            |Guarulhos             |\n|suzano               |Suzano                |\n|guarujá              |Guaruja               |\n|são sebastião        |Sao Sebastiao         |\n+---------------------+----------------------+\nonly showing top 100 rows\n\nPotentially unclean cities: 74 out of 5768 (1.28%)\n"
     ]
    }
   ],
   "source": [
    "from pyspark.sql.functions import col, lower, regexp_replace, udf, mode, when, length\n",
    "from pyspark.sql.types import StringType\n",
    "from pyspark.sql import Window\n",
    "\n",
    "# Step 1: Drop duplicates\n",
    "geolocation = geolocation.dropDuplicates()\n",
    "\n",
    "# Step 2: Clean city names\n",
    "@udf(StringType())\n",
    "def replace_char(city_name):\n",
    "    if city_name is None:\n",
    "        return None\n",
    "    city_name = city_name.lower()\n",
    "    replacements = {\n",
    "        'ã': 'a', 'â': 'a', 'á': 'a', 'à': 'a', 'ä': 'a',\n",
    "        'í': 'i', 'î': 'i', 'ì': 'i',\n",
    "        'ú': 'u', 'û': 'u', 'ù': 'u', 'ü': 'u',\n",
    "        'é': 'e', 'ê': 'e', 'è': 'e', 'ë': 'e',\n",
    "        'ó': 'o', 'õ': 'o', 'ô': 'o', 'ò': 'o', 'ö': 'o',\n",
    "        'ç': 'c'\n",
    "    }\n",
    "    for char, replacement in replacements.items():\n",
    "        city_name = city_name.replace(char, replacement)\n",
    "    return city_name\n",
    "\n",
    "geolocation = geolocation.withColumn(\"geolocation_city_cleaned\", replace_char(col(\"geolocation_city\")))\n",
    "\n",
    "# Step 3: Replace inconsistent city names with mode value for each zip code prefix\n",
    "window_spec = Window.partitionBy(\"geolocation_zip_code_prefix\")\n",
    "mode_city = mode(\"geolocation_city_cleaned\").over(window_spec)\n",
    "\n",
    "geolocation = geolocation.withColumn(\"geolocation_city_mode\", mode_city)\n",
    "geolocation = geolocation.withColumn(\"geolocation_city_final\", \n",
    "    when(col(\"geolocation_city_cleaned\") != col(\"geolocation_city_mode\"), col(\"geolocation_city_mode\"))\n",
    "    .otherwise(col(\"geolocation_city_cleaned\")))\n",
    "\n",
    "# Convert city names to title case\n",
    "geolocation = geolocation.withColumn(\"geolocation_city_final\", \n",
    "    udf(lambda x: x.title() if x else None, StringType())(col(\"geolocation_city_final\")))\n",
    "\n",
    "# Show results\n",
    "geolocation.select(\"geolocation_zip_code_prefix\", \"geolocation_city\", \"geolocation_city_final\").show(10, truncate=False)\n",
    "\n",
    "# Count of unique cities before and after cleaning\n",
    "print(\"Unique cities before cleaning:\", geolocation.select(\"geolocation_city\").distinct().count())\n",
    "print(\"Unique cities after cleaning:\", geolocation.select(\"geolocation_city_final\").distinct().count())\n",
    "\n",
    "# Function to filter cities that might need further attention\n",
    "def filtered_city(df, column_name):\n",
    "    return df.filter((col(column_name).rlike(\"[^a-zA-Z ]\")) | (length(col(column_name)) < 3)).select(column_name).distinct()\n",
    "\n",
    "# Show cities that might still need attention\n",
    "filtered_city(geolocation, \"geolocation_city_final\").show(truncate=False)\n",
    "\n",
    "\"\"\"To check if there are still city names that don't follow the expected pattern. Create custom function to filter cities that might need further attention\n",
    "\"\"\"\n",
    "special_char_cities = geolocation.filter(col(\"geolocation_city_final\").rlike(\"[^a-zA-Z ]\"))\n",
    "special_char_cities.select(\"geolocation_city_final\").distinct().show(100, truncate=False)\n",
    "print(\"Cities with special characters:\", special_char_cities.count())\n",
    "\n",
    "unusual_length_cities = geolocation.filter((length(col(\"geolocation_city_final\")) < 3) | (length(col(\"geolocation_city_final\")) > 30))\n",
    "unusual_length_cities.select(\"geolocation_city_final\").distinct().show(100, truncate=False)\n",
    "print(\"Cities with unusual length:\", unusual_length_cities.count())\n",
    "\n",
    "# Show most frequent city names, to identify any remaining inconsistencies in high-volumn cities.\n",
    "city_counts = geolocation.groupBy(\"geolocation_city_final\").count().orderBy(col(\"count\").desc())\n",
    "city_counts.show(100, truncate=False)\n",
    "\n",
    "# Compare original and cleaned names\n",
    "comparison = geolocation.select(\"geolocation_city\", \"geolocation_city_final\").distinct()\n",
    "comparison.filter(col(\"geolocation_city\") != col(\"geolocation_city_final\")).show(100, truncate=False)\n",
    "\n",
    "# Percentage of cities that are not cleaned\n",
    "unclean_count = filtered_city(geolocation, \"geolocation_city_final\").count()\n",
    "total_count = geolocation.select(\"geolocation_city_final\").distinct().count()\n",
    "print(f\"Potentially unclean cities: {unclean_count} out of {total_count} ({unclean_count/total_count*100:.2f}%)\")"
   ]
  },
  {
   "cell_type": "code",
   "execution_count": 0,
   "metadata": {
    "application/vnd.databricks.v1+cell": {
     "cellMetadata": {
      "byteLimit": 2048000,
      "rowLimit": 10000
     },
     "inputWidgets": {},
     "nuid": "68d99833-c0fa-4f8c-844b-49d973c01d4d",
     "showTitle": false,
     "tableResultSettingsMap": {},
     "title": ""
    }
   },
   "outputs": [],
   "source": [
    "# Save file\n",
    "geolocation.toPandas().to_csv(\"/dbfs/mnt/olist-store-data/transformed-data/olist_geolocation_dataset.csv\", index=False)"
   ]
  },
  {
   "cell_type": "code",
   "execution_count": 0,
   "metadata": {
    "application/vnd.databricks.v1+cell": {
     "cellMetadata": {
      "byteLimit": 2048000,
      "rowLimit": 10000
     },
     "inputWidgets": {},
     "nuid": "ccb4df58-cd55-4da8-9f59-70c1ad439b76",
     "showTitle": false,
     "tableResultSettingsMap": {},
     "title": ""
    }
   },
   "outputs": [
    {
     "output_type": "stream",
     "name": "stdout",
     "output_type": "stream",
     "text": [
      "+--------------------+--------------------+------------------------+--------------------+--------------+\n|         customer_id|  customer_unique_id|customer_zip_code_prefix|       customer_city|customer_state|\n+--------------------+--------------------+------------------------+--------------------+--------------+\n|06b8999e2fba1a1fb...|861eff4711a542e4b...|                   14409|              franca|            SP|\n|18955e83d337fd6b2...|290c77bc529b7ac93...|                    9790|sao bernardo do c...|            SP|\n|4e7b3e00288586ebd...|060e732b5b29e8181...|                    1151|           sao paulo|            SP|\n|b2b6027bc5c5109e5...|259dac757896d24d7...|                    8775|     mogi das cruzes|            SP|\n|4f2d8ab171c80ec83...|345ecd01c38d18a90...|                   13056|            campinas|            SP|\n|879864dab9bc30475...|4c93744516667ad3b...|                   89254|      jaragua do sul|            SC|\n|fd826e7cf63160e53...|addec96d2e059c80c...|                    4534|           sao paulo|            SP|\n|5e274e7a0c3809e14...|57b2a98a409812fe9...|                   35182|             timoteo|            MG|\n|5adf08e34b2e99398...|1175e95fb47ddff9d...|                   81560|            curitiba|            PR|\n|4b7139f34592b3a31...|9afe194fb833f79e3...|                   30575|      belo horizonte|            MG|\n|9fb35e4ed6f0a14a4...|2a7745e1ed516b289...|                   39400|       montes claros|            MG|\n|5aa9e4fdd4dfd2095...|2a46fb94aef5cbeeb...|                   20231|      rio de janeiro|            RJ|\n|b2d1536598b73a9ab...|918dc87cd72cd9f6e...|                   18682|    lencois paulista|            SP|\n|eabebad39a88bb6f5...|295c05e81917928d7...|                    5704|           sao paulo|            SP|\n|1f1c7bf1c9b041b29...|3151a81801c838636...|                   95110|       caxias do sul|            RS|\n|206f3129c0e4d7d0b...|21f748a16f4e1688a...|                   13412|          piracicaba|            SP|\n|a7c125a0a07b75146...|5c2991dbd08bbf3cf...|                   22750|      rio de janeiro|            RJ|\n|c5c61596a3b6bd0ce...|b6e99561fe6f34a55...|                    7124|           guarulhos|            SP|\n|9b8ce803689b3562d...|7f3a72e8f988c6e73...|                    5416|           sao paulo|            SP|\n|49d0ea0986edde72d...|3e6fd6b2f0d499456...|                   68485|              pacaja|            PA|\n+--------------------+--------------------+------------------------+--------------------+--------------+\nonly showing top 20 rows\n\nroot\n |-- customer_id: string (nullable = true)\n |-- customer_unique_id: string (nullable = true)\n |-- customer_zip_code_prefix: integer (nullable = true)\n |-- customer_city: string (nullable = true)\n |-- customer_state: string (nullable = true)\n\n"
     ]
    }
   ],
   "source": [
    "customers.show()\n",
    "customers.printSchema()"
   ]
  },
  {
   "cell_type": "code",
   "execution_count": 0,
   "metadata": {
    "application/vnd.databricks.v1+cell": {
     "cellMetadata": {
      "byteLimit": 2048000,
      "rowLimit": 10000
     },
     "inputWidgets": {},
     "nuid": "1d50da37-e627-4a9c-8a7f-f9d8527adb6b",
     "showTitle": false,
     "tableResultSettingsMap": {},
     "title": ""
    }
   },
   "outputs": [
    {
     "output_type": "stream",
     "name": "stdout",
     "output_type": "stream",
     "text": [
      "+--------------------------------+------------------------+---------------------+--------------+\n|customer_id                     |customer_zip_code_prefix|customer_city        |customer_state|\n+--------------------------------+------------------------+---------------------+--------------+\n|4e7b3e00288586ebd08712fdd0374a03|1151                    |Sao Paulo            |SP            |\n|fd826e7cf63160e536e0908c76c3f441|4534                    |Sao Paulo            |SP            |\n|41e9548a0f8a774ff63837fa26f9839d|5019                    |Sao Paulo            |SP            |\n|91489087a2f86dd3476f0d949946aea2|6112                    |Osasco               |SP            |\n|b2b6027bc5c5109e529d4dc6358b12c3|8775                    |Mogi Das Cruzes      |SP            |\n|18955e83d337fd6b2def6b18a428ac77|9790                    |Sao Bernardo Do Campo|SP            |\n|208954ebe4665c5b2392ff5b25e918c2|9812                    |Sao Bernardo Do Campo|SP            |\n|4f2d8ab171c80ec8364f7c12e35b23ad|13056                   |Campinas             |SP            |\n|7324ecb0ff143f561193d22bea7d63fb|13302                   |Itu                  |SP            |\n|17acafdbb192d45b5d7f4c8ae536bd0b|13412                   |Piracicaba           |SP            |\n+--------------------------------+------------------------+---------------------+--------------+\nonly showing top 10 rows\n\nUnique cities before cleaning: 4119\nUnique cities after cleaning: 4088\n+--------------------------+\n|customer_city             |\n+--------------------------+\n|Embu-Guacu                |\n|Santa Clara D'Oeste       |\n|Xangri-La                 |\n|Biritiba-Mirim            |\n|Ceara-Mirim               |\n|Quilometro 14 Do Mutum    |\n|Tanque D'Arca             |\n|Mirassol D'Oeste          |\n|Sao Joao D'Alianca        |\n|Figueiropolis D'Oeste     |\n|Entre-Ijuis               |\n|Sao Jorge D'Oeste         |\n|Santa Barbara D'Oeste     |\n|Aparecida D'Oeste         |\n|Diamante D'Oeste          |\n|Varre-Sai                 |\n|Governador Dix-Sept Rosado|\n|Mae D'Agua                |\n|Guarda-Mor                |\n|Alta Floresta D'Oeste     |\n+--------------------------+\nonly showing top 20 rows\n\n+---------------------+-----+\n|customer_city        |count|\n+---------------------+-----+\n|Sao Paulo            |15540|\n|Rio De Janeiro       |6882 |\n|Belo Horizonte       |2773 |\n|Brasilia             |2135 |\n|Curitiba             |1521 |\n|Campinas             |1444 |\n|Porto Alegre         |1379 |\n|Salvador             |1245 |\n|Guarulhos            |1189 |\n|Sao Bernardo Do Campo|938  |\n|Niteroi              |849  |\n|Santo Andre          |797  |\n|Osasco               |746  |\n|Santos               |713  |\n|Goiania              |692  |\n|Sao Jose Dos Campos  |691  |\n|Fortaleza            |654  |\n|Sorocaba             |633  |\n|Recife               |613  |\n|Florianopolis        |570  |\n+---------------------+-----+\nonly showing top 20 rows\n\nTotal number of unique cities: 4088\n+-----------------------------+-----+\n|customer_city                |count|\n+-----------------------------+-----+\n|Chorrocho                    |1    |\n|Alagoa Grande                |1    |\n|Sao Joao Do Sobrado          |1    |\n|Pianco                       |1    |\n|Purilandia                   |1    |\n|Agua Doce                    |1    |\n|Almino Afonso                |1    |\n|Sao Sebastiao De Campos      |1    |\n|Brotas De Macaubas           |1    |\n|Machados                     |1    |\n|Lagoa De Velhos              |1    |\n|Sao Jose Do Inhacora         |1    |\n|Farol                        |1    |\n|Mirante Da Serra             |1    |\n|Arroio Trinta                |1    |\n|Angelina                     |1    |\n|Sao Vitor                    |1    |\n|Sao Domingos Do Araguaia     |1    |\n|Comercinho                   |1    |\n|Sao Goncalo Do Rio Das Pedras|1    |\n+-----------------------------+-----+\nonly showing top 20 rows\n\n+---------------------+-----+----------+\n|customer_city        |count|percentage|\n+---------------------+-----+----------+\n|Sao Paulo            |15540|15.63     |\n|Rio De Janeiro       |6882 |6.92      |\n|Belo Horizonte       |2773 |2.79      |\n|Brasilia             |2135 |2.15      |\n|Curitiba             |1521 |1.53      |\n|Campinas             |1444 |1.45      |\n|Porto Alegre         |1379 |1.39      |\n|Salvador             |1245 |1.25      |\n|Guarulhos            |1189 |1.20      |\n|Sao Bernardo Do Campo|938  |0.94      |\n|Niteroi              |849  |0.85      |\n|Santo Andre          |797  |0.80      |\n|Osasco               |746  |0.75      |\n|Santos               |713  |0.72      |\n|Goiania              |692  |0.70      |\n|Sao Jose Dos Campos  |691  |0.69      |\n|Fortaleza            |654  |0.66      |\n|Sorocaba             |633  |0.64      |\n|Recife               |613  |0.62      |\n|Florianopolis        |570  |0.57      |\n+---------------------+-----+----------+\nonly showing top 20 rows\n\n"
     ]
    }
   ],
   "source": [
    "from pyspark.sql.functions import col, when, upper, initcap, length\n",
    "from pyspark.sql.functions import col, count, desc\n",
    "from pyspark.sql.functions import sum, format_number\n",
    "\n",
    "# Select relevant columns from geolocation DataFrame\n",
    "geolocation_cities = geolocation.select(\n",
    "    col(\"geolocation_zip_code_prefix\"),\n",
    "    col(\"geolocation_city_final\").alias(\"geolocation_city\")\n",
    ").distinct()\n",
    "\n",
    "# Merge customers with geolocation data\n",
    "merged_customers = customers.join(\n",
    "    geolocation_cities,\n",
    "    customers.customer_zip_code_prefix == geolocation_cities.geolocation_zip_code_prefix,\n",
    "    \"left\"\n",
    ")\n",
    "\n",
    "# Update customer_city with geolocation_city, falling back to the original customer_city if no match\n",
    "merged_customers = merged_customers.withColumn(\n",
    "    \"customer_city_cleaned\",\n",
    "    when(col(\"geolocation_city\").isNotNull(), col(\"geolocation_city\"))\n",
    "    .otherwise(initcap(col(\"customer_city\")))\n",
    ")\n",
    "\n",
    "# Drop unnecessary columns and rename the new column\n",
    "cleaned_customers = merged_customers.select(\n",
    "    \"customer_id\",\n",
    "    \"customer_unique_id\",\n",
    "    \"customer_zip_code_prefix\",\n",
    "    col(\"customer_city_cleaned\").alias(\"customer_city\"),\n",
    "    \"customer_state\"\n",
    ")\n",
    "\n",
    "# Show the results\n",
    "cleaned_customers.select(\"customer_id\", \"customer_zip_code_prefix\", \"customer_city\", \"customer_state\").show(10, truncate=False)\n",
    "\n",
    "# Count of unique cities before and after cleaning\n",
    "print(\"Unique cities before cleaning:\", customers.select(\"customer_city\").distinct().count())\n",
    "print(\"Unique cities after cleaning:\", cleaned_customers.select(\"customer_city\").distinct().count())\n",
    "\n",
    "# Optional: Check for any remaining inconsistencies\n",
    "def filtered_city(df, column_name):\n",
    "    return df.filter((col(column_name).rlike(\"[^a-zA-Z ]\")) | (length(col(column_name)) < 3)).select(column_name).distinct()\n",
    "\n",
    "filtered_city(cleaned_customers, \"customer_city\").show(truncate=False)\n",
    "\n",
    "# Perform value counts on customer_city\n",
    "city_counts = cleaned_customers.groupBy(\"customer_city\") \\\n",
    "    .agg(count(\"*\").alias(\"count\")) \\\n",
    "    .orderBy(desc(\"count\"))\n",
    "\n",
    "# Show the top 20 most frequent cities\n",
    "city_counts.show(20, truncate=False)\n",
    "\n",
    "# Get the total number of unique cities\n",
    "total_cities = city_counts.count()\n",
    "print(f\"Total number of unique cities: {total_cities}\")\n",
    "\n",
    "# Optional: If you want to see the least frequent cities as well\n",
    "city_counts.orderBy(\"count\").show(20, truncate=False)\n",
    "\n",
    "# Calculate total number of customers\n",
    "total_customers = cleaned_customers.count()\n",
    "\n",
    "# Add percentage column\n",
    "city_counts_with_percentage = city_counts.withColumn(\n",
    "    \"percentage\", \n",
    "    format_number((col(\"count\") / total_customers) * 100, 2)\n",
    ")\n",
    "\n",
    "# Show results with percentage\n",
    "city_counts_with_percentage.show(20, truncate=False)\n"
   ]
  },
  {
   "cell_type": "code",
   "execution_count": 0,
   "metadata": {
    "application/vnd.databricks.v1+cell": {
     "cellMetadata": {
      "byteLimit": 2048000,
      "rowLimit": 10000
     },
     "inputWidgets": {},
     "nuid": "f7ab183c-4c2b-4bd2-a10e-16cd24fdb604",
     "showTitle": false,
     "tableResultSettingsMap": {},
     "title": ""
    }
   },
   "outputs": [],
   "source": [
    "# Save file\n",
    "customers.toPandas().to_csv(\"/dbfs/mnt/olist-store-data/transformed-data/olist_customers_dataset.csv\", index=False)"
   ]
  },
  {
   "cell_type": "code",
   "execution_count": 0,
   "metadata": {
    "application/vnd.databricks.v1+cell": {
     "cellMetadata": {
      "byteLimit": 2048000,
      "rowLimit": 10000
     },
     "inputWidgets": {},
     "nuid": "2b5de2b6-d29a-44e3-8d1a-92c7eb35798f",
     "showTitle": false,
     "tableResultSettingsMap": {},
     "title": ""
    }
   },
   "outputs": [
    {
     "output_type": "stream",
     "name": "stdout",
     "output_type": "stream",
     "text": [
      "+--------------------+-------------+--------------------+--------------------+-------------------+------+-------------+\n|            order_id|order_item_id|          product_id|           seller_id|shipping_limit_date| price|freight_value|\n+--------------------+-------------+--------------------+--------------------+-------------------+------+-------------+\n|00010242fe8c5a6d1...|            1|4244733e06e7ecb49...|48436dade18ac8b2b...|2017-09-19 09:45:35|  58.9|        13.29|\n|00018f77f2f0320c5...|            1|e5f2d52b802189ee6...|dd7ddc04e1b6c2c61...|2017-05-03 11:05:13| 239.9|        19.93|\n|000229ec398224ef6...|            1|c777355d18b72b67a...|5b51032eddd242adc...|2018-01-18 14:48:30| 199.0|        17.87|\n|00024acbcdf0a6daa...|            1|7634da152a4610f15...|9d7a1d34a50524090...|2018-08-15 10:10:18| 12.99|        12.79|\n|00042b26cf59d7ce6...|            1|ac6c3623068f30de0...|df560393f3a51e745...|2017-02-13 13:57:51| 199.9|        18.14|\n|00048cc3ae777c65d...|            1|ef92defde845ab845...|6426d21aca402a131...|2017-05-23 03:55:27|  21.9|        12.69|\n|00054e8431b9d7675...|            1|8d4f2bb7e93e6710a...|7040e82f899a04d1b...|2017-12-14 12:10:31|  19.9|        11.85|\n|000576fe39319847c...|            1|557d850972a7d6f79...|5996cddab893a4652...|2018-07-10 12:30:45| 810.0|        70.75|\n|0005a1a1728c9d785...|            1|310ae3c140ff94b03...|a416b6a846a117243...|2018-03-26 18:31:29|145.95|        11.65|\n|0005f50442cb953dc...|            1|4535b0e1091c278df...|ba143b05f0110f0dc...|2018-07-06 14:10:56| 53.99|         11.4|\n|00061f2a7bc09da83...|            1|d63c1011f49d98b97...|cc419e0650a3c5ba7...|2018-03-29 22:28:09| 59.99|         8.88|\n|00063b381e2406b52...|            1|f177554ea93259a5b...|8602a61d680a10a82...|2018-07-31 17:30:39|  45.0|        12.98|\n|0006ec9db01a64e59...|            1|99a4788cb24856965...|4a3ca9315b744ce9f...|2018-07-26 17:24:20|  74.0|        23.32|\n|0008288aa423d2a3f...|            1|368c6c730842d7801...|1f50f920176fa81da...|2018-02-21 02:55:52|  49.9|        13.37|\n|0008288aa423d2a3f...|            2|368c6c730842d7801...|1f50f920176fa81da...|2018-02-21 02:55:52|  49.9|        13.37|\n|0009792311464db53...|            1|8cab8abac59158715...|530ec6109d11eaaf8...|2018-08-17 12:15:10|  99.9|        27.65|\n|0009c9a17f916a706...|            1|3f27ac8e699df3d30...|fcb5ace8bcc92f757...|2018-05-02 09:31:53| 639.0|        11.34|\n|000aed2e25dbad2f9...|            1|4fa33915031a8cde0...|fe2032dab1a61af87...|2018-05-16 20:57:03| 144.0|         8.77|\n|000c3e6612759851c...|            1|b50c950aba0dcead2...|218d46b86c1881d02...|2017-08-21 03:33:13|  99.0|        13.71|\n|000e562887b1f2006...|            1|5ed9eaf534f6936b5...|8cbac7e12637ed9cf...|2018-02-28 12:08:37|  25.0|        16.11|\n+--------------------+-------------+--------------------+--------------------+-------------------+------+-------------+\nonly showing top 20 rows\n\nroot\n |-- order_id: string (nullable = true)\n |-- order_item_id: integer (nullable = true)\n |-- product_id: string (nullable = true)\n |-- seller_id: string (nullable = true)\n |-- shipping_limit_date: timestamp (nullable = true)\n |-- price: double (nullable = true)\n |-- freight_value: double (nullable = true)\n\n"
     ]
    }
   ],
   "source": [
    "order_items.show()\n",
    "order_items.printSchema()"
   ]
  },
  {
   "cell_type": "code",
   "execution_count": 0,
   "metadata": {
    "application/vnd.databricks.v1+cell": {
     "cellMetadata": {
      "byteLimit": 2048000,
      "rowLimit": 10000
     },
     "inputWidgets": {},
     "nuid": "9d8aa6f1-d8bc-4ea2-8c58-1efb5d91ed05",
     "showTitle": false,
     "tableResultSettingsMap": {},
     "title": ""
    }
   },
   "outputs": [
    {
     "output_type": "stream",
     "name": "stdout",
     "output_type": "stream",
     "text": [
      "+--------+-------------+----------+---------+-------------------+-----+-------------+\n|order_id|order_item_id|product_id|seller_id|shipping_limit_date|price|freight_value|\n+--------+-------------+----------+---------+-------------------+-----+-------------+\n|       0|            0|         0|        0|                  0|    0|            0|\n+--------+-------------+----------+---------+-------------------+-----+-------------+\n\n+--------+-------------+----------+---------+-------------------+-----+-------------+\n|order_id|order_item_id|product_id|seller_id|shipping_limit_date|price|freight_value|\n+--------+-------------+----------+---------+-------------------+-----+-------------+\n+--------+-------------+----------+---------+-------------------+-----+-------------+\n\nNumber of zero freight_value entries: 383\n+--------+-------------+----------+---------+-------------------+-----+-------------+-----+\n|order_id|order_item_id|product_id|seller_id|shipping_limit_date|price|freight_value|count|\n+--------+-------------+----------+---------+-------------------+-----+-------------+-----+\n+--------+-------------+----------+---------+-------------------+-----+-------------+-----+\n\nNumber of duplicate rows: 0\n+--------------------+-------------+--------------------+--------------------+-------------------+------+-------------+\n|            order_id|order_item_id|          product_id|           seller_id|shipping_limit_date| price|freight_value|\n+--------------------+-------------+--------------------+--------------------+-------------------+------+-------------+\n|00010242fe8c5a6d1...|            1|4244733e06e7ecb49...|48436dade18ac8b2b...|2017-09-19 09:45:35|  58.9|        13.29|\n|00018f77f2f0320c5...|            1|e5f2d52b802189ee6...|dd7ddc04e1b6c2c61...|2017-05-03 11:05:13| 239.9|        19.93|\n|000229ec398224ef6...|            1|c777355d18b72b67a...|5b51032eddd242adc...|2018-01-18 14:48:30| 199.0|        17.87|\n|00024acbcdf0a6daa...|            1|7634da152a4610f15...|9d7a1d34a50524090...|2018-08-15 10:10:18| 12.99|        12.79|\n|00042b26cf59d7ce6...|            1|ac6c3623068f30de0...|df560393f3a51e745...|2017-02-13 13:57:51| 199.9|        18.14|\n|00048cc3ae777c65d...|            1|ef92defde845ab845...|6426d21aca402a131...|2017-05-23 03:55:27|  21.9|        12.69|\n|00054e8431b9d7675...|            1|8d4f2bb7e93e6710a...|7040e82f899a04d1b...|2017-12-14 12:10:31|  19.9|        11.85|\n|000576fe39319847c...|            1|557d850972a7d6f79...|5996cddab893a4652...|2018-07-10 12:30:45| 810.0|        70.75|\n|0005a1a1728c9d785...|            1|310ae3c140ff94b03...|a416b6a846a117243...|2018-03-26 18:31:29|145.95|        11.65|\n|0005f50442cb953dc...|            1|4535b0e1091c278df...|ba143b05f0110f0dc...|2018-07-06 14:10:56| 53.99|         11.4|\n|00061f2a7bc09da83...|            1|d63c1011f49d98b97...|cc419e0650a3c5ba7...|2018-03-29 22:28:09| 59.99|         8.88|\n|00063b381e2406b52...|            1|f177554ea93259a5b...|8602a61d680a10a82...|2018-07-31 17:30:39|  45.0|        12.98|\n|0006ec9db01a64e59...|            1|99a4788cb24856965...|4a3ca9315b744ce9f...|2018-07-26 17:24:20|  74.0|        23.32|\n|0008288aa423d2a3f...|            1|368c6c730842d7801...|1f50f920176fa81da...|2018-02-21 02:55:52|  49.9|        13.37|\n|0008288aa423d2a3f...|            2|368c6c730842d7801...|1f50f920176fa81da...|2018-02-21 02:55:52|  49.9|        13.37|\n|0009792311464db53...|            1|8cab8abac59158715...|530ec6109d11eaaf8...|2018-08-17 12:15:10|  99.9|        27.65|\n|0009c9a17f916a706...|            1|3f27ac8e699df3d30...|fcb5ace8bcc92f757...|2018-05-02 09:31:53| 639.0|        11.34|\n|000aed2e25dbad2f9...|            1|4fa33915031a8cde0...|fe2032dab1a61af87...|2018-05-16 20:57:03| 144.0|         8.77|\n|000c3e6612759851c...|            1|b50c950aba0dcead2...|218d46b86c1881d02...|2017-08-21 03:33:13|  99.0|        13.71|\n|000e562887b1f2006...|            1|5ed9eaf534f6936b5...|8cbac7e12637ed9cf...|2018-02-28 12:08:37|  25.0|        16.11|\n+--------------------+-------------+--------------------+--------------------+-------------------+------+-------------+\nonly showing top 20 rows\n\n+-------+------------------+------------------+\n|summary|             price|     freight_value|\n+-------+------------------+------------------+\n|  count|            112650|            112650|\n|   mean|120.65373901464986|19.990319928982817|\n| stddev|183.63392805025924| 15.80640541229708|\n|    min|              0.85|               0.0|\n|    max|            6735.0|            409.68|\n+-------+------------------+------------------+\n\n+--------+-------------+----------+---------+-------------------+-----+-------------+\n|order_id|order_item_id|product_id|seller_id|shipping_limit_date|price|freight_value|\n+--------+-------------+----------+---------+-------------------+-----+-------------+\n+--------+-------------+----------+---------+-------------------+-----+-------------+\n\n+-------------+-----+\n|order_item_id|count|\n+-------------+-----+\n|            1|98666|\n|            2| 9803|\n|            3| 2287|\n|            4|  965|\n|            5|  460|\n|            6|  256|\n|            7|   58|\n|            8|   36|\n|            9|   28|\n|           10|   25|\n|           11|   17|\n|           12|   13|\n|           13|    8|\n|           14|    7|\n|           15|    5|\n|           16|    3|\n|           17|    3|\n|           18|    3|\n|           19|    3|\n|           20|    3|\n+-------------+-----+\nonly showing top 20 rows\n\n+-------------+-----+\n|freight_value|count|\n+-------------+-----+\n|          0.0|  383|\n|         0.01|    4|\n|         0.02|    3|\n|         0.03|   14|\n|         0.04|    4|\n|         0.05|    4|\n|         0.06|   11|\n|         0.07|    1|\n|         0.08|   12|\n|         0.09|    6|\n|          0.1|    3|\n|         0.11|    3|\n|         0.12|    3|\n|         0.13|    2|\n|         0.14|   11|\n|         0.15|    6|\n|          0.2|    1|\n|         0.21|    3|\n|         0.25|    1|\n|         0.28|    2|\n+-------------+-----+\nonly showing top 20 rows\n\n"
     ]
    }
   ],
   "source": [
    "from pyspark.sql.functions import col, sum\n",
    "from pyspark.sql.functions import current_timestamp\n",
    "\n",
    "# Check for missing values in each column\n",
    "missing_values = order_items.select(\n",
    "    *[sum(col(c).isNull().cast(\"int\")).alias(c) for c in order_items.columns]\n",
    ")\n",
    "missing_values.show()\n",
    "\n",
    "# Check for negative or zero values in price and freight_value\n",
    "order_items.filter((col(\"price\") <= 0) | (col(\"freight_value\") < 0)).show()\n",
    "\n",
    "# Count zero freight_value entries\n",
    "zero_freight_count = order_items.filter(col(\"freight_value\") == 0).count()\n",
    "print(f\"Number of zero freight_value entries: {zero_freight_count}\")\n",
    "\n",
    "# Check for duplicate rows\n",
    "duplicates = order_items.groupBy(order_items.columns).count().filter(col(\"count\") > 1)\n",
    "duplicates.show()\n",
    "\n",
    "# Count duplicates\n",
    "duplicate_count = duplicates.count()\n",
    "print(f\"Number of duplicate rows: {duplicate_count}\")\n",
    "\n",
    "# Check for invalid shipping_limit_date\n",
    "invalid_dates = order_items.filter(col(\"shipping_limit_date\") < current_timestamp())\n",
    "invalid_dates.show()\n",
    "\n",
    "# Describe numeric columns\n",
    "order_items.select(\"price\", \"freight_value\").describe().show()\n",
    "\n",
    "# Check for unusually high prices or freight values\n",
    "outliers = order_items.filter((col(\"price\") > 10000) | (col(\"freight_value\") > 1000))\n",
    "outliers.show()\n",
    "\n",
    "# Distribution of order_item_id (e.g., number of items per order)\n",
    "order_items.groupBy(\"order_item_id\").count().orderBy(\"order_item_id\").show()\n",
    "\n",
    "# Distribution of freight_value\n",
    "order_items.groupBy(\"freight_value\").count().orderBy(\"freight_value\").show()"
   ]
  },
  {
   "cell_type": "code",
   "execution_count": 0,
   "metadata": {
    "application/vnd.databricks.v1+cell": {
     "cellMetadata": {
      "byteLimit": 2048000,
      "rowLimit": 10000
     },
     "inputWidgets": {},
     "nuid": "1822f1d9-540f-45dc-ab28-301163a27cf8",
     "showTitle": false,
     "tableResultSettingsMap": {},
     "title": ""
    }
   },
   "outputs": [],
   "source": [
    "# Save file\n",
    "order_items.toPandas().to_csv(\"/dbfs/mnt/olist-store-data/transformed-data/olist_order_items_dataset.csv\", index=False)"
   ]
  },
  {
   "cell_type": "code",
   "execution_count": 0,
   "metadata": {
    "application/vnd.databricks.v1+cell": {
     "cellMetadata": {},
     "inputWidgets": {},
     "nuid": "bd090438-73ab-4943-9156-761ec5de174a",
     "showTitle": false,
     "tableResultSettingsMap": {},
     "title": ""
    }
   },
   "outputs": [],
   "source": [
    "# Flag zero freight values in the analysis:\n",
    "from pyspark.sql.functions import when\n",
    "\n",
    "order_items = order_items.withColumn(\"is_free_shipping\", when(col(\"freight_value\") == 0, True).otherwise(False))\n",
    "\n",
    "# Investigate very low freight values:\n",
    "low_freight = order_items.filter(col(\"freight_value\") > 0).filter(col(\"freight_value\") < 1)\n",
    "low_freight.show()\n",
    "\n",
    "# Verify high-value orders:\n",
    "high_value_orders = order_items.filter(col(\"price\") > 5000)\n",
    "high_value_orders.show()"
   ]
  },
  {
   "cell_type": "code",
   "execution_count": 0,
   "metadata": {
    "application/vnd.databricks.v1+cell": {
     "cellMetadata": {
      "byteLimit": 2048000,
      "rowLimit": 10000
     },
     "inputWidgets": {},
     "nuid": "24c9f5b4-4e3c-4a32-ad18-392a5e92b572",
     "showTitle": false,
     "tableResultSettingsMap": {},
     "title": ""
    }
   },
   "outputs": [
    {
     "output_type": "stream",
     "name": "stdout",
     "output_type": "stream",
     "text": [
      "+--------------------+------------------+------------+--------------------+-------------+\n|            order_id|payment_sequential|payment_type|payment_installments|payment_value|\n+--------------------+------------------+------------+--------------------+-------------+\n|b81ef226f3fe1789b...|                 1| credit_card|                   8|        99.33|\n|a9810da82917af2d9...|                 1| credit_card|                   1|        24.39|\n|25e8ea4e93396b6fa...|                 1| credit_card|                   1|        65.71|\n|ba78997921bbcdc13...|                 1| credit_card|                   8|       107.78|\n|42fdf880ba16b47b5...|                 1| credit_card|                   2|       128.45|\n|298fcdf1f73eb413e...|                 1| credit_card|                   2|        96.12|\n|771ee386b001f0620...|                 1| credit_card|                   1|        81.16|\n|3d7239c394a212faa...|                 1| credit_card|                   3|        51.84|\n|1f78449c87a54faf9...|                 1| credit_card|                   6|       341.09|\n|0573b5e23cbd79800...|                 1|      boleto|                   1|        51.95|\n|d88e0d5fa41661ce0...|                 1| credit_card|                   8|       188.73|\n|2480f727e869fdeb3...|                 1| credit_card|                   1|        141.9|\n|616105c9352a9668c...|                 1| credit_card|                   1|        75.78|\n|cf95215a722f3ebf2...|                 1| credit_card|                   5|       102.66|\n|769214176682788a9...|                 1| credit_card|                   4|       105.28|\n|12e5cfe0e4716b59a...|                 1| credit_card|                  10|       157.45|\n|61059985a6fc0ad64...|                 1| credit_card|                   1|       132.04|\n|79da3f5fe31ad1e45...|                 1| credit_card|                   1|        98.94|\n|8ac09207f415d55ac...|                 1| credit_card|                   4|       244.15|\n|b2349a3f20dfbeef6...|                 1| credit_card|                   3|       136.71|\n+--------------------+------------------+------------+--------------------+-------------+\nonly showing top 20 rows\n\nroot\n |-- order_id: string (nullable = true)\n |-- payment_sequential: integer (nullable = true)\n |-- payment_type: string (nullable = true)\n |-- payment_installments: integer (nullable = true)\n |-- payment_value: double (nullable = true)\n\n"
     ]
    }
   ],
   "source": [
    "order_payments.show()\n",
    "order_payments.printSchema()"
   ]
  },
  {
   "cell_type": "code",
   "execution_count": 0,
   "metadata": {
    "application/vnd.databricks.v1+cell": {
     "cellMetadata": {
      "byteLimit": 2048000,
      "rowLimit": 10000
     },
     "inputWidgets": {},
     "nuid": "9641d158-08ea-4699-b317-381ed42a2905",
     "showTitle": false,
     "tableResultSettingsMap": {},
     "title": ""
    }
   },
   "outputs": [
    {
     "output_type": "stream",
     "name": "stdout",
     "output_type": "stream",
     "text": [
      "+--------+------------------+------------+--------------------+-------------+\n|order_id|payment_sequential|payment_type|payment_installments|payment_value|\n+--------+------------------+------------+--------------------+-------------+\n|       0|                 0|           0|                   0|            0|\n+--------+------------------+------------+--------------------+-------------+\n\nZero installments: 0\nZero payment value: 6\nNumber of duplicate rows: 0\n+-------+--------------------+------------------+------------+--------------------+------------------+\n|summary|            order_id|payment_sequential|payment_type|payment_installments|     payment_value|\n+-------+--------------------+------------------+------------+--------------------+------------------+\n|  count|              103881|            103881|      103881|              103881|            103881|\n|   mean|                NULL|1.0926637209884387|        NULL|  2.8534573213580923|154.10598174833905|\n| stddev|                NULL|0.7065893925844031|        NULL|   2.687067712549769| 217.4975070606382|\n|    min|00010242fe8c5a6d1...|                 1|      Boleto|                   1|               0.0|\n|    max|fffe41c64501cc87c...|                29|     Voucher|                  24|          13664.08|\n+-------+--------------------+------------------+------------+--------------------+------------------+\n\n+------------+-----+\n|payment_type|count|\n+------------+-----+\n| Credit Card|76793|\n|     Voucher| 5775|\n|  Debit Card| 1529|\n|      Boleto|19784|\n+------------+-----+\n\n+--------------------+-----+\n|payment_installments|count|\n+--------------------+-----+\n|                   1|52543|\n|                   2|12413|\n|                   3|10461|\n|                   4| 7098|\n|                   5| 5239|\n|                   6| 3920|\n|                   7| 1626|\n|                   8| 4268|\n|                   9|  644|\n|                  10| 5328|\n|                  11|   23|\n|                  12|  133|\n|                  13|   16|\n|                  14|   15|\n|                  15|   74|\n|                  16|    5|\n|                  17|    8|\n|                  18|   27|\n|                  20|   17|\n|                  21|    3|\n+--------------------+-----+\nonly showing top 20 rows\n\nCleaned dataset summary:\n+-------+--------------------+------------------+------------+--------------------+------------------+\n|summary|            order_id|payment_sequential|payment_type|payment_installments|     payment_value|\n+-------+--------------------+------------------+------------+--------------------+------------------+\n|  count|              103881|            103881|      103881|              103881|            103881|\n|   mean|                NULL|1.0926637209884387|        NULL|  2.8534573213580923|154.10598174833905|\n| stddev|                NULL|0.7065893925844031|        NULL|   2.687067712549769| 217.4975070606382|\n|    min|00010242fe8c5a6d1...|                 1|      Boleto|                   1|               0.0|\n|    max|fffe41c64501cc87c...|                29|     Voucher|                  24|          13664.08|\n+-------+--------------------+------------------+------------+--------------------+------------------+\n\n\nUnique payment types:\n+------------+-----+\n|payment_type|count|\n+------------+-----+\n| Credit Card|76793|\n|     Voucher| 5775|\n|  Debit Card| 1529|\n|      Boleto|19784|\n+------------+-----+\n\n\nPayment installments distribution:\n+--------------------+-----+\n|payment_installments|count|\n+--------------------+-----+\n|                   1|52543|\n|                   2|12413|\n|                   3|10461|\n|                   4| 7098|\n|                   5| 5239|\n|                   6| 3920|\n|                   7| 1626|\n|                   8| 4268|\n|                   9|  644|\n|                  10| 5328|\n|                  11|   23|\n|                  12|  133|\n|                  13|   16|\n|                  14|   15|\n|                  15|   74|\n|                  16|    5|\n|                  17|    8|\n|                  18|   27|\n|                  20|   17|\n|                  21|    3|\n+--------------------+-----+\nonly showing top 20 rows\n\n\nSample of cleaned data:\n+--------------------+------------------+------------+--------------------+-------------+\n|            order_id|payment_sequential|payment_type|payment_installments|payment_value|\n+--------------------+------------------+------------+--------------------+-------------+\n|b81ef226f3fe1789b...|                 1| Credit Card|                   8|        99.33|\n|a9810da82917af2d9...|                 1| Credit Card|                   1|        24.39|\n|25e8ea4e93396b6fa...|                 1| Credit Card|                   1|        65.71|\n|ba78997921bbcdc13...|                 1| Credit Card|                   8|       107.78|\n|42fdf880ba16b47b5...|                 1| Credit Card|                   2|       128.45|\n+--------------------+------------------+------------+--------------------+-------------+\nonly showing top 5 rows\n\n"
     ]
    }
   ],
   "source": [
    "from pyspark.sql import SparkSession\n",
    "from pyspark.sql.functions import col, sum, regexp_replace, initcap, round\n",
    "\n",
    "# Create a Spark session\n",
    "spark = SparkSession.builder.appName(\"Order Payments Cleaning\").getOrCreate()\n",
    "\n",
    "# Check for missing values in each column\n",
    "missing_values = order_payments.select([\n",
    "    sum(col(c).isNull().cast(\"int\")).alias(c) for c in order_payments.columns\n",
    "])\n",
    "missing_values.show()\n",
    "\n",
    "# Count zero values in relevant columns\n",
    "zero_installments = order_payments.filter(col(\"payment_installments\") == 0).count()\n",
    "zero_payment_value = order_payments.filter(col(\"payment_value\") == 0).count()\n",
    "print(f\"Zero installments: {zero_installments}\")\n",
    "print(f\"Zero payment value: {zero_payment_value}\")\n",
    "\n",
    "# Remove rows with zero installments or zero payment value (except for defined conditions)\n",
    "order_payments = order_payments.filter(\n",
    "    (col(\"payment_installments\") != 0) &\n",
    "    ~((col(\"payment_value\") == 0) & (col(\"payment_type\") == \"not_defined\"))\n",
    ")\n",
    "\n",
    "# Standardize payment_type values\n",
    "order_payments = order_payments.withColumn(\n",
    "    \"payment_type\",\n",
    "    initcap(regexp_replace(col(\"payment_type\"), \"_\", \" \"))\n",
    ")\n",
    "\n",
    "# Check for duplicate rows\n",
    "duplicates = order_payments.groupBy(order_payments.columns).count().filter(col(\"count\") > 1)\n",
    "print(f\"Number of duplicate rows: {duplicates.count()}\")\n",
    "\n",
    "# Show summary statistics\n",
    "order_payments.describe().show()\n",
    "\n",
    "# Check unique values in payment_type and distribution of payment_installments\n",
    "order_payments.groupBy(\"payment_type\").count().show()\n",
    "order_payments.groupBy(\"payment_installments\").count().orderBy(\"payment_installments\").show()\n",
    "\n",
    "# Final cleaning steps\n",
    "order_payments = order_payments.filter(\n",
    "    (col(\"payment_value\") > 0) |\n",
    "    ((col(\"payment_value\") == 0) & (col(\"payment_type\") == \"Voucher\"))\n",
    ")\n",
    "\n",
    "# Ensure payment_sequential and payment_installments are positive integers\n",
    "order_payments = order_payments.filter(\n",
    "    (col(\"payment_sequential\") > 0) & \n",
    "    (col(\"payment_installments\") > 0)\n",
    ")\n",
    "\n",
    "# Round payment_value to 2 decimal places\n",
    "order_payments = order_payments.withColumn(\"payment_value\", round(col(\"payment_value\"), 2))\n",
    "\n",
    "# Verify the cleaned dataset\n",
    "print(\"Cleaned dataset summary:\")\n",
    "order_payments.describe().show()\n",
    "print(\"\\nUnique payment types:\")\n",
    "order_payments.groupBy(\"payment_type\").count().show()\n",
    "print(\"\\nPayment installments distribution:\")\n",
    "order_payments.groupBy(\"payment_installments\").count().orderBy(\"payment_installments\").show()\n",
    "print(\"\\nSample of cleaned data:\")\n",
    "order_payments.show(5)"
   ]
  },
  {
   "cell_type": "code",
   "execution_count": 0,
   "metadata": {
    "application/vnd.databricks.v1+cell": {
     "cellMetadata": {
      "byteLimit": 2048000,
      "rowLimit": 10000
     },
     "inputWidgets": {},
     "nuid": "c6048d7b-aa46-4636-8066-37554fd27ffa",
     "showTitle": false,
     "tableResultSettingsMap": {},
     "title": ""
    }
   },
   "outputs": [],
   "source": [
    "# Save file\n",
    "order_payments.toPandas().to_csv(\"/dbfs/mnt/olist-store-data/transformed-data/olist_order_payments_dataset.csv\", index=False)"
   ]
  },
  {
   "cell_type": "code",
   "execution_count": 0,
   "metadata": {
    "application/vnd.databricks.v1+cell": {
     "cellMetadata": {
      "byteLimit": 2048000,
      "rowLimit": 10000
     },
     "inputWidgets": {},
     "nuid": "69a8e3e7-d139-40f7-a3f1-8fe212dd2b02",
     "showTitle": false,
     "tableResultSettingsMap": {},
     "title": ""
    }
   },
   "outputs": [
    {
     "output_type": "stream",
     "name": "stdout",
     "output_type": "stream",
     "text": [
      "+--------------------+--------------------+------------+--------------------+----------------------+--------------------+-----------------------+\n|           review_id|            order_id|review_score|review_comment_title|review_comment_message|review_creation_date|review_answer_timestamp|\n+--------------------+--------------------+------------+--------------------+----------------------+--------------------+-----------------------+\n|7bc2406110b926393...|73fc7af87114b3971...|           4|                NULL|                  NULL| 2018-01-18 00:00:00|    2018-01-18 21:46:59|\n|80e641a11e56f04c1...|a548910a1c6147796...|           5|                NULL|                  NULL| 2018-03-10 00:00:00|    2018-03-11 03:05:13|\n|228ce5500dc1d8e02...|f9e4b658b201a9f2e...|           5|                NULL|                  NULL| 2018-02-17 00:00:00|    2018-02-18 14:36:24|\n|e64fb393e7b32834b...|658677c97b385a9be...|           5|                NULL|  Recebi bem antes ...| 2017-04-21 00:00:00|    2017-04-21 22:02:06|\n|f7c4243c7fe1938f1...|8e6bfb81e283fa7e4...|           5|                NULL|  Parabéns lojas la...| 2018-03-01 00:00:00|    2018-03-02 10:26:53|\n|15197aa66ff4d0650...|b18dcdf73be663668...|           1|                NULL|                  NULL| 2018-04-13 00:00:00|    2018-04-16 00:39:37|\n|07f9bee5d1b850860...|e48aa0d2dcec3a2e8...|           5|                NULL|                  NULL| 2017-07-16 00:00:00|    2017-07-18 19:30:34|\n|7c6400515c67679fb...|c31a859e34e3adac2...|           5|                NULL|                  NULL| 2018-08-14 00:00:00|    2018-08-14 21:36:06|\n|a3f6f7f6f433de0ae...|9c214ac970e842735...|           5|                NULL|                  NULL| 2017-05-17 00:00:00|    2017-05-18 12:05:37|\n|8670d52e15e00043a...|b9bf720beb4ab3728...|           4|           recomendo|  aparelho eficient...| 2018-05-22 00:00:00|    2018-05-23 16:45:47|\n|c9cfd2d5ab5911836...|cdf9aa68e72324eeb...|           5|                NULL|                  NULL| 2017-12-23 00:00:00|    2017-12-26 14:36:03|\n|96052551d87e5f62e...|3d374c9e46530bb5e...|           5|                NULL|                  NULL| 2017-12-19 00:00:00|    2017-12-20 10:25:22|\n|4b49719c8a200003f...|9d6f15f95d01e79bd...|           4|                NULL|  Mas um pouco ,tra...|                NULL|                   NULL|\n|,2018-02-16 00:00...|                NULL|        NULL|                NULL|                  NULL|                NULL|                   NULL|\n|23f75a37effc35d9a...|2eaf8e099d871cd5c...|           4|                NULL|                  NULL| 2018-03-28 00:00:00|    2018-03-30 15:10:55|\n|9a0abbb668bafb95a...|d7bd0e4afdf94846e...|           3|                NULL|                  NULL| 2017-04-30 00:00:00|    2017-05-03 00:02:22|\n|3948b09f7c818e2d8...|e51478e7e277a8374...|           5|     Super recomendo|  Vendedor confiáve...| 2018-05-23 00:00:00|    2018-05-24 03:00:01|\n|9314d6f9799f5bfba...|0dacf04c5ad59fd5a...|           2|                NULL|  GOSTARIA DE SABER...| 2018-01-18 00:00:00|    2018-01-20 21:25:45|\n|8e15a274d95600fa1...|ff1581e08b3011021...|           5|                NULL|                  NULL| 2018-03-24 00:00:00|    2018-03-26 15:58:32|\n|fdbdb2629a7cde0f6...|70a752414a13d09cc...|           3|                NULL|                  NULL| 2017-09-29 00:00:00|    2017-10-02 01:12:49|\n+--------------------+--------------------+------------+--------------------+----------------------+--------------------+-----------------------+\nonly showing top 20 rows\n\nroot\n |-- review_id: string (nullable = true)\n |-- order_id: string (nullable = true)\n |-- review_score: string (nullable = true)\n |-- review_comment_title: string (nullable = true)\n |-- review_comment_message: string (nullable = true)\n |-- review_creation_date: string (nullable = true)\n |-- review_answer_timestamp: string (nullable = true)\n\n"
     ]
    }
   ],
   "source": [
    "order_reviews.show()\n",
    "order_reviews.printSchema()"
   ]
  },
  {
   "cell_type": "code",
   "execution_count": 0,
   "metadata": {
    "application/vnd.databricks.v1+cell": {
     "cellMetadata": {
      "byteLimit": 2048000,
      "rowLimit": 10000
     },
     "inputWidgets": {},
     "nuid": "c4169fb3-3e64-4740-8b6f-28bda6b55e85",
     "showTitle": false,
     "tableResultSettingsMap": {},
     "title": ""
    }
   },
   "outputs": [
    {
     "output_type": "stream",
     "name": "stdout",
     "output_type": "stream",
     "text": [
      "+---------+--------+------------+--------------------+----------------------+--------------------+-----------------------+\n|review_id|order_id|review_score|review_comment_title|review_comment_message|review_creation_date|review_answer_timestamp|\n+---------+--------+------------+--------------------+----------------------+--------------------+-----------------------+\n|        1|    2236|        2380|               92157|                 63079|                8764|                   8785|\n+---------+--------+------------+--------------------+----------------------+--------------------+-----------------------+\n\nNumber of duplicate rows: 77\n+-------+------------------+--------------------+------------------+\n|summary|         review_id|            order_id|      review_score|\n+-------+------------------+--------------------+------------------+\n|  count|            104161|              101926|             99227|\n|   mean|               4.5|                 0.0| 4.087204087597126|\n| stddev|0.7071067811865476|                 0.0|1.3750046423971847|\n|    min|                 \"|                    |                 0|\n|    max|     🤙🏼👏🏼👏🏼\"|visando sempre o ...|                90|\n+-------+------------------+--------------------+------------------+\n\nroot\n |-- review_id: string (nullable = true)\n |-- order_id: string (nullable = true)\n |-- review_score: integer (nullable = true)\n |-- review_creation_date: timestamp (nullable = true)\n |-- review_answer_timestamp: timestamp (nullable = true)\n\n+------------+-----+\n|review_score|count|\n+------------+-----+\n|        NULL| 4935|\n|           0|    2|\n|           1|11424|\n|           2| 3151|\n|           3| 8179|\n|           4|19142|\n|           5|57328|\n|          90|    1|\n+------------+-----+\n\nCleaned dataset summary:\n+-------+--------------------+--------------------+------------------+\n|summary|           review_id|            order_id|      review_score|\n+-------+--------------------+--------------------+------------------+\n|  count|               95307|               95307|             95307|\n|   mean|                NULL|                NULL| 4.113160628285436|\n| stddev|                NULL|                NULL|1.3244890004255805|\n|    min|0001239bc1de2e33c...|00010242fe8c5a6d1...|                 1|\n|    max|fffefe7a48d22f7b3...|fffe41c64501cc87c...|                 5|\n+-------+--------------------+--------------------+------------------+\n\n\nSample of cleaned data:\n+--------------------+--------------------+------------+--------------------+-----------------------+\n|           review_id|            order_id|review_score|review_creation_date|review_answer_timestamp|\n+--------------------+--------------------+------------+--------------------+-----------------------+\n|7bc2406110b926393...|73fc7af87114b3971...|           4| 2018-01-18 00:00:00|    2018-01-18 21:46:59|\n|80e641a11e56f04c1...|a548910a1c6147796...|           5| 2018-03-10 00:00:00|    2018-03-11 03:05:13|\n|228ce5500dc1d8e02...|f9e4b658b201a9f2e...|           5| 2018-02-17 00:00:00|    2018-02-18 14:36:24|\n|e64fb393e7b32834b...|658677c97b385a9be...|           5| 2017-04-21 00:00:00|    2017-04-21 22:02:06|\n|f7c4243c7fe1938f1...|8e6bfb81e283fa7e4...|           5| 2018-03-01 00:00:00|    2018-03-02 10:26:53|\n+--------------------+--------------------+------------+--------------------+-----------------------+\nonly showing top 5 rows\n\n+---------+--------+------------+--------------------+-----------------------+\n|review_id|order_id|review_score|review_creation_date|review_answer_timestamp|\n+---------+--------+------------+--------------------+-----------------------+\n|        0|       0|           0|                   0|                      0|\n+---------+--------+------------+--------------------+-----------------------+\n\n"
     ]
    }
   ],
   "source": [
    "from pyspark.sql import SparkSession\n",
    "from pyspark.sql.functions import col, sum, to_timestamp, current_date\n",
    "from pyspark.sql.types import IntegerType\n",
    "\n",
    "# Create a Spark session\n",
    "spark = SparkSession.builder.appName(\"Order Reviews Cleaning\").getOrCreate()\n",
    "\n",
    "# Check for missing values in each column\n",
    "missing_values = order_reviews.select([\n",
    "    sum(col(c).isNull().cast(\"int\")).alias(c) for c in order_reviews.columns\n",
    "])\n",
    "missing_values.show()\n",
    "\n",
    "# Drop unnecessary columns and convert types in a single pass\n",
    "order_reviews = (\n",
    "    order_reviews\n",
    "    .drop(\"review_comment_title\", \"review_comment_message\")\n",
    "    .withColumn(\"review_score\", col(\"review_score\").cast(IntegerType()))\n",
    "    .withColumn(\"review_creation_date\", to_timestamp(col(\"review_creation_date\")))\n",
    "    .withColumn(\"review_answer_timestamp\", to_timestamp(col(\"review_answer_timestamp\")))\n",
    ")\n",
    "\n",
    "# Check for and count duplicate rows\n",
    "duplicates = order_reviews.groupby(order_reviews.columns).count().filter(col(\"count\") > 1)\n",
    "duplicate_count = duplicates.count()\n",
    "print(f\"Number of duplicate rows: {duplicate_count}\")\n",
    "\n",
    "# Verify data types and show summary statistics\n",
    "order_reviews.describe().show()\n",
    "order_reviews.printSchema()\n",
    "\n",
    "# Check unique values in review_score\n",
    "order_reviews.groupBy(\"review_score\").count().orderBy(\"review_score\").show()\n",
    "\n",
    "# Final cleaning steps: apply filters for valid review scores and date checks\n",
    "order_reviews = order_reviews.filter(\n",
    "    (col(\"review_score\").between(1, 5)) &\n",
    "    (col(\"review_creation_date\") <= current_date()) &\n",
    "    (col(\"review_answer_timestamp\") >= col(\"review_creation_date\"))\n",
    ")\n",
    "\n",
    "# Verify the cleaned dataset\n",
    "print(\"Cleaned dataset summary:\")\n",
    "order_reviews.describe().show()\n",
    "print(\"\\nSample of cleaned data:\")\n",
    "order_reviews.show(5)\n",
    "\n",
    "# Check for any remaining NULL values in any column\n",
    "null_counts = order_reviews.select([\n",
    "    sum(col(c).isNull().cast(\"int\")).alias(c) for c in order_reviews.columns\n",
    "])\n",
    "null_counts.show()"
   ]
  },
  {
   "cell_type": "code",
   "execution_count": 0,
   "metadata": {
    "application/vnd.databricks.v1+cell": {
     "cellMetadata": {
      "byteLimit": 2048000,
      "rowLimit": 10000
     },
     "inputWidgets": {},
     "nuid": "2dea3b46-e539-4330-b664-1b775c09c565",
     "showTitle": false,
     "tableResultSettingsMap": {},
     "title": ""
    }
   },
   "outputs": [],
   "source": [
    "# Save file\n",
    "order_reviews.toPandas().to_csv(\"/dbfs/mnt/olist-store-data/transformed-data/olist_order_reviews_dataset.csv\", index=False)"
   ]
  },
  {
   "cell_type": "code",
   "execution_count": 0,
   "metadata": {
    "application/vnd.databricks.v1+cell": {
     "cellMetadata": {
      "byteLimit": 2048000,
      "rowLimit": 10000
     },
     "inputWidgets": {},
     "nuid": "97f00e70-d877-4100-99de-91d21642daa5",
     "showTitle": false,
     "tableResultSettingsMap": {},
     "title": ""
    }
   },
   "outputs": [
    {
     "output_type": "stream",
     "name": "stdout",
     "output_type": "stream",
     "text": [
      "+--------------------+--------------------+------------+------------------------+-------------------+----------------------------+-----------------------------+-----------------------------+\n|            order_id|         customer_id|order_status|order_purchase_timestamp|  order_approved_at|order_delivered_carrier_date|order_delivered_customer_date|order_estimated_delivery_date|\n+--------------------+--------------------+------------+------------------------+-------------------+----------------------------+-----------------------------+-----------------------------+\n|e481f51cbdc54678b...|9ef432eb625129730...|   delivered|     2017-10-02 10:56:33|2017-10-02 11:07:15|         2017-10-04 19:55:00|          2017-10-10 21:25:13|          2017-10-18 00:00:00|\n|53cdb2fc8bc7dce0b...|b0830fb4747a6c6d2...|   delivered|     2018-07-24 20:41:37|2018-07-26 03:24:27|         2018-07-26 14:31:00|          2018-08-07 15:27:45|          2018-08-13 00:00:00|\n|47770eb9100c2d0c4...|41ce2a54c0b03bf34...|   delivered|     2018-08-08 08:38:49|2018-08-08 08:55:23|         2018-08-08 13:50:00|          2018-08-17 18:06:29|          2018-09-04 00:00:00|\n|949d5b44dbf5de918...|f88197465ea7920ad...|   delivered|     2017-11-18 19:28:06|2017-11-18 19:45:59|         2017-11-22 13:39:59|          2017-12-02 00:28:42|          2017-12-15 00:00:00|\n|ad21c59c0840e6cb8...|8ab97904e6daea886...|   delivered|     2018-02-13 21:18:39|2018-02-13 22:20:29|         2018-02-14 19:46:34|          2018-02-16 18:17:02|          2018-02-26 00:00:00|\n|a4591c265e18cb1dc...|503740e9ca751ccdd...|   delivered|     2017-07-09 21:57:05|2017-07-09 22:10:13|         2017-07-11 14:58:04|          2017-07-26 10:57:55|          2017-08-01 00:00:00|\n|136cce7faa42fdb2c...|ed0271e0b7da060a3...|    invoiced|     2017-04-11 12:22:08|2017-04-13 13:25:17|                        NULL|                         NULL|          2017-05-09 00:00:00|\n|6514b8ad8028c9f2c...|9bdf08b4b3b52b552...|   delivered|     2017-05-16 13:10:30|2017-05-16 13:22:11|         2017-05-22 10:07:46|          2017-05-26 12:55:51|          2017-06-07 00:00:00|\n|76c6e866289321a7c...|f54a9f0e6b351c431...|   delivered|     2017-01-23 18:29:09|2017-01-25 02:50:47|         2017-01-26 14:16:31|          2017-02-02 14:08:10|          2017-03-06 00:00:00|\n|e69bfb5eb88e0ed6a...|31ad1d1b63eb99624...|   delivered|     2017-07-29 11:55:02|2017-07-29 12:05:32|         2017-08-10 19:45:24|          2017-08-16 17:14:30|          2017-08-23 00:00:00|\n|e6ce16cb79ec1d90b...|494dded5b201313c6...|   delivered|     2017-05-16 19:41:10|2017-05-16 19:50:18|         2017-05-18 11:40:40|          2017-05-29 11:18:31|          2017-06-07 00:00:00|\n|34513ce0c4fab462a...|7711cf624183d843a...|   delivered|     2017-07-13 19:58:11|2017-07-13 20:10:08|         2017-07-14 18:43:29|          2017-07-19 14:04:48|          2017-08-08 00:00:00|\n|82566a660a982b15f...|d3e3b74c766bc6214...|   delivered|     2018-06-07 10:06:19|2018-06-09 03:13:12|         2018-06-11 13:29:00|          2018-06-19 12:05:52|          2018-07-18 00:00:00|\n|5ff96c15d0b717ac6...|19402a48fe860416a...|   delivered|     2018-07-25 17:44:10|2018-07-25 17:55:14|         2018-07-26 13:16:00|          2018-07-30 15:52:25|          2018-08-08 00:00:00|\n|432aaf21d85167c2c...|3df704f53d3f1d481...|   delivered|     2018-03-01 14:14:28|2018-03-01 15:10:47|         2018-03-02 21:09:20|          2018-03-12 23:36:26|          2018-03-21 00:00:00|\n|dcb36b511fcac050b...|3b6828a50ffe54694...|   delivered|     2018-06-07 19:03:12|2018-06-12 23:31:02|         2018-06-11 14:54:00|          2018-06-21 15:34:32|          2018-07-04 00:00:00|\n|403b97836b0c04a62...|738b086814c6fcc74...|   delivered|     2018-01-02 19:00:43|2018-01-02 19:09:04|         2018-01-03 18:19:09|          2018-01-20 01:38:59|          2018-02-06 00:00:00|\n|116f0b09343b49556...|3187789bec9909876...|   delivered|     2017-12-26 23:41:31|2017-12-26 23:50:22|         2017-12-28 18:33:05|          2018-01-08 22:36:36|          2018-01-29 00:00:00|\n|85ce859fd6dc634de...|059f7fc5719c7da6c...|   delivered|     2017-11-21 00:03:41|2017-11-21 00:14:22|         2017-11-23 21:32:26|          2017-11-27 18:28:00|          2017-12-11 00:00:00|\n|83018ec114eee8641...|7f8c8b9c2ae27bf33...|   delivered|     2017-10-26 15:54:26|2017-10-26 16:08:14|         2017-10-26 21:46:53|          2017-11-08 22:22:00|          2017-11-23 00:00:00|\n+--------------------+--------------------+------------+------------------------+-------------------+----------------------------+-----------------------------+-----------------------------+\nonly showing top 20 rows\n\nroot\n |-- order_id: string (nullable = true)\n |-- customer_id: string (nullable = true)\n |-- order_status: string (nullable = true)\n |-- order_purchase_timestamp: timestamp (nullable = true)\n |-- order_approved_at: timestamp (nullable = true)\n |-- order_delivered_carrier_date: timestamp (nullable = true)\n |-- order_delivered_customer_date: timestamp (nullable = true)\n |-- order_estimated_delivery_date: timestamp (nullable = true)\n\n"
     ]
    }
   ],
   "source": [
    "orders.show()\n",
    "orders.printSchema()"
   ]
  },
  {
   "cell_type": "code",
   "execution_count": 0,
   "metadata": {
    "application/vnd.databricks.v1+cell": {
     "cellMetadata": {
      "byteLimit": 2048000,
      "rowLimit": 10000
     },
     "inputWidgets": {},
     "nuid": "0a9e87c9-0d84-404a-baf7-481e99c84479",
     "showTitle": false,
     "tableResultSettingsMap": {},
     "title": ""
    }
   },
   "outputs": [
    {
     "output_type": "stream",
     "name": "stdout",
     "output_type": "stream",
     "text": [
      "+--------+-----------+------------+------------------------+-----------------+----------------------------+-----------------------------+-----------------------------+\n|order_id|customer_id|order_status|order_purchase_timestamp|order_approved_at|order_delivered_carrier_date|order_delivered_customer_date|order_estimated_delivery_date|\n+--------+-----------+------------+------------------------+-----------------+----------------------------+-----------------------------+-----------------------------+\n|       0|          0|           0|                       0|              160|                        1783|                         2965|                            0|\n+--------+-----------+------------+------------------------+-----------------+----------------------------+-----------------------------+-----------------------------+\n\nNumber of duplicate rows: 0\nCleaned dataset summary:\n+-------+--------------------+--------------------+------------+\n|summary|            order_id|         customer_id|order_status|\n+-------+--------------------+--------------------+------------+\n|  count|               98044|               98044|       98044|\n|   mean|                NULL|                NULL|        NULL|\n| stddev|                NULL|                NULL|        NULL|\n|    min|00010242fe8c5a6d1...|00012a2ce6f8dcda2...|    Approved|\n|    max|fffe41c64501cc87c...|ffffe8b65bbe3087b...| Unavailable|\n+-------+--------------------+--------------------+------------+\n\n\nUnique order statuses:\n+------------+-----+\n|order_status|count|\n+------------+-----+\n|     Shipped| 1098|\n|  Processing|  301|\n|    Invoiced|  314|\n|     Created|    5|\n|    Canceled|  625|\n|   Delivered|95090|\n| Unavailable|  609|\n|    Approved|    2|\n+------------+-----+\n\n\nData types:\nroot\n |-- order_id: string (nullable = true)\n |-- customer_id: string (nullable = true)\n |-- order_status: string (nullable = true)\n |-- order_purchase_timestamp: timestamp (nullable = true)\n |-- order_approved_at: timestamp (nullable = true)\n |-- order_delivered_carrier_date: timestamp (nullable = true)\n |-- order_delivered_customer_date: timestamp (nullable = true)\n |-- order_estimated_delivery_date: timestamp (nullable = true)\n\n\nSample of cleaned data:\n+--------------------+--------------------+------------+------------------------+-------------------+----------------------------+-----------------------------+-----------------------------+\n|            order_id|         customer_id|order_status|order_purchase_timestamp|  order_approved_at|order_delivered_carrier_date|order_delivered_customer_date|order_estimated_delivery_date|\n+--------------------+--------------------+------------+------------------------+-------------------+----------------------------+-----------------------------+-----------------------------+\n|e481f51cbdc54678b...|9ef432eb625129730...|   Delivered|     2017-10-02 10:56:33|2017-10-02 11:07:15|         2017-10-04 19:55:00|          2017-10-10 21:25:13|          2017-10-18 00:00:00|\n|53cdb2fc8bc7dce0b...|b0830fb4747a6c6d2...|   Delivered|     2018-07-24 20:41:37|2018-07-26 03:24:27|         2018-07-26 14:31:00|          2018-08-07 15:27:45|          2018-08-13 00:00:00|\n|47770eb9100c2d0c4...|41ce2a54c0b03bf34...|   Delivered|     2018-08-08 08:38:49|2018-08-08 08:55:23|         2018-08-08 13:50:00|          2018-08-17 18:06:29|          2018-09-04 00:00:00|\n|949d5b44dbf5de918...|f88197465ea7920ad...|   Delivered|     2017-11-18 19:28:06|2017-11-18 19:45:59|         2017-11-22 13:39:59|          2017-12-02 00:28:42|          2017-12-15 00:00:00|\n|ad21c59c0840e6cb8...|8ab97904e6daea886...|   Delivered|     2018-02-13 21:18:39|2018-02-13 22:20:29|         2018-02-14 19:46:34|          2018-02-16 18:17:02|          2018-02-26 00:00:00|\n+--------------------+--------------------+------------+------------------------+-------------------+----------------------------+-----------------------------+-----------------------------+\nonly showing top 5 rows\n\n"
     ]
    }
   ],
   "source": [
    "from pyspark.sql import SparkSession\n",
    "from pyspark.sql.functions import col, sum, initcap, to_timestamp\n",
    "\n",
    "# Create a Spark session\n",
    "spark = SparkSession.builder.appName(\"Orders Data Cleaning\").getOrCreate()\n",
    "\n",
    "# Check for missing values in each column\n",
    "missing_values = orders.select([\n",
    "    sum(col(c).isNull().cast(\"int\")).alias(c) for c in orders.columns\n",
    "])\n",
    "missing_values.show()\n",
    "\n",
    "# Filter out rows with missing values in critical columns\n",
    "critical_columns = [\"order_id\", \"customer_id\", \"order_status\", \"order_purchase_timestamp\"]\n",
    "orders = orders.filter(\n",
    "    col(\"order_id\").isNotNull() &\n",
    "    col(\"customer_id\").isNotNull() &\n",
    "    col(\"order_status\").isNotNull() &\n",
    "    col(\"order_purchase_timestamp\").isNotNull()\n",
    ")\n",
    "\n",
    "# Standardize order_status\n",
    "orders = orders.withColumn(\"order_status\", initcap(col(\"order_status\")))\n",
    "\n",
    "# Ensure all date columns are in timestamp format\n",
    "date_columns = [\n",
    "    \"order_purchase_timestamp\",\n",
    "    \"order_approved_at\",\n",
    "    \"order_delivered_carrier_date\",\n",
    "    \"order_delivered_customer_date\",\n",
    "    \"order_estimated_delivery_date\"\n",
    "]\n",
    "\n",
    "for column in date_columns:\n",
    "    orders = orders.withColumn(column, to_timestamp(col(column)))\n",
    "\n",
    "# Check for duplicate rows and count them\n",
    "duplicate_count = orders.groupBy(orders.columns).count().filter(col(\"count\") > 1).count()\n",
    "print(f\"Number of duplicate rows: {duplicate_count}\")\n",
    "\n",
    "# Verify data consistency: ensure logical order of dates\n",
    "orders = orders.filter(\n",
    "    (col(\"order_approved_at\").isNull() | (col(\"order_approved_at\") >= col(\"order_purchase_timestamp\"))) &\n",
    "    (col(\"order_delivered_carrier_date\").isNull() | (col(\"order_delivered_carrier_date\") >= col(\"order_approved_at\"))) &\n",
    "    (col(\"order_delivered_customer_date\").isNull() | (col(\"order_delivered_customer_date\") >= col(\"order_delivered_carrier_date\"))) &\n",
    "    (col(\"order_estimated_delivery_date\") >= col(\"order_purchase_timestamp\"))\n",
    ")\n",
    "\n",
    "# Verify the cleaned dataset\n",
    "print(\"Cleaned dataset summary:\")\n",
    "orders.describe().show()\n",
    "\n",
    "print(\"\\nUnique order statuses:\")\n",
    "orders.groupBy(\"order_status\").count().show()\n",
    "\n",
    "print(\"\\nData types:\")\n",
    "orders.printSchema()\n",
    "\n",
    "print(\"\\nSample of cleaned data:\")\n",
    "orders.show(5)"
   ]
  },
  {
   "cell_type": "code",
   "execution_count": 0,
   "metadata": {
    "application/vnd.databricks.v1+cell": {
     "cellMetadata": {
      "byteLimit": 2048000,
      "rowLimit": 10000
     },
     "inputWidgets": {},
     "nuid": "c584ec78-d3b4-4f12-a7ea-56f1e9c85957",
     "showTitle": false,
     "tableResultSettingsMap": {},
     "title": ""
    }
   },
   "outputs": [],
   "source": [
    "# Save file\n",
    "orders.toPandas().to_csv(\"/dbfs/mnt/olist-store-data/transformed-data/olist_orders_dataset.csv\", index=False)"
   ]
  },
  {
   "cell_type": "code",
   "execution_count": 0,
   "metadata": {
    "application/vnd.databricks.v1+cell": {
     "cellMetadata": {
      "byteLimit": 2048000,
      "rowLimit": 10000
     },
     "inputWidgets": {},
     "nuid": "29f3b4ed-d0d8-4527-b0d9-f0b2469802f0",
     "showTitle": false,
     "tableResultSettingsMap": {},
     "title": ""
    }
   },
   "outputs": [
    {
     "output_type": "stream",
     "name": "stdout",
     "output_type": "stream",
     "text": [
      "+--------------------+---------------------+-------------------+--------------------------+------------------+----------------+-----------------+-----------------+----------------+\n|          product_id|product_category_name|product_name_lenght|product_description_lenght|product_photos_qty|product_weight_g|product_length_cm|product_height_cm|product_width_cm|\n+--------------------+---------------------+-------------------+--------------------------+------------------+----------------+-----------------+-----------------+----------------+\n|1e9e8ef04dbcff454...|           perfumaria|                 40|                       287|                 1|             225|               16|               10|              14|\n|3aa071139cb16b67c...|                artes|                 44|                       276|                 1|            1000|               30|               18|              20|\n|96bd76ec8810374ed...|        esporte_lazer|                 46|                       250|                 1|             154|               18|                9|              15|\n|cef67bcfe19066a93...|                bebes|                 27|                       261|                 1|             371|               26|                4|              26|\n|9dc1a7de274444849...| utilidades_domest...|                 37|                       402|                 4|             625|               20|               17|              13|\n|41d3672d4792049fa...| instrumentos_musi...|                 60|                       745|                 1|             200|               38|                5|              11|\n|732bd381ad09e530f...|           cool_stuff|                 56|                      1272|                 4|           18350|               70|               24|              44|\n|2548af3e6e77a690c...|     moveis_decoracao|                 56|                       184|                 2|             900|               40|                8|              40|\n|37cc742be07708b53...|     eletrodomesticos|                 57|                       163|                 1|             400|               27|               13|              17|\n|8c92109888e8cdf9d...|           brinquedos|                 36|                      1156|                 1|             600|               17|               10|              12|\n|14aa47b7fe5c25522...|      cama_mesa_banho|                 54|                       630|                 1|            1100|               16|               10|              16|\n|03b63c5fc16691530...|                bebes|                 49|                       728|                 4|            7150|               50|               19|              45|\n|cf55509ea8edaaac1...| instrumentos_musi...|                 43|                      1827|                 3|             250|               17|                7|              17|\n|7bb6f29c2be577161...|     moveis_decoracao|                 51|                      2083|                 2|             600|               68|               11|              13|\n|eb31436580a610f20...| construcao_ferram...|                 59|                      1602|                 4|             200|               17|                7|              17|\n|3bb7f144022e67327...|        esporte_lazer|                 22|                      3021|                 1|             800|               16|                2|              11|\n|6a2fb4dd53d2cdb88...|           perfumaria|                 39|                       346|                 2|             400|               27|                5|              20|\n|a1b71017a84f92fd8...| informatica_acess...|                 59|                       636|                 1|             900|               40|               15|              20|\n|a0736b92e52f6cead...|     moveis_decoracao|                 56|                       296|                 2|            1700|              100|                7|              15|\n|f53103a77d9cf245e...|      cama_mesa_banho|                 52|                       206|                 1|             500|               16|               10|              16|\n+--------------------+---------------------+-------------------+--------------------------+------------------+----------------+-----------------+-----------------+----------------+\nonly showing top 20 rows\n\nroot\n |-- product_id: string (nullable = true)\n |-- product_category_name: string (nullable = true)\n |-- product_name_lenght: integer (nullable = true)\n |-- product_description_lenght: integer (nullable = true)\n |-- product_photos_qty: integer (nullable = true)\n |-- product_weight_g: integer (nullable = true)\n |-- product_length_cm: integer (nullable = true)\n |-- product_height_cm: integer (nullable = true)\n |-- product_width_cm: integer (nullable = true)\n\n"
     ]
    }
   ],
   "source": [
    "products.show()\n",
    "products.printSchema()"
   ]
  },
  {
   "cell_type": "code",
   "execution_count": 0,
   "metadata": {
    "application/vnd.databricks.v1+cell": {
     "cellMetadata": {
      "byteLimit": 2048000,
      "rowLimit": 10000
     },
     "inputWidgets": {},
     "nuid": "485728c9-5391-496a-b971-7fccb16060ed",
     "showTitle": false,
     "tableResultSettingsMap": {},
     "title": ""
    }
   },
   "outputs": [
    {
     "output_type": "stream",
     "name": "stdout",
     "output_type": "stream",
     "text": [
      "+----------+---------------------+-------------------+--------------------------+------------------+----------------+-----------------+-----------------+----------------+\n|product_id|product_category_name|product_name_lenght|product_description_lenght|product_photos_qty|product_weight_g|product_length_cm|product_height_cm|product_width_cm|\n+----------+---------------------+-------------------+--------------------------+------------------+----------------+-----------------+-----------------+----------------+\n|         0|                    0|                  0|                       610|               610|               2|                2|                2|               2|\n+----------+---------------------+-------------------+--------------------------+------------------+----------------+-----------------+-----------------+----------------+\n\nNumber of duplicate rows: 0\n+-------+--------------------+---------------------+-------------------+--------------------------+------------------+------------------+------------------+------------------+------------------+\n|summary|          product_id|product_category_name|product_name_lenght|product_description_lenght|product_photos_qty|  product_weight_g| product_length_cm| product_height_cm|  product_width_cm|\n+-------+--------------------+---------------------+-------------------+--------------------------+------------------+------------------+------------------+------------------+------------------+\n|  count|               32951|                32951|              32951|                     32951|             32951|             32951|             32951|             32951|             32951|\n|   mean|                NULL|                 NULL| 48.523656338199146|         768.2094321871871|2.1669752056083276|2276.4617765773423| 30.81472489454038|16.937422233012654|23.196534247822523|\n| stddev|                NULL|                 NULL| 10.156154550913683|         629.6635765687056|1.7280626079215418| 4281.888156093356|16.914005380499564|13.637174673283134|12.078706535444137|\n|    min|00066f42aeeb9f300...| agro industria e ...|                5.0|                       4.0|               1.0|               2.0|               7.0|               2.0|               6.0|\n|    max|fffe9eeff12fcbd74...| utilidades domest...|               76.0|                    3992.0|              20.0|           40425.0|             105.0|             105.0|             118.0|\n+-------+--------------------+---------------------+-------------------+--------------------------+------------------+------------------+------------------+------------------+------------------+\n\n+---------------------+-----+\n|product_category_name|count|\n+---------------------+-----+\n|      cama mesa banho| 3029|\n|        esporte lazer| 2867|\n|     moveis decoracao| 2657|\n|         beleza saude| 2444|\n| utilidades domest...| 2335|\n|           automotivo| 1900|\n| informatica acess...| 1639|\n|           brinquedos| 1411|\n|   relogios presentes| 1329|\n|            telefonia| 1134|\n+---------------------+-----+\nonly showing top 10 rows\n\nCleaned dataset summary:\n+-------+--------------------+---------------------+-------------------+--------------------------+------------------+------------------+------------------+------------------+------------------+------------------+\n|summary|          product_id|product_category_name|product_name_length|product_description_length|product_photos_qty|  product_weight_g| product_length_cm| product_height_cm|  product_width_cm|product_volume_cm3|\n+-------+--------------------+---------------------+-------------------+--------------------------+------------------+------------------+------------------+------------------+------------------+------------------+\n|  count|               32951|                32951|              32951|                     32951|             32951|             32951|             32951|             32951|             32951|             32951|\n|   mean|                NULL|                 NULL| 48.523656338199146|         768.2094321871871|2.1669752056083276|2276.4617765773423| 30.81472489454038|16.937422233012654|23.196534247822523| 16563.48584261479|\n| stddev|                NULL|                 NULL| 10.156154550913683|         629.6635765687056|1.7280626079215418| 4281.888156093356|16.914005380499564|13.637174673283134|12.078706535444137| 27056.33408894298|\n|    min|00066f42aeeb9f300...| agro industria e ...|                5.0|                       4.0|               1.0|               2.0|               7.0|               2.0|               6.0|             168.0|\n|    max|fffe9eeff12fcbd74...| utilidades domest...|               76.0|                    3992.0|              20.0|           40425.0|             105.0|             105.0|             118.0|          296208.0|\n+-------+--------------------+---------------------+-------------------+--------------------------+------------------+------------------+------------------+------------------+------------------+------------------+\n\n\nData types:\nroot\n |-- product_id: string (nullable = true)\n |-- product_category_name: string (nullable = false)\n |-- product_name_length: double (nullable = true)\n |-- product_description_length: double (nullable = true)\n |-- product_photos_qty: double (nullable = true)\n |-- product_weight_g: double (nullable = true)\n |-- product_length_cm: double (nullable = true)\n |-- product_height_cm: double (nullable = true)\n |-- product_width_cm: double (nullable = true)\n |-- product_volume_cm3: double (nullable = true)\n\n\nSample of cleaned data:\n+--------------------+---------------------+-------------------+--------------------------+------------------+----------------+-----------------+-----------------+----------------+------------------+\n|          product_id|product_category_name|product_name_length|product_description_length|product_photos_qty|product_weight_g|product_length_cm|product_height_cm|product_width_cm|product_volume_cm3|\n+--------------------+---------------------+-------------------+--------------------------+------------------+----------------+-----------------+-----------------+----------------+------------------+\n|1e9e8ef04dbcff454...|           perfumaria|               40.0|                     287.0|               1.0|           225.0|             16.0|             10.0|            14.0|            2240.0|\n|3aa071139cb16b67c...|                artes|               44.0|                     276.0|               1.0|          1000.0|             30.0|             18.0|            20.0|           10800.0|\n|96bd76ec8810374ed...|        esporte lazer|               46.0|                     250.0|               1.0|           154.0|             18.0|              9.0|            15.0|            2430.0|\n|cef67bcfe19066a93...|                bebes|               27.0|                     261.0|               1.0|           371.0|             26.0|              4.0|            26.0|            2704.0|\n|9dc1a7de274444849...| utilidades domest...|               37.0|                     402.0|               4.0|           625.0|             20.0|             17.0|            13.0|            4420.0|\n+--------------------+---------------------+-------------------+--------------------------+------------------+----------------+-----------------+-----------------+----------------+------------------+\nonly showing top 5 rows\n\n"
     ]
    }
   ],
   "source": [
    "from pyspark.sql import SparkSession\n",
    "from pyspark.sql.functions import col, sum, when, lower, regexp_replace, round\n",
    "\n",
    "# Create a Spark session\n",
    "spark = SparkSession.builder.appName(\"Products Data Cleaning\").getOrCreate()\n",
    "\n",
    "# Check for missing values in each column\n",
    "missing_values = products.select([sum(col(c).isNull().cast(\"int\")).alias(c) for c in products.columns])\n",
    "missing_values.show()\n",
    "\n",
    "# Handle missing values\n",
    "# Fill missing values in product_category_name with 'Unknown'\n",
    "products = products.fillna({'product_category_name': 'Unknown'})\n",
    "\n",
    "# For numeric columns, fill with median values\n",
    "numeric_columns = [\n",
    "    'product_name_lenght',  \n",
    "    'product_description_lenght',  \n",
    "    'product_photos_qty', \n",
    "    'product_weight_g', \n",
    "    'product_length_cm', \n",
    "    'product_height_cm', \n",
    "    'product_width_cm'\n",
    "]\n",
    "\n",
    "# Fill missing values for numeric columns with their median\n",
    "for col_name in numeric_columns:\n",
    "    median_value = products.approxQuantile(col_name, [0.5], 0.01)[0]\n",
    "    products = products.fillna({col_name: median_value})\n",
    "\n",
    "# Check for and handle zero values in numeric columns\n",
    "for col_name in numeric_columns:\n",
    "    # Replace zeros with median value\n",
    "    median_value = products.filter(col(col_name) > 0).approxQuantile(col_name, [0.5], 0.01)[0]\n",
    "    products = products.withColumn(col_name, when(col(col_name) == 0, median_value).otherwise(col(col_name)))\n",
    "\n",
    "# Standardize product_category_name\n",
    "products = products.withColumn('product_category_name', \n",
    "                               lower(regexp_replace(col('product_category_name'), '_', ' ')))\n",
    "\n",
    "# Check for duplicate rows\n",
    "duplicate_count = products.groupBy(products.columns).count().filter(col(\"count\") > 1).count()\n",
    "print(f\"Number of duplicate rows: {duplicate_count}\")\n",
    "\n",
    "# Verify data types and show summary statistics\n",
    "products.describe().show()\n",
    "\n",
    "# Check unique values in product_category_name\n",
    "products.groupBy(\"product_category_name\").count().orderBy(\"count\", ascending=False).show(10)\n",
    "\n",
    "# Add a column for product volume\n",
    "products = products.withColumn('product_volume_cm3', \n",
    "                               round(col('product_length_cm') * col('product_height_cm') * col('product_width_cm'), 2))\n",
    "\n",
    "# Correct the misspelled column names\n",
    "products = products.withColumnRenamed(\"product_name_lenght\", \"product_name_length\") \\\n",
    "                   .withColumnRenamed(\"product_description_lenght\", \"product_description_length\")\n",
    "\n",
    "# Verify the cleaned dataset\n",
    "print(\"Cleaned dataset summary:\")\n",
    "products.describe().show()\n",
    "\n",
    "print(\"\\nData types:\")\n",
    "products.printSchema()\n",
    "\n",
    "print(\"\\nSample of cleaned data:\")\n",
    "products.show(5)"
   ]
  },
  {
   "cell_type": "code",
   "execution_count": 0,
   "metadata": {
    "application/vnd.databricks.v1+cell": {
     "cellMetadata": {
      "byteLimit": 2048000,
      "rowLimit": 10000
     },
     "inputWidgets": {},
     "nuid": "559e295a-54f3-4c30-a0af-ae73ce9941eb",
     "showTitle": false,
     "tableResultSettingsMap": {},
     "title": ""
    }
   },
   "outputs": [],
   "source": [
    "# Save file\n",
    "products.toPandas().to_csv(\"/dbfs/mnt/olist-store-data/transformed-data/olist_products_dataset.csv\", index=False)"
   ]
  },
  {
   "cell_type": "code",
   "execution_count": 0,
   "metadata": {
    "application/vnd.databricks.v1+cell": {
     "cellMetadata": {
      "byteLimit": 2048000,
      "rowLimit": 10000
     },
     "inputWidgets": {},
     "nuid": "3deb547f-ebdd-41d8-819f-6b4aa0bf0173",
     "showTitle": false,
     "tableResultSettingsMap": {},
     "title": ""
    }
   },
   "outputs": [
    {
     "output_type": "stream",
     "name": "stdout",
     "output_type": "stream",
     "text": [
      "+--------------------+----------------------+-----------------+------------+\n|           seller_id|seller_zip_code_prefix|      seller_city|seller_state|\n+--------------------+----------------------+-----------------+------------+\n|3442f8959a84dea7e...|                 13023|         campinas|          SP|\n|d1b65fc7debc3361e...|                 13844|       mogi guacu|          SP|\n|ce3ad9de960102d06...|                 20031|   rio de janeiro|          RJ|\n|c0f3eea2e14555b6f...|                  4195|        sao paulo|          SP|\n|51a04a8a6bdcb23de...|                 12914|braganca paulista|          SP|\n|c240c4061717ac180...|                 20920|   rio de janeiro|          RJ|\n|e49c26c3edfa46d22...|                 55325|           brejao|          PE|\n|1b938a7ec6ac5061a...|                 16304|        penapolis|          SP|\n|768a86e36ad6aae3d...|                  1529|        sao paulo|          SP|\n|ccc4bbb5f32a6ab2b...|                 80310|         curitiba|          PR|\n|8cb7c5ddf41f4d506...|                 75110|         anapolis|          GO|\n|a7a9b880c49781da6...|                 13530|        itirapina|          SP|\n|8bd0f31cf0a614c65...|                  1222|        sao paulo|          SP|\n|05a48cc8859962767...|                  5372|        sao paulo|          SP|\n|7b8e8ec35bad4b0ef...|                 88705|          tubarao|          SC|\n|1444c08e64d55fb3c...|                 42738| lauro de freitas|          BA|\n|166e8f1381e096519...|                 88780|         imbituba|          SC|\n|e38db885400cd35c7...|                 70740|         brasilia|          DF|\n|d2e753bb80b7d4faa...|                 45810|     porto seguro|          BA|\n|f9ec7093df3a7b346...|                  5138|        sao paulo|          SP|\n+--------------------+----------------------+-----------------+------------+\nonly showing top 20 rows\n\nroot\n |-- seller_id: string (nullable = true)\n |-- seller_zip_code_prefix: integer (nullable = true)\n |-- seller_city: string (nullable = true)\n |-- seller_state: string (nullable = true)\n\n"
     ]
    }
   ],
   "source": [
    "sellers.show()\n",
    "sellers.printSchema()"
   ]
  },
  {
   "cell_type": "code",
   "execution_count": 0,
   "metadata": {
    "application/vnd.databricks.v1+cell": {
     "cellMetadata": {
      "byteLimit": 2048000,
      "rowLimit": 10000
     },
     "inputWidgets": {},
     "nuid": "5a6bb6a0-715d-4728-87fa-386377914b7a",
     "showTitle": false,
     "tableResultSettingsMap": {},
     "title": ""
    }
   },
   "outputs": [
    {
     "output_type": "stream",
     "name": "stdout",
     "output_type": "stream",
     "text": [
      "+---------+----------------------+-----------+------------+\n|seller_id|seller_zip_code_prefix|seller_city|seller_state|\n+---------+----------------------+-----------+------------+\n|        0|                     0|          0|           0|\n+---------+----------------------+-----------+------------+\n\nNumber of duplicate rows: 0\nCleaned dataset summary:\n+-------+--------------------+----------------------+---------------+------------+\n|summary|           seller_id|seller_zip_code_prefix|    seller_city|seller_state|\n+-------+--------------------+----------------------+---------------+------------+\n|  count|                3095|                  3095|           3095|        3095|\n|   mean|                NULL|    32291.059450726978|           NULL|        NULL|\n| stddev|                NULL|    32713.453829508995|           NULL|        NULL|\n|    min|0015a82c2db000af6...|                  1001|Abadia De Goias|          AC|\n|    max|ffff564a4f9085cd2...|                 99730|          Xaxim|          SP|\n+-------+--------------------+----------------------+---------------+------------+\n\n\nUnique cities count: 555\n\nUnique states:\n+------------+\n|seller_state|\n+------------+\n|          SC|\n|          RO|\n|          PI|\n|          AM|\n|          GO|\n|          MT|\n|          SP|\n|          PB|\n|          ES|\n|          RS|\n|          MS|\n|          MG|\n|          PA|\n|          BA|\n|          SE|\n|          PE|\n|          CE|\n|          RN|\n|          RJ|\n|          MA|\n+------------+\nonly showing top 20 rows\n\n\nSample of cleaned data:\n+--------------------+----------------------+-----------------+------------+\n|           seller_id|seller_zip_code_prefix|      seller_city|seller_state|\n+--------------------+----------------------+-----------------+------------+\n|c0f3eea2e14555b6f...|                  4195|        Sao Paulo|          SP|\n|51a04a8a6bdcb23de...|                 12914|Braganca Paulista|          SP|\n|3442f8959a84dea7e...|                 13023|         Campinas|          SP|\n|d1b65fc7debc3361e...|                 13844|       Mogi Guacu|          SP|\n|ce3ad9de960102d06...|                 20031|   Rio De Janeiro|          RJ|\n+--------------------+----------------------+-----------------+------------+\nonly showing top 5 rows\n\nCities that might need further attention:\n+--------------------+\n|         seller_city|\n+--------------------+\n|          Embu-Guacu|\n|Santa Barbara D'O...|\n|     Arraial D'Ajuda|\n|          Mogi-Guacu|\n|           Ji-Parana|\n+--------------------+\n\n"
     ]
    }
   ],
   "source": [
    "from pyspark.sql import SparkSession\n",
    "from pyspark.sql.functions import col, sum, when, initcap, upper, length\n",
    "\n",
    "# Create a Spark session\n",
    "spark = SparkSession.builder.appName(\"Sellers Data Cleaning\").getOrCreate()\n",
    "\n",
    "# Check for missing values in each column\n",
    "missing_values = sellers.select([sum(col(c).isNull().cast(\"int\")).alias(c) for c in sellers.columns])\n",
    "missing_values.show()\n",
    "\n",
    "# Check for duplicate rows\n",
    "duplicates = sellers.groupBy(sellers.columns).count().filter(col(\"count\") > 1)\n",
    "duplicate_count = duplicates.count()\n",
    "print(f\"Number of duplicate rows: {duplicate_count}\")\n",
    "\n",
    "# Standardize city names using the cleaned geolocation data\n",
    "geolocation_cities = geolocation.select(\n",
    "    col(\"geolocation_zip_code_prefix\"),\n",
    "    col(\"geolocation_city_final\").alias(\"geolocation_city\")\n",
    ").distinct()\n",
    "\n",
    "# Merge sellers with geolocation data\n",
    "merged_sellers = sellers.join(\n",
    "    geolocation_cities,\n",
    "    sellers.seller_zip_code_prefix == geolocation_cities.geolocation_zip_code_prefix,\n",
    "    \"left\"\n",
    ")\n",
    "\n",
    "# Update seller_city with geolocation_city, falling back to the original seller_city if no match\n",
    "merged_sellers = merged_sellers.withColumn(\n",
    "    \"seller_city_cleaned\",\n",
    "    when(col(\"geolocation_city\").isNotNull(), col(\"geolocation_city\"))\n",
    "    .otherwise(initcap(col(\"seller_city\")))\n",
    ")\n",
    "\n",
    "# Drop unnecessary columns and rename the new column\n",
    "cleaned_sellers = merged_sellers.select(\n",
    "    \"seller_id\",\n",
    "    \"seller_zip_code_prefix\",\n",
    "    col(\"seller_city_cleaned\").alias(\"seller_city\"),\n",
    "    upper(col(\"seller_state\")).alias(\"seller_state\")\n",
    ")\n",
    "\n",
    "# Verify the cleaned dataset\n",
    "print(\"Cleaned dataset summary:\")\n",
    "cleaned_sellers.describe().show()\n",
    "\n",
    "# Get unique cities and states\n",
    "unique_cities_count = cleaned_sellers.select(\"seller_city\").distinct().count()\n",
    "print(f\"\\nUnique cities count: {unique_cities_count}\")\n",
    "\n",
    "print(\"\\nUnique states:\")\n",
    "cleaned_sellers.select(\"seller_state\").distinct().show()\n",
    "\n",
    "print(\"\\nSample of cleaned data:\")\n",
    "cleaned_sellers.show(5)\n",
    "\n",
    "# Check for any remaining inconsistencies in city names\n",
    "def filtered_city(df, column_name):\n",
    "    \"\"\"Filter DataFrame for cities that have inconsistencies.\"\"\"\n",
    "    return df.filter((col(column_name).rlike(\"[^a-zA-Z ]\")) | (length(col(column_name)) < 3)).select(column_name).distinct()\n",
    "\n",
    "# Get cities needing further attention\n",
    "filtered_cities = filtered_city(cleaned_sellers, \"seller_city\")\n",
    "print(\"Cities that might need further attention:\")\n",
    "filtered_cities.show()"
   ]
  },
  {
   "cell_type": "code",
   "execution_count": 0,
   "metadata": {
    "application/vnd.databricks.v1+cell": {
     "cellMetadata": {
      "byteLimit": 2048000,
      "rowLimit": 10000
     },
     "inputWidgets": {},
     "nuid": "9b87ee7a-98b4-4d47-ac34-7442a50c4a61",
     "showTitle": false,
     "tableResultSettingsMap": {},
     "title": ""
    }
   },
   "outputs": [],
   "source": [
    "# Save file\n",
    "sellers.toPandas().to_csv(\"/dbfs/mnt/olist-store-data/transformed-data/olist_sellers_dataset.csv\", index=False)"
   ]
  },
  {
   "cell_type": "code",
   "execution_count": 0,
   "metadata": {
    "application/vnd.databricks.v1+cell": {
     "cellMetadata": {
      "byteLimit": 2048000,
      "rowLimit": 10000
     },
     "inputWidgets": {},
     "nuid": "318c8499-10e3-4d56-9c7e-5314582b54f0",
     "showTitle": false,
     "tableResultSettingsMap": {},
     "title": ""
    }
   },
   "outputs": [
    {
     "output_type": "stream",
     "name": "stdout",
     "output_type": "stream",
     "text": [
      "+---------------------+-----------------------------+\n|product_category_name|product_category_name_english|\n+---------------------+-----------------------------+\n|         beleza_saude|                health_beauty|\n| informatica_acess...|         computers_accesso...|\n|           automotivo|                         auto|\n|      cama_mesa_banho|               bed_bath_table|\n|     moveis_decoracao|              furniture_decor|\n|        esporte_lazer|               sports_leisure|\n|           perfumaria|                    perfumery|\n| utilidades_domest...|                   housewares|\n|            telefonia|                    telephony|\n|   relogios_presentes|                watches_gifts|\n|    alimentos_bebidas|                   food_drink|\n|                bebes|                         baby|\n|            papelaria|                   stationery|\n| tablets_impressao...|         tablets_printing_...|\n|           brinquedos|                         toys|\n|       telefonia_fixa|              fixed_telephony|\n|   ferramentas_jardim|                 garden_tools|\n| fashion_bolsas_e_...|         fashion_bags_acce...|\n|      eletroportateis|             small_appliances|\n|       consoles_games|               consoles_games|\n+---------------------+-----------------------------+\nonly showing top 20 rows\n\nroot\n |-- product_category_name: string (nullable = true)\n |-- product_category_name_english: string (nullable = true)\n\n"
     ]
    }
   ],
   "source": [
    "product_category.show()\n",
    "product_category.printSchema()"
   ]
  },
  {
   "cell_type": "code",
   "execution_count": 0,
   "metadata": {
    "application/vnd.databricks.v1+cell": {
     "cellMetadata": {
      "byteLimit": 2048000,
      "rowLimit": 10000
     },
     "inputWidgets": {},
     "nuid": "5b479895-9c73-477b-848c-e4b0ce7d1f65",
     "showTitle": false,
     "tableResultSettingsMap": {},
     "title": ""
    }
   },
   "outputs": [
    {
     "output_type": "display_data",
     "data": {
      "text/html": [
       "<style scoped>\n",
       "  .table-result-container {\n",
       "    max-height: 300px;\n",
       "    overflow: auto;\n",
       "  }\n",
       "  table, th, td {\n",
       "    border: 1px solid black;\n",
       "    border-collapse: collapse;\n",
       "  }\n",
       "  th, td {\n",
       "    padding: 5px;\n",
       "  }\n",
       "  th {\n",
       "    text-align: left;\n",
       "  }\n",
       "</style><div class='table-result-container'><table class='table-result'><thead style='background-color: white'><tr><th>product_category_name</th><th>product_category_name_english</th></tr></thead><tbody><tr><td>0</td><td>0</td></tr></tbody></table></div>"
      ]
     },
     "metadata": {
      "application/vnd.databricks.v1+output": {
       "addedWidgets": {},
       "aggData": [],
       "aggError": "",
       "aggOverflow": false,
       "aggSchema": [],
       "aggSeriesLimitReached": false,
       "aggType": "",
       "arguments": {},
       "columnCustomDisplayInfos": {},
       "data": [
        [
         0,
         0
        ]
       ],
       "datasetInfos": [],
       "dbfsResultPath": null,
       "isJsonSchema": true,
       "metadata": {},
       "overflow": false,
       "plotOptions": {
        "customPlotOptions": {},
        "displayType": "table",
        "pivotAggregation": null,
        "pivotColumns": null,
        "xColumns": null,
        "yColumns": null
       },
       "removedWidgets": [],
       "schema": [
        {
         "metadata": "{}",
         "name": "product_category_name",
         "type": "\"long\""
        },
        {
         "metadata": "{}",
         "name": "product_category_name_english",
         "type": "\"long\""
        }
       ],
       "type": "table"
      }
     },
     "output_type": "display_data"
    },
    {
     "output_type": "stream",
     "name": "stdout",
     "output_type": "stream",
     "text": [
      "Number of duplicate rows: 0\n"
     ]
    },
    {
     "output_type": "display_data",
     "data": {
      "text/html": [
       "<style scoped>\n",
       "  .table-result-container {\n",
       "    max-height: 300px;\n",
       "    overflow: auto;\n",
       "  }\n",
       "  table, th, td {\n",
       "    border: 1px solid black;\n",
       "    border-collapse: collapse;\n",
       "  }\n",
       "  th, td {\n",
       "    padding: 5px;\n",
       "  }\n",
       "  th {\n",
       "    text-align: left;\n",
       "  }\n",
       "</style><div class='table-result-container'><table class='table-result'><thead style='background-color: white'><tr><th>product_category_name</th><th>product_category_name_english</th></tr></thead><tbody><tr><td>beleza saude</td><td>Health Beauty</td></tr><tr><td>informatica acessorios</td><td>Computers Accessories</td></tr><tr><td>automotivo</td><td>Auto</td></tr><tr><td>cama mesa banho</td><td>Bed Bath Table</td></tr><tr><td>moveis decoracao</td><td>Furniture Decor</td></tr><tr><td>esporte lazer</td><td>Sports Leisure</td></tr><tr><td>perfumaria</td><td>Perfumery</td></tr><tr><td>utilidades domesticas</td><td>Housewares</td></tr><tr><td>telefonia</td><td>Telephony</td></tr><tr><td>relogios presentes</td><td>Watches Gifts</td></tr><tr><td>alimentos bebidas</td><td>Food Drink</td></tr><tr><td>bebes</td><td>Baby</td></tr><tr><td>papelaria</td><td>Stationery</td></tr><tr><td>tablets impressao imagem</td><td>Tablets Printing Image</td></tr><tr><td>brinquedos</td><td>Toys</td></tr><tr><td>telefonia fixa</td><td>Fixed Telephony</td></tr><tr><td>ferramentas jardim</td><td>Garden Tools</td></tr><tr><td>fashion bolsas e acessorios</td><td>Fashion Bags Accessories</td></tr><tr><td>eletroportateis</td><td>Small Appliances</td></tr><tr><td>consoles games</td><td>Consoles Games</td></tr><tr><td>audio</td><td>Audio</td></tr><tr><td>fashion calcados</td><td>Fashion Shoes</td></tr><tr><td>cool stuff</td><td>Cool Stuff</td></tr><tr><td>malas acessorios</td><td>Luggage Accessories</td></tr><tr><td>climatizacao</td><td>Air Conditioning</td></tr><tr><td>construcao ferramentas construcao</td><td>Construction Tools Construction</td></tr><tr><td>moveis cozinha area de servico jantar e jardim</td><td>Kitchen Dining Laundry Garden Furniture</td></tr><tr><td>construcao ferramentas jardim</td><td>Costruction Tools Garden</td></tr><tr><td>fashion roupa masculina</td><td>Fashion Male Clothing</td></tr><tr><td>pet shop</td><td>Pet Shop</td></tr><tr><td>moveis escritorio</td><td>Office Furniture</td></tr><tr><td>market place</td><td>Market Place</td></tr><tr><td>eletronicos</td><td>Electronics</td></tr><tr><td>eletrodomesticos</td><td>Home Appliances</td></tr><tr><td>artigos de festas</td><td>Party Supplies</td></tr><tr><td>casa conforto</td><td>Home Confort</td></tr><tr><td>construcao ferramentas ferramentas</td><td>Costruction Tools Tools</td></tr><tr><td>agro industria e comercio</td><td>Agro Industry And Commerce</td></tr><tr><td>moveis colchao e estofado</td><td>Furniture Mattress And Upholstery</td></tr><tr><td>livros tecnicos</td><td>Books Technical</td></tr><tr><td>casa construcao</td><td>Home Construction</td></tr><tr><td>instrumentos musicais</td><td>Musical Instruments</td></tr><tr><td>moveis sala</td><td>Furniture Living Room</td></tr><tr><td>construcao ferramentas iluminacao</td><td>Construction Tools Lights</td></tr><tr><td>industria comercio e negocios</td><td>Industry Commerce And Business</td></tr><tr><td>alimentos</td><td>Food</td></tr><tr><td>artes</td><td>Art</td></tr><tr><td>moveis quarto</td><td>Furniture Bedroom</td></tr><tr><td>livros interesse geral</td><td>Books General Interest</td></tr><tr><td>construcao ferramentas seguranca</td><td>Construction Tools Safety</td></tr><tr><td>fashion underwear e moda praia</td><td>Fashion Underwear Beach</td></tr><tr><td>fashion esporte</td><td>Fashion Sport</td></tr><tr><td>sinalizacao e seguranca</td><td>Signaling And Security</td></tr><tr><td>pcs</td><td>Computers</td></tr><tr><td>artigos de natal</td><td>Christmas Supplies</td></tr><tr><td>fashion roupa feminina</td><td>Fashio Female Clothing</td></tr><tr><td>eletrodomesticos 2</td><td>Home Appliances 2</td></tr><tr><td>livros importados</td><td>Books Imported</td></tr><tr><td>bebidas</td><td>Drinks</td></tr><tr><td>cine foto</td><td>Cine Photo</td></tr><tr><td>la cuisine</td><td>La Cuisine</td></tr><tr><td>musica</td><td>Music</td></tr><tr><td>casa conforto 2</td><td>Home Comfort 2</td></tr><tr><td>portateis casa forno e cafe</td><td>Small Appliances Home Oven And Coffee</td></tr><tr><td>cds dvds musicais</td><td>Cds Dvds Musicals</td></tr><tr><td>dvds blu ray</td><td>Dvds Blu Ray</td></tr><tr><td>flores</td><td>Flowers</td></tr><tr><td>artes e artesanato</td><td>Arts And Craftmanship</td></tr><tr><td>fraldas higiene</td><td>Diapers And Hygiene</td></tr><tr><td>fashion roupa infanto juvenil</td><td>Fashion Childrens Clothes</td></tr><tr><td>seguros e servicos</td><td>Security And Services</td></tr></tbody></table></div>"
      ]
     },
     "metadata": {
      "application/vnd.databricks.v1+output": {
       "addedWidgets": {},
       "aggData": [],
       "aggError": "",
       "aggOverflow": false,
       "aggSchema": [],
       "aggSeriesLimitReached": false,
       "aggType": "",
       "arguments": {},
       "columnCustomDisplayInfos": {},
       "data": [
        [
         "beleza saude",
         "Health Beauty"
        ],
        [
         "informatica acessorios",
         "Computers Accessories"
        ],
        [
         "automotivo",
         "Auto"
        ],
        [
         "cama mesa banho",
         "Bed Bath Table"
        ],
        [
         "moveis decoracao",
         "Furniture Decor"
        ],
        [
         "esporte lazer",
         "Sports Leisure"
        ],
        [
         "perfumaria",
         "Perfumery"
        ],
        [
         "utilidades domesticas",
         "Housewares"
        ],
        [
         "telefonia",
         "Telephony"
        ],
        [
         "relogios presentes",
         "Watches Gifts"
        ],
        [
         "alimentos bebidas",
         "Food Drink"
        ],
        [
         "bebes",
         "Baby"
        ],
        [
         "papelaria",
         "Stationery"
        ],
        [
         "tablets impressao imagem",
         "Tablets Printing Image"
        ],
        [
         "brinquedos",
         "Toys"
        ],
        [
         "telefonia fixa",
         "Fixed Telephony"
        ],
        [
         "ferramentas jardim",
         "Garden Tools"
        ],
        [
         "fashion bolsas e acessorios",
         "Fashion Bags Accessories"
        ],
        [
         "eletroportateis",
         "Small Appliances"
        ],
        [
         "consoles games",
         "Consoles Games"
        ],
        [
         "audio",
         "Audio"
        ],
        [
         "fashion calcados",
         "Fashion Shoes"
        ],
        [
         "cool stuff",
         "Cool Stuff"
        ],
        [
         "malas acessorios",
         "Luggage Accessories"
        ],
        [
         "climatizacao",
         "Air Conditioning"
        ],
        [
         "construcao ferramentas construcao",
         "Construction Tools Construction"
        ],
        [
         "moveis cozinha area de servico jantar e jardim",
         "Kitchen Dining Laundry Garden Furniture"
        ],
        [
         "construcao ferramentas jardim",
         "Costruction Tools Garden"
        ],
        [
         "fashion roupa masculina",
         "Fashion Male Clothing"
        ],
        [
         "pet shop",
         "Pet Shop"
        ],
        [
         "moveis escritorio",
         "Office Furniture"
        ],
        [
         "market place",
         "Market Place"
        ],
        [
         "eletronicos",
         "Electronics"
        ],
        [
         "eletrodomesticos",
         "Home Appliances"
        ],
        [
         "artigos de festas",
         "Party Supplies"
        ],
        [
         "casa conforto",
         "Home Confort"
        ],
        [
         "construcao ferramentas ferramentas",
         "Costruction Tools Tools"
        ],
        [
         "agro industria e comercio",
         "Agro Industry And Commerce"
        ],
        [
         "moveis colchao e estofado",
         "Furniture Mattress And Upholstery"
        ],
        [
         "livros tecnicos",
         "Books Technical"
        ],
        [
         "casa construcao",
         "Home Construction"
        ],
        [
         "instrumentos musicais",
         "Musical Instruments"
        ],
        [
         "moveis sala",
         "Furniture Living Room"
        ],
        [
         "construcao ferramentas iluminacao",
         "Construction Tools Lights"
        ],
        [
         "industria comercio e negocios",
         "Industry Commerce And Business"
        ],
        [
         "alimentos",
         "Food"
        ],
        [
         "artes",
         "Art"
        ],
        [
         "moveis quarto",
         "Furniture Bedroom"
        ],
        [
         "livros interesse geral",
         "Books General Interest"
        ],
        [
         "construcao ferramentas seguranca",
         "Construction Tools Safety"
        ],
        [
         "fashion underwear e moda praia",
         "Fashion Underwear Beach"
        ],
        [
         "fashion esporte",
         "Fashion Sport"
        ],
        [
         "sinalizacao e seguranca",
         "Signaling And Security"
        ],
        [
         "pcs",
         "Computers"
        ],
        [
         "artigos de natal",
         "Christmas Supplies"
        ],
        [
         "fashion roupa feminina",
         "Fashio Female Clothing"
        ],
        [
         "eletrodomesticos 2",
         "Home Appliances 2"
        ],
        [
         "livros importados",
         "Books Imported"
        ],
        [
         "bebidas",
         "Drinks"
        ],
        [
         "cine foto",
         "Cine Photo"
        ],
        [
         "la cuisine",
         "La Cuisine"
        ],
        [
         "musica",
         "Music"
        ],
        [
         "casa conforto 2",
         "Home Comfort 2"
        ],
        [
         "portateis casa forno e cafe",
         "Small Appliances Home Oven And Coffee"
        ],
        [
         "cds dvds musicais",
         "Cds Dvds Musicals"
        ],
        [
         "dvds blu ray",
         "Dvds Blu Ray"
        ],
        [
         "flores",
         "Flowers"
        ],
        [
         "artes e artesanato",
         "Arts And Craftmanship"
        ],
        [
         "fraldas higiene",
         "Diapers And Hygiene"
        ],
        [
         "fashion roupa infanto juvenil",
         "Fashion Childrens Clothes"
        ],
        [
         "seguros e servicos",
         "Security And Services"
        ]
       ],
       "datasetInfos": [],
       "dbfsResultPath": null,
       "isJsonSchema": true,
       "metadata": {},
       "overflow": false,
       "plotOptions": {
        "customPlotOptions": {},
        "displayType": "table",
        "pivotAggregation": null,
        "pivotColumns": null,
        "xColumns": null,
        "yColumns": null
       },
       "removedWidgets": [],
       "schema": [
        {
         "metadata": "{}",
         "name": "product_category_name",
         "type": "\"string\""
        },
        {
         "metadata": "{}",
         "name": "product_category_name_english",
         "type": "\"string\""
        }
       ],
       "type": "table"
      }
     },
     "output_type": "display_data"
    },
    {
     "output_type": "stream",
     "name": "stdout",
     "output_type": "stream",
     "text": [
      "root\n |-- product_category_name: string (nullable = true)\n |-- product_category_name_english: string (nullable = true)\n\nTotal Unique Product Categories: 71\nNo missing or empty values in product_category_name.\nNo duplicates found in the dataset.\n"
     ]
    }
   ],
   "source": [
    "from pyspark.sql import SparkSession\n",
    "from pyspark.sql.functions import col, lower, regexp_replace, initcap, sum\n",
    "\n",
    "# Create a Spark session\n",
    "spark = SparkSession.builder.appName(\"Product Category Cleaning\").getOrCreate()\n",
    "\n",
    "# It's assumed that product_category has already been defined as a Spark DataFrame\n",
    "# Uncomment the following line if you're creating the DataFrame from a list of dictionaries\n",
    "# product_category = spark.createDataFrame([{'product_category_name': '...', 'product_category_name_english': '...'}])\n",
    "\n",
    "# Check for missing values\n",
    "missing_values = product_category.select(\n",
    "    [sum(col(c).isNull().cast(\"int\")).alias(c) for c in product_category.columns]\n",
    ")\n",
    "display(missing_values)\n",
    "\n",
    "# Check for duplicate rows\n",
    "duplicates = product_category.groupBy(product_category.columns).count().filter(col(\"count\") > 1)\n",
    "duplicate_count = duplicates.count()  # Count duplicate rows\n",
    "print(f\"Number of duplicate rows: {duplicate_count}\")\n",
    "\n",
    "# Clean category names in both columns\n",
    "cleaned_product_category = product_category.withColumn(\n",
    "    \"product_category_name\",\n",
    "    lower(regexp_replace(col(\"product_category_name\"), \"_\", \" \"))\n",
    ").withColumn(\n",
    "    \"product_category_name_english\",\n",
    "    initcap(regexp_replace(col(\"product_category_name_english\"), \"_\", \" \"))\n",
    ")\n",
    "\n",
    "# Display the cleaned dataset\n",
    "display(cleaned_product_category)\n",
    "\n",
    "# Print the schema to verify data types\n",
    "cleaned_product_category.printSchema()\n",
    "\n",
    "# Additional summary checks\n",
    "# Check unique product categories\n",
    "unique_categories_count = cleaned_product_category.select(\"product_category_name\").distinct().count()\n",
    "print(f\"Total Unique Product Categories: {unique_categories_count}\")\n",
    "\n",
    "# Verify no missing or negative values\n",
    "no_missing_values = cleaned_product_category.filter(\n",
    "    col(\"product_category_name\").isNull() | (length(col(\"product_category_name\")) < 1)\n",
    ").count() == 0\n",
    "\n",
    "if no_missing_values:\n",
    "    print(\"No missing or empty values in product_category_name.\")\n",
    "else:\n",
    "    print(\"There are missing or empty values in product_category_name.\")\n",
    "\n",
    "# Confirm there are no duplicates\n",
    "if duplicate_count == 0:\n",
    "    print(\"No duplicates found in the dataset.\")\n",
    "else:\n",
    "    print(f\"{duplicate_count} duplicates found in the dataset.\")"
   ]
  },
  {
   "cell_type": "code",
   "execution_count": 0,
   "metadata": {
    "application/vnd.databricks.v1+cell": {
     "cellMetadata": {
      "byteLimit": 2048000,
      "rowLimit": 10000
     },
     "inputWidgets": {},
     "nuid": "8870c126-bff1-4854-8f01-27b83fa06612",
     "showTitle": false,
     "tableResultSettingsMap": {},
     "title": ""
    }
   },
   "outputs": [],
   "source": [
    "# Save file\n",
    "product_category.toPandas().to_csv(\"/dbfs/mnt/olist-store-data/transformed-data/product_category_name_translation.csv\", index=False)"
   ]
  }
 ],
 "metadata": {
  "application/vnd.databricks.v1+notebook": {
   "computePreferences": null,
   "dashboards": [],
   "environmentMetadata": {
    "base_environment": "",
    "client": "1"
   },
   "language": "python",
   "notebookMetadata": {
    "pythonIndentUnit": 4
   },
   "notebookName": "OLIST_Data_Cleaning_20250103",
   "widgets": {}
  },
  "language_info": {
   "name": "python"
  }
 },
 "nbformat": 4,
 "nbformat_minor": 0
}
