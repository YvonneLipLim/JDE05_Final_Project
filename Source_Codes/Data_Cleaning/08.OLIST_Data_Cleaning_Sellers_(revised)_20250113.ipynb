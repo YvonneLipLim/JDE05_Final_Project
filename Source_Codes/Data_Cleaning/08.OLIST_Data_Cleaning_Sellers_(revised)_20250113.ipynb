{
 "cells": [
  {
   "cell_type": "markdown",
   "metadata": {
    "application/vnd.databricks.v1+cell": {
     "cellMetadata": {},
     "inputWidgets": {},
     "nuid": "3442ea11-9479-4411-bb0b-596942ffb8b0",
     "showTitle": false,
     "tableResultSettingsMap": {},
     "title": ""
    }
   },
   "source": [
    "### Mounting the container into Databricks"
   ]
  },
  {
   "cell_type": "code",
   "execution_count": 0,
   "metadata": {
    "application/vnd.databricks.v1+cell": {
     "cellMetadata": {
      "byteLimit": 2048000,
      "rowLimit": 10000
     },
     "inputWidgets": {},
     "nuid": "b47463ed-906d-4e8c-8c43-55640dc134da",
     "showTitle": false,
     "tableResultSettingsMap": {},
     "title": ""
    }
   },
   "outputs": [
    {
     "output_type": "stream",
     "name": "stdout",
     "output_type": "stream",
     "text": [
      "Collecting azure-identity\n  Obtaining dependency information for azure-identity from https://files.pythonhosted.org/packages/f0/d5/3995ed12f941f4a41a273d9b1709282e825ef87ed8eab3833038fee54d59/azure_identity-1.19.0-py3-none-any.whl.metadata\n  Using cached azure_identity-1.19.0-py3-none-any.whl.metadata (80 kB)\nCollecting azure-keyvault-secrets\n  Obtaining dependency information for azure-keyvault-secrets from https://files.pythonhosted.org/packages/bf/ad/e5dd4c09ed80196b1b35f107502b12e32d06eb2d965adf4673df0d5cf85e/azure_keyvault_secrets-4.9.0-py3-none-any.whl.metadata\n  Using cached azure_keyvault_secrets-4.9.0-py3-none-any.whl.metadata (29 kB)\nCollecting azure-core>=1.31.0 (from azure-identity)\n  Obtaining dependency information for azure-core>=1.31.0 from https://files.pythonhosted.org/packages/39/83/325bf5e02504dbd8b4faa98197a44cdf8a325ef259b48326a2b6f17f8383/azure_core-1.32.0-py3-none-any.whl.metadata\n  Using cached azure_core-1.32.0-py3-none-any.whl.metadata (39 kB)\nRequirement already satisfied: cryptography>=2.5 in /databricks/python3/lib/python3.11/site-packages (from azure-identity) (41.0.3)\nCollecting msal>=1.30.0 (from azure-identity)\n  Obtaining dependency information for msal>=1.30.0 from https://files.pythonhosted.org/packages/30/7c/489cd931a752d05753d730e848039f08f65f86237cf1b8724d0a1cbd700b/msal-1.31.1-py3-none-any.whl.metadata\n  Using cached msal-1.31.1-py3-none-any.whl.metadata (11 kB)\nCollecting msal-extensions>=1.2.0 (from azure-identity)\n  Obtaining dependency information for msal-extensions>=1.2.0 from https://files.pythonhosted.org/packages/2c/69/314d887a01599669fb330da14e5c6ff5f138609e322812a942a74ef9b765/msal_extensions-1.2.0-py3-none-any.whl.metadata\n  Using cached msal_extensions-1.2.0-py3-none-any.whl.metadata (7.6 kB)\nRequirement already satisfied: typing-extensions>=4.0.0 in /databricks/python3/lib/python3.11/site-packages (from azure-identity) (4.10.0)\nRequirement already satisfied: isodate>=0.6.1 in /databricks/python3/lib/python3.11/site-packages (from azure-keyvault-secrets) (0.6.1)\nRequirement already satisfied: requests>=2.21.0 in /databricks/python3/lib/python3.11/site-packages (from azure-core>=1.31.0->azure-identity) (2.31.0)\nRequirement already satisfied: six>=1.11.0 in /usr/lib/python3/dist-packages (from azure-core>=1.31.0->azure-identity) (1.16.0)\nRequirement already satisfied: cffi>=1.12 in /databricks/python3/lib/python3.11/site-packages (from cryptography>=2.5->azure-identity) (1.15.1)\nRequirement already satisfied: PyJWT[crypto]<3,>=1.0.0 in /usr/lib/python3/dist-packages (from msal>=1.30.0->azure-identity) (2.3.0)\nCollecting portalocker<3,>=1.4 (from msal-extensions>=1.2.0->azure-identity)\n  Obtaining dependency information for portalocker<3,>=1.4 from https://files.pythonhosted.org/packages/9b/fb/a70a4214956182e0d7a9099ab17d50bfcba1056188e9b14f35b9e2b62a0d/portalocker-2.10.1-py3-none-any.whl.metadata\n  Using cached portalocker-2.10.1-py3-none-any.whl.metadata (8.5 kB)\nRequirement already satisfied: pycparser in /databricks/python3/lib/python3.11/site-packages (from cffi>=1.12->cryptography>=2.5->azure-identity) (2.21)\nRequirement already satisfied: charset-normalizer<4,>=2 in /databricks/python3/lib/python3.11/site-packages (from requests>=2.21.0->azure-core>=1.31.0->azure-identity) (2.0.4)\nRequirement already satisfied: idna<4,>=2.5 in /databricks/python3/lib/python3.11/site-packages (from requests>=2.21.0->azure-core>=1.31.0->azure-identity) (3.4)\nRequirement already satisfied: urllib3<3,>=1.21.1 in /databricks/python3/lib/python3.11/site-packages (from requests>=2.21.0->azure-core>=1.31.0->azure-identity) (1.26.16)\nRequirement already satisfied: certifi>=2017.4.17 in /databricks/python3/lib/python3.11/site-packages (from requests>=2.21.0->azure-core>=1.31.0->azure-identity) (2023.7.22)\nUsing cached azure_identity-1.19.0-py3-none-any.whl (187 kB)\nUsing cached azure_keyvault_secrets-4.9.0-py3-none-any.whl (87 kB)\nUsing cached azure_core-1.32.0-py3-none-any.whl (198 kB)\nUsing cached msal-1.31.1-py3-none-any.whl (113 kB)\nUsing cached msal_extensions-1.2.0-py3-none-any.whl (19 kB)\nUsing cached portalocker-2.10.1-py3-none-any.whl (18 kB)\nInstalling collected packages: portalocker, azure-core, azure-keyvault-secrets, msal, msal-extensions, azure-identity\n  Attempting uninstall: azure-core\n    Found existing installation: azure-core 1.30.2\n    Not uninstalling azure-core at /databricks/python3/lib/python3.11/site-packages, outside environment /local_disk0/.ephemeral_nfs/envs/pythonEnv-ef286e9e-09af-4527-9a01-ce96470cd81f\n    Can't uninstall 'azure-core'. No files were found to uninstall.\nSuccessfully installed azure-core-1.32.0 azure-identity-1.19.0 azure-keyvault-secrets-4.9.0 msal-1.31.1 msal-extensions-1.2.0 portalocker-2.10.1\n\u001B[43mNote: you may need to restart the kernel using %restart_python or dbutils.library.restartPython() to use updated packages.\u001B[0m\n"
     ]
    }
   ],
   "source": [
    "# Install required packages\n",
    "%pip install azure-identity azure-keyvault-secrets"
   ]
  },
  {
   "cell_type": "code",
   "execution_count": 0,
   "metadata": {
    "application/vnd.databricks.v1+cell": {
     "cellMetadata": {
      "byteLimit": 2048000,
      "rowLimit": 10000
     },
     "inputWidgets": {},
     "nuid": "46b91253-8079-4736-a664-681b7f0c187e",
     "showTitle": false,
     "tableResultSettingsMap": {},
     "title": ""
    }
   },
   "outputs": [],
   "source": [
    "# Restart Python interpreter to ensure new packages are loaded\n",
    "%restart_python"
   ]
  },
  {
   "cell_type": "code",
   "execution_count": 0,
   "metadata": {
    "application/vnd.databricks.v1+cell": {
     "cellMetadata": {
      "byteLimit": 2048000,
      "rowLimit": 10000
     },
     "inputWidgets": {},
     "nuid": "ee0dfd3c-3b40-4703-a2c6-cae5f092ebd9",
     "showTitle": false,
     "tableResultSettingsMap": {},
     "title": ""
    }
   },
   "outputs": [
    {
     "output_type": "stream",
     "name": "stdout",
     "output_type": "stream",
     "text": [
      "/mnt/olist-store-data has been unmounted.\n"
     ]
    },
    {
     "output_type": "execute_result",
     "data": {
      "text/plain": [
       "True"
      ]
     },
     "execution_count": 1,
     "metadata": {},
     "output_type": "execute_result"
    }
   ],
   "source": [
    "from azure.identity import DefaultAzureCredential\n",
    "from azure.keyvault.secrets import SecretClient\n",
    "\n",
    "# Key Vault configuration\n",
    "key_vault_url = \"https://Olist-Key.vault.azure.net/\"\n",
    "credential = DefaultAzureCredential()\n",
    "client = SecretClient(vault_url=key_vault_url, credential=credential)\n",
    "\n",
    "# Retrieve secrets from Key Vault\n",
    "client_id = client.get_secret(\"olist-client-id\").value\n",
    "client_secret = client.get_secret(\"olist-client-secret\").value\n",
    "tenant_id = client.get_secret(\"olist-tenant-id\").value\n",
    "\n",
    "# Unmount the existing mount point if it exists\n",
    "dbutils.fs.unmount(\"/mnt/olist-store-data\")\n",
    "\n",
    "# Create the configurations\n",
    "configs = {\n",
    "    \"fs.azure.account.auth.type\": \"OAuth\",\n",
    "    \"fs.azure.account.oauth.provider.type\": \"org.apache.hadoop.fs.azurebfs.oauth2.ClientCredsTokenProvider\",\n",
    "    \"fs.azure.account.oauth2.client.id\": client_id,\n",
    "    \"fs.azure.account.oauth2.client.secret\": client_secret,\n",
    "    \"fs.azure.account.oauth2.client.endpoint\": f\"https://login.microsoftonline.com/{tenant_id}/oauth2/token\"\n",
    "}\n",
    "\n",
    "# Mount the storage\n",
    "dbutils.fs.mount(\n",
    "    source=\"abfss://olist-store-data@olistbrdata.dfs.core.windows.net\",\n",
    "    mount_point=\"/mnt/olist-store-data\",\n",
    "    extra_configs=configs\n",
    ")"
   ]
  },
  {
   "cell_type": "markdown",
   "metadata": {
    "application/vnd.databricks.v1+cell": {
     "cellMetadata": {},
     "inputWidgets": {},
     "nuid": "f7fc914b-76ef-4362-b6f0-4c1dc5dedaec",
     "showTitle": false,
     "tableResultSettingsMap": {},
     "title": ""
    }
   },
   "source": [
    "### Check mounting of the storage-account container"
   ]
  },
  {
   "cell_type": "code",
   "execution_count": 0,
   "metadata": {
    "application/vnd.databricks.v1+cell": {
     "cellMetadata": {
      "byteLimit": 2048000,
      "rowLimit": 10000
     },
     "inputWidgets": {},
     "nuid": "d215f1a0-4d0d-470a-8d66-60aadc780f70",
     "showTitle": false,
     "tableResultSettingsMap": {},
     "title": ""
    }
   },
   "outputs": [
    {
     "output_type": "execute_result",
     "data": {
      "text/plain": [
       "[FileInfo(path='dbfs:/mnt/olist-store-data/raw-data/', name='raw-data/', size=0, modificationTime=1735461319000),\n",
       " FileInfo(path='dbfs:/mnt/olist-store-data/ready-data/', name='ready-data/', size=0, modificationTime=1735792345000),\n",
       " FileInfo(path='dbfs:/mnt/olist-store-data/test-upload/', name='test-upload/', size=0, modificationTime=1736860622000),\n",
       " FileInfo(path='dbfs:/mnt/olist-store-data/transformed-data/', name='transformed-data/', size=0, modificationTime=1735461344000)]"
      ]
     },
     "execution_count": 2,
     "metadata": {},
     "output_type": "execute_result"
    }
   ],
   "source": [
    "# Check if the mounting is successful or not\n",
    "dbutils.fs.ls(\"/mnt/olist-store-data\")"
   ]
  },
  {
   "cell_type": "markdown",
   "metadata": {
    "application/vnd.databricks.v1+cell": {
     "cellMetadata": {},
     "inputWidgets": {},
     "nuid": "1a39428b-77f5-4547-8977-892285b2a07e",
     "showTitle": false,
     "tableResultSettingsMap": {},
     "title": ""
    }
   },
   "source": [
    "### Read sellers dataset from raw-data folder"
   ]
  },
  {
   "cell_type": "code",
   "execution_count": 0,
   "metadata": {
    "application/vnd.databricks.v1+cell": {
     "cellMetadata": {
      "byteLimit": 2048000,
      "rowLimit": 10000
     },
     "inputWidgets": {},
     "nuid": "8566a21d-8f8b-4a0b-9409-f2257726c7f3",
     "showTitle": false,
     "tableResultSettingsMap": {},
     "title": ""
    }
   },
   "outputs": [],
   "source": [
    "sellers = spark.read.format(\"csv\").option(\"header\",\"true\").option(\"inferSchema\",\"true\").load(\"/mnt/olist-store-data/raw-data/olist_sellers_dataset.csv\")"
   ]
  },
  {
   "cell_type": "code",
   "execution_count": 0,
   "metadata": {
    "application/vnd.databricks.v1+cell": {
     "cellMetadata": {
      "byteLimit": 2048000,
      "rowLimit": 10000
     },
     "inputWidgets": {},
     "nuid": "3e4bde05-4685-4d1b-8df3-e1e870e0bd71",
     "showTitle": false,
     "tableResultSettingsMap": {},
     "title": ""
    }
   },
   "outputs": [
    {
     "output_type": "stream",
     "name": "stdout",
     "output_type": "stream",
     "text": [
      "+--------------------+----------------------+-----------------+------------+\n|           seller_id|seller_zip_code_prefix|      seller_city|seller_state|\n+--------------------+----------------------+-----------------+------------+\n|3442f8959a84dea7e...|                 13023|         campinas|          SP|\n|d1b65fc7debc3361e...|                 13844|       mogi guacu|          SP|\n|ce3ad9de960102d06...|                 20031|   rio de janeiro|          RJ|\n|c0f3eea2e14555b6f...|                  4195|        sao paulo|          SP|\n|51a04a8a6bdcb23de...|                 12914|braganca paulista|          SP|\n|c240c4061717ac180...|                 20920|   rio de janeiro|          RJ|\n|e49c26c3edfa46d22...|                 55325|           brejao|          PE|\n|1b938a7ec6ac5061a...|                 16304|        penapolis|          SP|\n|768a86e36ad6aae3d...|                  1529|        sao paulo|          SP|\n|ccc4bbb5f32a6ab2b...|                 80310|         curitiba|          PR|\n+--------------------+----------------------+-----------------+------------+\nonly showing top 10 rows\n\nroot\n |-- seller_id: string (nullable = true)\n |-- seller_zip_code_prefix: integer (nullable = true)\n |-- seller_city: string (nullable = true)\n |-- seller_state: string (nullable = true)\n\n"
     ]
    },
    {
     "output_type": "display_data",
     "data": {
      "text/html": [
       "<style scoped>\n",
       "  .table-result-container {\n",
       "    max-height: 300px;\n",
       "    overflow: auto;\n",
       "  }\n",
       "  table, th, td {\n",
       "    border: 1px solid black;\n",
       "    border-collapse: collapse;\n",
       "  }\n",
       "  th, td {\n",
       "    padding: 5px;\n",
       "  }\n",
       "  th {\n",
       "    text-align: left;\n",
       "  }\n",
       "</style><div class='table-result-container'><table class='table-result'><thead style='background-color: white'><tr><th>seller_id</th><th>seller_zip_code_prefix</th><th>seller_city</th><th>seller_state</th></tr></thead><tbody><tr><td>3442f8959a84dea7ee197c632cb2df15</td><td>13023</td><td>campinas</td><td>SP</td></tr><tr><td>d1b65fc7debc3361ea86b5f14c68d2e2</td><td>13844</td><td>mogi guacu</td><td>SP</td></tr><tr><td>ce3ad9de960102d0677a81f5d0bb7b2d</td><td>20031</td><td>rio de janeiro</td><td>RJ</td></tr><tr><td>c0f3eea2e14555b6faeea3dd58c1b1c3</td><td>4195</td><td>sao paulo</td><td>SP</td></tr><tr><td>51a04a8a6bdcb23deccc82b0b80742cf</td><td>12914</td><td>braganca paulista</td><td>SP</td></tr><tr><td>c240c4061717ac1806ae6ee72be3533b</td><td>20920</td><td>rio de janeiro</td><td>RJ</td></tr><tr><td>e49c26c3edfa46d227d5121a6b6e4d37</td><td>55325</td><td>brejao</td><td>PE</td></tr><tr><td>1b938a7ec6ac5061a66a3766e0e75f90</td><td>16304</td><td>penapolis</td><td>SP</td></tr><tr><td>768a86e36ad6aae3d03ee3c6433d61df</td><td>1529</td><td>sao paulo</td><td>SP</td></tr><tr><td>ccc4bbb5f32a6ab2b7066a4130f114e3</td><td>80310</td><td>curitiba</td><td>PR</td></tr></tbody></table></div>"
      ]
     },
     "metadata": {
      "application/vnd.databricks.v1+output": {
       "addedWidgets": {},
       "aggData": [],
       "aggError": "",
       "aggOverflow": false,
       "aggSchema": [],
       "aggSeriesLimitReached": false,
       "aggType": "",
       "arguments": {},
       "columnCustomDisplayInfos": {},
       "data": [
        [
         "3442f8959a84dea7ee197c632cb2df15",
         13023,
         "campinas",
         "SP"
        ],
        [
         "d1b65fc7debc3361ea86b5f14c68d2e2",
         13844,
         "mogi guacu",
         "SP"
        ],
        [
         "ce3ad9de960102d0677a81f5d0bb7b2d",
         20031,
         "rio de janeiro",
         "RJ"
        ],
        [
         "c0f3eea2e14555b6faeea3dd58c1b1c3",
         4195,
         "sao paulo",
         "SP"
        ],
        [
         "51a04a8a6bdcb23deccc82b0b80742cf",
         12914,
         "braganca paulista",
         "SP"
        ],
        [
         "c240c4061717ac1806ae6ee72be3533b",
         20920,
         "rio de janeiro",
         "RJ"
        ],
        [
         "e49c26c3edfa46d227d5121a6b6e4d37",
         55325,
         "brejao",
         "PE"
        ],
        [
         "1b938a7ec6ac5061a66a3766e0e75f90",
         16304,
         "penapolis",
         "SP"
        ],
        [
         "768a86e36ad6aae3d03ee3c6433d61df",
         1529,
         "sao paulo",
         "SP"
        ],
        [
         "ccc4bbb5f32a6ab2b7066a4130f114e3",
         80310,
         "curitiba",
         "PR"
        ]
       ],
       "datasetInfos": [],
       "dbfsResultPath": null,
       "isJsonSchema": true,
       "metadata": {},
       "overflow": false,
       "plotOptions": {
        "customPlotOptions": {},
        "displayType": "table",
        "pivotAggregation": null,
        "pivotColumns": null,
        "xColumns": null,
        "yColumns": null
       },
       "removedWidgets": [],
       "schema": [
        {
         "metadata": "{}",
         "name": "seller_id",
         "type": "\"string\""
        },
        {
         "metadata": "{}",
         "name": "seller_zip_code_prefix",
         "type": "\"integer\""
        },
        {
         "metadata": "{}",
         "name": "seller_city",
         "type": "\"string\""
        },
        {
         "metadata": "{}",
         "name": "seller_state",
         "type": "\"string\""
        }
       ],
       "type": "table"
      }
     },
     "output_type": "display_data"
    }
   ],
   "source": [
    "sellers.show(10)\n",
    "sellers.printSchema()\n",
    "display(sellers.limit(10))"
   ]
  },
  {
   "cell_type": "markdown",
   "metadata": {
    "application/vnd.databricks.v1+cell": {
     "cellMetadata": {},
     "inputWidgets": {},
     "nuid": "8dfdb2eb-1836-4130-b947-121828637910",
     "showTitle": false,
     "tableResultSettingsMap": {},
     "title": ""
    }
   },
   "source": [
    "### Cast the column to a string value as it has turned into an integer automatically when Databricks reads data from source.<br>\n",
    "Adding a \"0\" in the seller_zip_code_prefix column"
   ]
  },
  {
   "cell_type": "code",
   "execution_count": 0,
   "metadata": {
    "application/vnd.databricks.v1+cell": {
     "cellMetadata": {
      "byteLimit": 2048000,
      "rowLimit": 10000
     },
     "inputWidgets": {},
     "nuid": "b6c47f8f-ccf9-4b97-98e0-aeffcc19fc35",
     "showTitle": false,
     "tableResultSettingsMap": {},
     "title": ""
    }
   },
   "outputs": [
    {
     "output_type": "stream",
     "name": "stdout",
     "output_type": "stream",
     "text": [
      "+--------------------+----------------------+-----------------+------------+\n|           seller_id|seller_zip_code_prefix|      seller_city|seller_state|\n+--------------------+----------------------+-----------------+------------+\n|3442f8959a84dea7e...|                 13023|         campinas|          SP|\n|d1b65fc7debc3361e...|                 13844|       mogi guacu|          SP|\n|ce3ad9de960102d06...|                 20031|   rio de janeiro|          RJ|\n|c0f3eea2e14555b6f...|                 04195|        sao paulo|          SP|\n|51a04a8a6bdcb23de...|                 12914|braganca paulista|          SP|\n|c240c4061717ac180...|                 20920|   rio de janeiro|          RJ|\n|e49c26c3edfa46d22...|                 55325|           brejao|          PE|\n|1b938a7ec6ac5061a...|                 16304|        penapolis|          SP|\n|768a86e36ad6aae3d...|                 01529|        sao paulo|          SP|\n|ccc4bbb5f32a6ab2b...|                 80310|         curitiba|          PR|\n+--------------------+----------------------+-----------------+------------+\nonly showing top 10 rows\n\n"
     ]
    }
   ],
   "source": [
    "from pyspark.sql.functions import col, lpad\n",
    "\n",
    "sellers = sellers.withColumn(\n",
    "    \"seller_zip_code_prefix\", \n",
    "    lpad(col(\"seller_zip_code_prefix\").cast(\"string\"), 5, \"0\")\n",
    ")\n",
    "\n",
    "sellers.show(10)"
   ]
  },
  {
   "cell_type": "markdown",
   "metadata": {
    "application/vnd.databricks.v1+cell": {
     "cellMetadata": {},
     "inputWidgets": {},
     "nuid": "2d6c829e-7b54-40f4-8d01-3d3da8f56de2",
     "showTitle": false,
     "tableResultSettingsMap": {},
     "title": ""
    }
   },
   "source": [
    "### Data cleaning for sellers dataset\n",
    "- **Step 1: Data Loading and Initial Analysis**<br>\n",
    "The script begins by loading a CSV file containing seller data into a PySpark DataFrame. It then performs an initial analysis, providing information about:\n",
    "  - Total number of records\n",
    "  - Number of columns\n",
    "  - Unique cities and states\n",
    "  - Missing values analysis\n",
    "\n",
    "- **Step 2: Data Cleaning Process**<br>\n",
    "The cleaning process involves several steps:\n",
    "  - Basic String Cleaning: Trims whitespace from string columns.\n",
    "  - Enhanced City Name Cleaning:\n",
    "    - Removes numeric values and special characters\n",
    "    - Standardizes city names by splitting on delimiters\n",
    "    - Performs character standardization (e.g., replacing \"são\" with \"sao\")\n",
    "  - State Name Standardization: Converts state names to uppercase.\n",
    "  - Metrics Calculation:\n",
    "    - Calculates sellers per state and city:<br>\n",
    "      a. **Seller Density**<br>\n",
    "      Categorizes cities based on the number of sellers:\n",
    "      ```\n",
    "      - High: >= 100 sellers\n",
    "      - Medium: >= 20 sellers\n",
    "      - Low: < 20 sellers<br>\n",
    "      ```\n",
    "      b. **City Size**<br>\n",
    "      Classifies cities based on the number of sellers:\n",
    "      ```\n",
    "      - Major City: >= 500 sellers\n",
    "      - Large City: >= 100 sellers\n",
    "      - Medium City: >= 50 sellers\n",
    "      - Small City: < 50 sellers\n",
    "      ```\n",
    "    - Computes state market share percentages:<br>\n",
    "    a. **Sellers per State**<br>The \"sellers_in_state\" column shows the number of sellers in each state. Some key observations:<br>\n",
    "      ```\n",
    "      - The state with the highest number of sellers has 1,849 sellers.\n",
    "      - Several states have very few sellers, with some having only 1 or 2.\n",
    "      - There's a wide range in the number of sellers across states, indicating a highly concentrated market in certain areas.\n",
    "      ```\n",
    "    - **State Market Share**<br>The \"state_market_share\" column represents the percentage of total sellers in each state. Notable points:<br>\n",
    "      ```\n",
    "      - The highest market share is 59.74%, corresponding to the state with 1,849 sellers.\n",
    "      - Many states have very small market shares, below 1%.\n",
    "      - The market shares directly correlate with the number of sellers in each state.\n",
    "      ```\n",
    "  - Geographic Classification:<br>\n",
    "    - **Metropolitan Area**<br>Classifies sellers based on their location:\n",
    "      ```\n",
    "      - Sao Paulo Metro\n",
    "      - Rio Metro\n",
    "      - BH Metro\n",
    "      - Curitiba Metro\n",
    "      - Porto Alegre Metro\n",
    "      - Other\n",
    "      ```\n",
    "    - **Seller Region**<br>This classification categorizes sellers into broader geographical regions based on their state. Here's how the regions are defined:\n",
    "      ```\n",
    "      - Southeast: SP, RJ, MG, ES\n",
    "      - South: PR, RS, SC\n",
    "      - Central-West: MT, MS, GO, DF\n",
    "      - Northeast: BA, PE, CE, PB, MA, RN, AL, PI, SE\n",
    "      - North: PA, AM, RO, AP, AC, RR, TO\n",
    "      - Unknown: Any other state\n",
    "      ```\n",
    "  - Market Analysis:\n",
    "    - **Seller Density**<br>This classification categorizes cities based on the concentration of sellers, providing insights into the competitiveness and market saturation of different locations:\n",
    "      ```\n",
    "      - High: Cities with 100 or more sellers (>= 100 sellers)\n",
    "      - Medium: Cities with 20 to 99 sellers (>= 20 sellers)\n",
    "      - Low: Cities with fewer than 20 sellers (< 20 sellers)\n",
    "      ```\n",
    "    - **Market Proximity**<br>Categorizes sellers based on their \n",
    "    proximity to core markets:\n",
    "      ```\n",
    "      - Core Market: Located in major metropolitan areas\n",
    "      - Near Market: In SP, RJ, or MG states but outside metropolitan areas\n",
    "      - Remote Market: All other locations\n",
    "      ```\n",
    "    - **Business Potential**<br>Assesses areas based on their growth potential:\n",
    "      ```\n",
    "      - High Growth: Core Market with High seller density\n",
    "      - Medium Growth: Near Market with High or Medium seller density\n",
    "      - Stable: All other combinations\n",
    "      ```\n",
    "\n",
    "- **Step 3: Data Analysis and Reporting**<br>\n",
    "The script generates various analytical reports:\n",
    "  - State-level analysis\n",
    "  - City size distribution\n",
    "  - Metropolitan area market share\n",
    "  - Top 10 cities with market analysis\n",
    "  - Market proximity distribution\n",
    "  - Business potential distribution"
   ]
  },
  {
   "cell_type": "code",
   "execution_count": 0,
   "metadata": {
    "application/vnd.databricks.v1+cell": {
     "cellMetadata": {
      "byteLimit": 2048000,
      "rowLimit": 10000
     },
     "inputWidgets": {},
     "nuid": "27c8f570-9f49-4bc0-a6d0-ee243b892f08",
     "showTitle": false,
     "tableResultSettingsMap": {},
     "title": ""
    }
   },
   "outputs": [
    {
     "output_type": "stream",
     "name": "stdout",
     "output_type": "stream",
     "text": [
      "Loading sellers dataset...\n\nInitial dataset information:\nNumber of records: 3,095\nNumber of columns: 4\nNumber of unique cities: 611\nNumber of unique states: 23\n\nMissing values analysis:\nseller_id: 0 missing values (0.00%)\nseller_zip_code_prefix: 0 missing values (0.00%)\nseller_city: 0 missing values (0.00%)\nseller_state: 0 missing values (0.00%)\n\nMissing values count:\n+---------+----------------------+-----------+------------+\n|seller_id|seller_zip_code_prefix|seller_city|seller_state|\n+---------+----------------------+-----------+------------+\n|        0|                     0|          0|           0|\n+---------+----------------------+-----------+------------+\n\n\nChecking for duplicate records...\nNumber of duplicate seller_ids: 0 (0.00%)\n\nStarting data cleaning process...\n\nState-level Analysis:\n+------------+-------+----------------+\n|seller_state|sellers|market_share_pct|\n+------------+-------+----------------+\n|          SP|   1849|           59.74|\n|          PR|    348|           11.24|\n|          MG|    244|            7.88|\n|          SC|    190|            6.14|\n|          RJ|    170|            5.49|\n|          RS|    129|            4.17|\n|          GO|     40|            1.29|\n|          DF|     30|            0.97|\n|          ES|     23|            0.74|\n|          BA|     19|            0.61|\n|          CE|     13|            0.42|\n|          PE|      9|            0.29|\n|          PB|      6|            0.19|\n|          MS|      5|            0.16|\n|          RN|      5|            0.16|\n|          MT|      4|            0.13|\n|          RO|      2|            0.06|\n|          SE|      2|            0.06|\n|          AM|      1|            0.03|\n|          PI|      1|            0.03|\n+------------+-------+----------------+\nonly showing top 20 rows\n\n\nCity Size Distribution:\n+-----------+-----+----------+\n|  city_size|count|percentage|\n+-----------+-----+----------+\n| Small City| 1992|      64.4|\n| Major City|  705|     22.79|\n|Medium City|  269|       8.7|\n| Large City|  127|      4.11|\n+-----------+-----+----------+\n\n\nMetropolitan Area Market Share:\n+------------------+-------+----------------+--------------------+\n| metropolitan_area|sellers|market_share_pct|avg_sellers_per_city|\n+------------------+-------+----------------+--------------------+\n|             Other|   1858|           60.07|               12.87|\n|   Sao Paulo Metro|    846|           27.35|              594.37|\n|    Curitiba Metro|    146|            4.72|              111.74|\n|         Rio Metro|    114|            3.69|               85.11|\n|          BH Metro|     85|            2.75|               56.39|\n|Porto Alegre Metro|     44|            1.42|               20.77|\n+------------------+-------+----------------+--------------------+\n\n\nTop 10 Cities with Market Analysis:\n+--------------+------------+-----------------+-----------+-------+----------------+\n|   seller_city|seller_state|metropolitan_area|  city_size|sellers|market_share_pct|\n+--------------+------------+-----------------+-----------+-------+----------------+\n|     Sao Paulo|          SP|  Sao Paulo Metro| Major City|    705|           22.79|\n|      Curitiba|          PR|   Curitiba Metro| Large City|    124|            4.01|\n|Rio De Janeiro|          RJ|        Rio Metro|Medium City|     95|            3.07|\n|Belo Horizonte|          MG|         BH Metro|Medium City|     66|            2.13|\n|Ribeirao Preto|          SP|            Other|Medium City|     53|            1.71|\n|     Guarulhos|          SP|  Sao Paulo Metro|Medium City|     50|            1.62|\n|      Ibitinga|          SP|            Other| Small City|     49|            1.58|\n|   Santo Andre|          SP|  Sao Paulo Metro| Small City|     46|            1.49|\n|      Campinas|          SP|            Other| Small City|     41|            1.33|\n|       Maringa|          PR|            Other| Small City|     40|            1.29|\n+--------------+------------+-----------------+-----------+-------+----------------+\nonly showing top 10 rows\n\n\nFinal Cleaning Summary:\nOriginal record count: 3,095\nCleaned record count: 3,093\nRecords affected: 2\nData retention rate: 99.94%\n\nCity Consolidation:\nOriginal cities: 611\nFinal unique cities: 585\nCities consolidated: 26\nConsolidation rate: 4.26%\n\nCleaned Dataset Schema:\nroot\n |-- seller_city: string (nullable = true)\n |-- seller_state: string (nullable = true)\n |-- seller_id: string (nullable = true)\n |-- seller_zip_code_prefix: string (nullable = true)\n |-- sellers_in_state: long (nullable = false)\n |-- state_market_share: double (nullable = true)\n |-- metropolitan_area: string (nullable = false)\n |-- seller_region: string (nullable = false)\n |-- sellers_in_city: long (nullable = false)\n |-- city_size: string (nullable = false)\n |-- seller_density: string (nullable = false)\n |-- market_proximity: string (nullable = false)\n |-- business_potential: string (nullable = false)\n\n\nMarket Proximity Distribution:\n+----------------+-------+----------+--------------------+\n|market_proximity|sellers|percentage|avg_sellers_per_city|\n+----------------+-------+----------+--------------------+\n|     Core Market|   1235|     39.93|              432.84|\n|     Near Market|   1214|     39.25|                14.1|\n|   Remote Market|    644|     20.82|               10.56|\n+----------------+-------+----------+--------------------+\n\n\nMarket Proximity by Region:\n+----------------+-------------+-----+----------+\n|market_proximity|seller_region|count|percentage|\n+----------------+-------------+-----+----------+\n|     Near Market|    Southeast| 1214|     39.25|\n|     Core Market|    Southeast| 1049|     33.92|\n|   Remote Market|        South|  482|     15.58|\n|     Core Market|        South|  185|      5.98|\n|   Remote Market| Central-West|   79|      2.55|\n|   Remote Market|    Northeast|   55|      1.78|\n|   Remote Market|    Southeast|   23|      0.74|\n|   Remote Market|        North|    5|      0.16|\n|     Core Market|    Northeast|    1|      0.03|\n+----------------+-------------+-----+----------+\n\n\nBusiness Potential Distribution:\n+------------------+-----+----------+\n|business_potential|count|percentage|\n+------------------+-----+----------+\n|            Stable| 1979|     63.98|\n|       High Growth|  832|      26.9|\n|     Medium Growth|  282|      9.12|\n+------------------+-----+----------+\n\n\nBusiness Potential by Region:\n+------------------+-------------+-----+----------+\n|business_potential|seller_region|count|percentage|\n+------------------+-------------+-----+----------+\n|            Stable|    Southeast| 1296|      41.9|\n|       High Growth|    Southeast|  708|     22.89|\n|            Stable|        South|  543|     17.56|\n|     Medium Growth|    Southeast|  282|      9.12|\n|       High Growth|        South|  124|      4.01|\n|            Stable| Central-West|   79|      2.55|\n|            Stable|    Northeast|   56|      1.81|\n|            Stable|        North|    5|      0.16|\n+------------------+-------------+-----+----------+\n\n\nSample of Cleaned Data with New Metrics:\n+--------------------+-----------+------------+-----------------+----------------+----------+--------------+------------------+------------------+\n|           seller_id|seller_city|seller_state|metropolitan_area|market_proximity| city_size|seller_density|state_market_share|business_potential|\n+--------------------+-----------+------------+-----------------+----------------+----------+--------------+------------------+------------------+\n|f8201cab383e48473...|    Palhoca|          SC|            Other|   Remote Market|Small City|           Low|              6.14|            Stable|\n|a5259c149128e82c9...|  Ji Parana|          RO|            Other|   Remote Market|Small City|           Low|              0.06|            Stable|\n|47efca563408aae19...|   Teresina|          PI|            Other|   Remote Market|Small City|           Low|              0.03|            Stable|\n|327b89b872c14d1c0...|     Manaus|          AM|            Other|   Remote Market|Small City|           Low|              0.03|            Stable|\n|39f776d2974049026...|    Goiania|          GO|            Other|   Remote Market|Small City|        Medium|              1.29|            Stable|\n+--------------------+-----------+------------+-----------------+----------------+----------+--------------+------------------+------------------+\nonly showing top 5 rows\n\n"
     ]
    },
    {
     "output_type": "display_data",
     "data": {
      "text/html": [
       "<style scoped>\n",
       "  .table-result-container {\n",
       "    max-height: 300px;\n",
       "    overflow: auto;\n",
       "  }\n",
       "  table, th, td {\n",
       "    border: 1px solid black;\n",
       "    border-collapse: collapse;\n",
       "  }\n",
       "  th, td {\n",
       "    padding: 5px;\n",
       "  }\n",
       "  th {\n",
       "    text-align: left;\n",
       "  }\n",
       "</style><div class='table-result-container'><table class='table-result'><thead style='background-color: white'><tr><th>seller_city</th><th>seller_state</th><th>seller_id</th><th>seller_zip_code_prefix</th><th>sellers_in_state</th><th>state_market_share</th><th>metropolitan_area</th><th>seller_region</th><th>sellers_in_city</th><th>city_size</th><th>seller_density</th><th>market_proximity</th><th>business_potential</th></tr></thead><tbody><tr><td>Campinas</td><td>SP</td><td>3442f8959a84dea7ee197c632cb2df15</td><td>13023</td><td>1849</td><td>59.74</td><td>Other</td><td>Southeast</td><td>41</td><td>Small City</td><td>Medium</td><td>Near Market</td><td>Medium Growth</td></tr><tr><td>Mogi Guacu</td><td>SP</td><td>d1b65fc7debc3361ea86b5f14c68d2e2</td><td>13844</td><td>1849</td><td>59.74</td><td>Other</td><td>Southeast</td><td>8</td><td>Small City</td><td>Low</td><td>Near Market</td><td>Stable</td></tr><tr><td>Rio De Janeiro</td><td>RJ</td><td>ce3ad9de960102d0677a81f5d0bb7b2d</td><td>20031</td><td>171</td><td>5.53</td><td>Rio Metro</td><td>Southeast</td><td>98</td><td>Medium City</td><td>Medium</td><td>Core Market</td><td>Stable</td></tr><tr><td>Sao Paulo</td><td>SP</td><td>c0f3eea2e14555b6faeea3dd58c1b1c3</td><td>04195</td><td>1849</td><td>59.74</td><td>Sao Paulo Metro</td><td>Southeast</td><td>705</td><td>Major City</td><td>High</td><td>Core Market</td><td>High Growth</td></tr><tr><td>Braganca Paulista</td><td>SP</td><td>51a04a8a6bdcb23deccc82b0b80742cf</td><td>12914</td><td>1849</td><td>59.74</td><td>Other</td><td>Southeast</td><td>5</td><td>Small City</td><td>Low</td><td>Near Market</td><td>Stable</td></tr><tr><td>Rio De Janeiro</td><td>RJ</td><td>c240c4061717ac1806ae6ee72be3533b</td><td>20920</td><td>171</td><td>5.53</td><td>Rio Metro</td><td>Southeast</td><td>98</td><td>Medium City</td><td>Medium</td><td>Core Market</td><td>Stable</td></tr><tr><td>Brejao</td><td>PE</td><td>e49c26c3edfa46d227d5121a6b6e4d37</td><td>55325</td><td>9</td><td>0.29</td><td>Other</td><td>Northeast</td><td>1</td><td>Small City</td><td>Low</td><td>Remote Market</td><td>Stable</td></tr><tr><td>Penapolis</td><td>SP</td><td>1b938a7ec6ac5061a66a3766e0e75f90</td><td>16304</td><td>1849</td><td>59.74</td><td>Other</td><td>Southeast</td><td>5</td><td>Small City</td><td>Low</td><td>Near Market</td><td>Stable</td></tr><tr><td>Sao Paulo</td><td>SP</td><td>768a86e36ad6aae3d03ee3c6433d61df</td><td>01529</td><td>1849</td><td>59.74</td><td>Sao Paulo Metro</td><td>Southeast</td><td>705</td><td>Major City</td><td>High</td><td>Core Market</td><td>High Growth</td></tr><tr><td>Curitiba</td><td>PR</td><td>ccc4bbb5f32a6ab2b7066a4130f114e3</td><td>80310</td><td>349</td><td>11.28</td><td>Curitiba Metro</td><td>South</td><td>127</td><td>Large City</td><td>High</td><td>Core Market</td><td>High Growth</td></tr></tbody></table></div>"
      ]
     },
     "metadata": {
      "application/vnd.databricks.v1+output": {
       "addedWidgets": {},
       "aggData": [],
       "aggError": "",
       "aggOverflow": false,
       "aggSchema": [],
       "aggSeriesLimitReached": false,
       "aggType": "",
       "arguments": {},
       "columnCustomDisplayInfos": {},
       "data": [
        [
         "Campinas",
         "SP",
         "3442f8959a84dea7ee197c632cb2df15",
         "13023",
         1849,
         59.74,
         "Other",
         "Southeast",
         41,
         "Small City",
         "Medium",
         "Near Market",
         "Medium Growth"
        ],
        [
         "Mogi Guacu",
         "SP",
         "d1b65fc7debc3361ea86b5f14c68d2e2",
         "13844",
         1849,
         59.74,
         "Other",
         "Southeast",
         8,
         "Small City",
         "Low",
         "Near Market",
         "Stable"
        ],
        [
         "Rio De Janeiro",
         "RJ",
         "ce3ad9de960102d0677a81f5d0bb7b2d",
         "20031",
         171,
         5.53,
         "Rio Metro",
         "Southeast",
         98,
         "Medium City",
         "Medium",
         "Core Market",
         "Stable"
        ],
        [
         "Sao Paulo",
         "SP",
         "c0f3eea2e14555b6faeea3dd58c1b1c3",
         "04195",
         1849,
         59.74,
         "Sao Paulo Metro",
         "Southeast",
         705,
         "Major City",
         "High",
         "Core Market",
         "High Growth"
        ],
        [
         "Braganca Paulista",
         "SP",
         "51a04a8a6bdcb23deccc82b0b80742cf",
         "12914",
         1849,
         59.74,
         "Other",
         "Southeast",
         5,
         "Small City",
         "Low",
         "Near Market",
         "Stable"
        ],
        [
         "Rio De Janeiro",
         "RJ",
         "c240c4061717ac1806ae6ee72be3533b",
         "20920",
         171,
         5.53,
         "Rio Metro",
         "Southeast",
         98,
         "Medium City",
         "Medium",
         "Core Market",
         "Stable"
        ],
        [
         "Brejao",
         "PE",
         "e49c26c3edfa46d227d5121a6b6e4d37",
         "55325",
         9,
         0.29,
         "Other",
         "Northeast",
         1,
         "Small City",
         "Low",
         "Remote Market",
         "Stable"
        ],
        [
         "Penapolis",
         "SP",
         "1b938a7ec6ac5061a66a3766e0e75f90",
         "16304",
         1849,
         59.74,
         "Other",
         "Southeast",
         5,
         "Small City",
         "Low",
         "Near Market",
         "Stable"
        ],
        [
         "Sao Paulo",
         "SP",
         "768a86e36ad6aae3d03ee3c6433d61df",
         "01529",
         1849,
         59.74,
         "Sao Paulo Metro",
         "Southeast",
         705,
         "Major City",
         "High",
         "Core Market",
         "High Growth"
        ],
        [
         "Curitiba",
         "PR",
         "ccc4bbb5f32a6ab2b7066a4130f114e3",
         "80310",
         349,
         11.28,
         "Curitiba Metro",
         "South",
         127,
         "Large City",
         "High",
         "Core Market",
         "High Growth"
        ]
       ],
       "datasetInfos": [],
       "dbfsResultPath": null,
       "isJsonSchema": true,
       "metadata": {},
       "overflow": false,
       "plotOptions": {
        "customPlotOptions": {},
        "displayType": "table",
        "pivotAggregation": null,
        "pivotColumns": null,
        "xColumns": null,
        "yColumns": null
       },
       "removedWidgets": [],
       "schema": [
        {
         "metadata": "{}",
         "name": "seller_city",
         "type": "\"string\""
        },
        {
         "metadata": "{}",
         "name": "seller_state",
         "type": "\"string\""
        },
        {
         "metadata": "{}",
         "name": "seller_id",
         "type": "\"string\""
        },
        {
         "metadata": "{}",
         "name": "seller_zip_code_prefix",
         "type": "\"string\""
        },
        {
         "metadata": "{}",
         "name": "sellers_in_state",
         "type": "\"long\""
        },
        {
         "metadata": "{}",
         "name": "state_market_share",
         "type": "\"double\""
        },
        {
         "metadata": "{}",
         "name": "metropolitan_area",
         "type": "\"string\""
        },
        {
         "metadata": "{}",
         "name": "seller_region",
         "type": "\"string\""
        },
        {
         "metadata": "{}",
         "name": "sellers_in_city",
         "type": "\"long\""
        },
        {
         "metadata": "{}",
         "name": "city_size",
         "type": "\"string\""
        },
        {
         "metadata": "{}",
         "name": "seller_density",
         "type": "\"string\""
        },
        {
         "metadata": "{}",
         "name": "market_proximity",
         "type": "\"string\""
        },
        {
         "metadata": "{}",
         "name": "business_potential",
         "type": "\"string\""
        }
       ],
       "type": "table"
      }
     },
     "output_type": "display_data"
    },
    {
     "output_type": "stream",
     "name": "stdout",
     "output_type": "stream",
     "text": [
      "\nCleaning process completed.\n"
     ]
    }
   ],
   "source": [
    "# This script processes the sellers dataset to clean, standardize, and enrich the data\n",
    "# with additional metrics and classifications for business intelligence purposes.\n",
    "\n",
    "# Import libraries\n",
    "from pyspark.sql.functions import (\n",
    "    col, sum, count, when, upper, initcap, \n",
    "    length, regexp_replace, trim, round, avg,\n",
    "    split, expr, desc, lower\n",
    ")\n",
    "from pyspark.sql.types import StringType\n",
    "import pyspark.sql.functions as F\n",
    "from functools import reduce\n",
    "\n",
    "def clean_sellers_dataset(spark, geolocation=None):\n",
    "    \"\"\"\n",
    "    Comprehensive data cleaning and enrichment function for the Olist sellers dataset.\n",
    "    \n",
    "    The function performs the following major operations:\n",
    "    1. Initial data loading and analysis\n",
    "    2. Data cleaning and standardization\n",
    "    3. Geographic classification and market analysis\n",
    "    4. Business metrics calculation\n",
    "    5. Detailed reporting\n",
    "    \n",
    "    Args:\n",
    "        spark: SparkSession object\n",
    "        geolocation: Optional geolocation data for additional analysis\n",
    "        \n",
    "    Returns:\n",
    "        DataFrame: Cleaned and enriched sellers dataset\n",
    "    \"\"\"\n",
    "    try:\n",
    "        # Step 1: Data Loading and Initial Analysis\n",
    "        print(\"Loading sellers dataset...\")\n",
    "        sellers = spark.read.format(\"csv\").option(\"header\",\"true\").option(\"inferSchema\",\"true\")\\\n",
    "            .load(\"/mnt/olist-store-data/raw-data/olist_sellers_dataset.csv\")\n",
    "        \n",
    "        # Create a copy for cleaning operations\n",
    "        cleaned_sellers = sellers\n",
    "        \n",
    "        # Calculate initial dataset statistics for later comparison\n",
    "        initial_count = sellers.count()\n",
    "        initial_cities = sellers.select(\"seller_city\").distinct().count()\n",
    "        initial_states = sellers.select(\"seller_state\").distinct().count()\n",
    "        \n",
    "         # Display initial dataset metrics\n",
    "        print(\"\\nInitial dataset information:\")\n",
    "        print(f\"Number of records: {initial_count:,}\")\n",
    "        print(f\"Number of columns: {len(sellers.columns)}\")\n",
    "        print(f\"Number of unique cities: {initial_cities:,}\")\n",
    "        print(f\"Number of unique states: {initial_states:,}\")\n",
    "        \n",
    "        # Analyze missing values across all columns\n",
    "        print(\"\\nMissing values analysis:\")\n",
    "        missing_values = sellers.select([\n",
    "            sum(col(c).isNull().cast(\"int\")).alias(c) for c in sellers.columns\n",
    "        ])\n",
    "        \n",
    "        # Display missing value statistics for each column\n",
    "        for column in sellers.columns:\n",
    "            missing_count = missing_values.collect()[0][column]\n",
    "            missing_percentage = (missing_count / initial_count) * 100\n",
    "            print(f\"{column}: {missing_count:,} missing values ({missing_percentage:.2f}%)\")\n",
    "        \n",
    "        print(\"\\nMissing values count:\")\n",
    "        missing_values.show()\n",
    "        \n",
    "        # Check for duplicate seller IDs\n",
    "        print(\"\\nChecking for duplicate records...\")\n",
    "        seller_id_duplicates = sellers.groupBy(\"seller_id\").count().filter(col(\"count\") > 1)\n",
    "        seller_id_duplicate_count = seller_id_duplicates.count()\n",
    "        seller_id_duplicate_percentage = (seller_id_duplicate_count / initial_count) * 100\n",
    "        print(f\"Number of duplicate seller_ids: {seller_id_duplicate_count:,} ({seller_id_duplicate_percentage:.2f}%)\")\n",
    "        \n",
    "        # Step 2: Data Cleaning Process\n",
    "        print(\"\\nStarting data cleaning process...\")\n",
    "        \n",
    "        # Basic string cleaning: Remove whitespace from all string columns\n",
    "        string_columns = [\"seller_id\", \"seller_city\", \"seller_state\"]\n",
    "        for column in string_columns:\n",
    "            cleaned_sellers = cleaned_sellers.withColumn(\n",
    "                column,\n",
    "                trim(col(column))\n",
    "            )\n",
    "        \n",
    "        # Enhanced city name cleaning\n",
    "        # 1. Remove invalid characters and standardize formatting\n",
    "        # 2. Handle common city name variations\n",
    "        # 3. Standardize special characters and accents\n",
    "        cleaned_sellers = cleaned_sellers.withColumn(\n",
    "            \"seller_city\",\n",
    "            when(col(\"seller_city\").rlike(\"\\\\d+\"), None)\n",
    "            .when(col(\"seller_city\").rlike(\"@\"), None)\n",
    "            .when(col(\"seller_city\").rlike(\"/\"), split(col(\"seller_city\"), \"/\").getItem(0))\n",
    "            .when(col(\"seller_city\").rlike(\",\"), split(col(\"seller_city\"), \",\").getItem(0))\n",
    "            .when(col(\"seller_city\").rlike(\"-\"), split(col(\"seller_city\"), \"-\").getItem(0))\n",
    "            .otherwise(col(\"seller_city\"))\n",
    "        )\n",
    "        \n",
    "        # Standardize character encoding and formatting\n",
    "        cleaned_sellers = cleaned_sellers.withColumn(\n",
    "            \"seller_city\",\n",
    "            regexp_replace(\n",
    "                regexp_replace(\n",
    "                    regexp_replace(\n",
    "                        regexp_replace(\n",
    "                            regexp_replace(\n",
    "                                lower(trim(col(\"seller_city\"))),\n",
    "                                \"são\", \"sao\"\n",
    "                            ),\n",
    "                            \"d['´`]\", \"d\"\n",
    "                        ),\n",
    "                        \"\\\\s+\", \" \"\n",
    "                    ),\n",
    "                    \"[^a-z ]\", \"\"\n",
    "                ),\n",
    "                \"^sp$\", \"sao paulo\"\n",
    "            )\n",
    "        )\n",
    "        \n",
    "        # Convert city names to proper case\n",
    "        cleaned_sellers = cleaned_sellers.withColumn(\n",
    "            \"seller_city\",\n",
    "            initcap(col(\"seller_city\"))\n",
    "        )\n",
    "        \n",
    "        # Standardize state names to uppercase\n",
    "        cleaned_sellers = cleaned_sellers.withColumn(\n",
    "            \"seller_state\",\n",
    "            upper(trim(col(\"seller_state\")))\n",
    "        )\n",
    "        \n",
    "        # Convert zip_code into string\n",
    "        cleaned_sellers = cleaned_sellers.withColumn(\n",
    "            \"seller_zip_code_prefix\", \n",
    "            lpad(col(\"seller_zip_code_prefix\").cast(\"string\"), 5, \"0\")\n",
    "        ) \n",
    "\n",
    "        # Metrics Calculation\n",
    "        # Calculate sellers per state and city\n",
    "        sellers_per_state = cleaned_sellers.groupBy(\"seller_state\").count()\n",
    "        cleaned_sellers = cleaned_sellers.join(\n",
    "            sellers_per_state.withColumnRenamed(\"count\", \"sellers_in_state\"), \n",
    "            \"seller_state\"\n",
    "        )\n",
    "        \n",
    "        # Compute state market share percentages for each state\n",
    "        cleaned_sellers = cleaned_sellers.withColumn(\n",
    "            \"state_market_share\",\n",
    "            round(col(\"sellers_in_state\") / initial_count * 100, 2)\n",
    "        )\n",
    "        \n",
    "        # Classify metropolitan areas based on major city clusters\n",
    "        cleaned_sellers = cleaned_sellers.withColumn(\n",
    "            \"metropolitan_area\",\n",
    "            when(col(\"seller_city\").isin(\"Sao Paulo\", \"Guarulhos\", \"Santo Andre\", \"Osasco\", \"Barueri\"), \"Sao Paulo Metro\")\n",
    "            .when(col(\"seller_city\").isin(\"Rio De Janeiro\", \"Niteroi\", \"Nova Iguacu\", \"Duque De Caxias\"), \"Rio Metro\")\n",
    "            .when(col(\"seller_city\").isin(\"Belo Horizonte\", \"Contagem\", \"Betim\"), \"BH Metro\")\n",
    "            .when(col(\"seller_city\").isin(\"Curitiba\", \"Sao Jose Dos Pinhais\", \"Colombo\"), \"Curitiba Metro\")\n",
    "            .when(col(\"seller_city\").isin(\"Porto Alegre\", \"Canoas\", \"Novo Hamburgo\"), \"Porto Alegre Metro\")\n",
    "            .otherwise(\"Other\")\n",
    "        )\n",
    "        \n",
    "        # Classify sellers by geographic region\n",
    "        cleaned_sellers = cleaned_sellers.withColumn(\n",
    "            \"seller_region\",\n",
    "            when(col(\"seller_state\").isin(\"SP\", \"RJ\", \"MG\", \"ES\"), \"Southeast\")\n",
    "            .when(col(\"seller_state\").isin(\"PR\", \"RS\", \"SC\"), \"South\")\n",
    "            .when(col(\"seller_state\").isin(\"MT\", \"MS\", \"GO\", \"DF\"), \"Central-West\")\n",
    "            .when(col(\"seller_state\").isin(\"BA\", \"PE\", \"CE\", \"PB\", \"MA\", \"RN\", \"AL\", \"PI\", \"SE\"), \"Northeast\")\n",
    "            .when(col(\"seller_state\").isin(\"PA\", \"AM\", \"RO\", \"AP\", \"AC\", \"RR\", \"TO\"), \"North\")\n",
    "            .otherwise(\"Unknown\")\n",
    "        )\n",
    "        \n",
    "        # Calculate city-level metrics\n",
    "        sellers_per_city = cleaned_sellers.groupBy(\"seller_city\").count()\n",
    "        cleaned_sellers = cleaned_sellers.join(\n",
    "            sellers_per_city.withColumnRenamed(\"count\", \"sellers_in_city\"), \n",
    "            \"seller_city\"\n",
    "        )\n",
    "        \n",
    "        # Classify cities by size based on seller count\n",
    "        cleaned_sellers = cleaned_sellers.withColumn(\n",
    "            \"city_size\",\n",
    "            when(col(\"sellers_in_city\") >= 500, \"Major City\")\n",
    "            .when(col(\"sellers_in_city\") >= 100, \"Large City\")\n",
    "            .when(col(\"sellers_in_city\") >= 50, \"Medium City\")\n",
    "            .otherwise(\"Small City\")\n",
    "        )\n",
    "        \n",
    "        # Classify locations by market proximity\n",
    "        cleaned_sellers = cleaned_sellers.withColumn(\n",
    "            \"seller_density\",\n",
    "            when(col(\"sellers_in_city\") >= 100, \"High\")\n",
    "            .when(col(\"sellers_in_city\") >= 20, \"Medium\")\n",
    "            .otherwise(\"Low\")\n",
    "        )\n",
    "        \n",
    "        # Classify areas by business growth potential\n",
    "        cleaned_sellers = cleaned_sellers.withColumn(\n",
    "            \"market_proximity\",\n",
    "            when(col(\"metropolitan_area\") != \"Other\", \"Core Market\")\n",
    "            .when(\n",
    "                (col(\"seller_state\").isin(\"SP\", \"RJ\", \"MG\")) & \n",
    "                (col(\"metropolitan_area\") == \"Other\"), \n",
    "                \"Near Market\"\n",
    "            )\n",
    "            .otherwise(\"Remote Market\")\n",
    "        )\n",
    "\n",
    "        # Add business potential classification\n",
    "        cleaned_sellers = cleaned_sellers.withColumn(\n",
    "            \"business_potential\",\n",
    "            when(\n",
    "                (col(\"market_proximity\") == \"Core Market\") & \n",
    "                (col(\"seller_density\") == \"High\"),\n",
    "                \"High Growth\"\n",
    "            )\n",
    "            .when(\n",
    "                (col(\"market_proximity\") == \"Near Market\") & \n",
    "                (col(\"seller_density\").isin(\"High\", \"Medium\")),\n",
    "                \"Medium Growth\"\n",
    "            )\n",
    "            .otherwise(\"Stable\")\n",
    "        )\n",
    "        \n",
    "         # Calculate final dataset metrics\n",
    "        final_count = cleaned_sellers.count()\n",
    "        final_cities = cleaned_sellers.select(\"seller_city\").distinct().count()\n",
    "        \n",
    "        # Print enhanced analysis results\n",
    "        print(\"\\nState-level Analysis:\")\n",
    "        cleaned_sellers.groupBy(\"seller_state\")\\\n",
    "            .agg(\n",
    "                count(\"*\").alias(\"sellers\"),\n",
    "                round(count(\"*\") / initial_count * 100, 2).alias(\"market_share_pct\")\n",
    "            )\\\n",
    "            .orderBy(desc(\"sellers\"))\\\n",
    "            .show()\n",
    "        \n",
    "        print(\"\\nCity Size Distribution:\")\n",
    "        cleaned_sellers.groupBy(\"city_size\").count()\\\n",
    "            .withColumn(\"percentage\", round(col(\"count\") / final_count * 100, 2))\\\n",
    "            .orderBy(\"count\", ascending=False).show()\n",
    "        \n",
    "        print(\"\\nMetropolitan Area Market Share:\")\n",
    "        cleaned_sellers.groupBy(\"metropolitan_area\")\\\n",
    "            .agg(\n",
    "                count(\"*\").alias(\"sellers\"),\n",
    "                round(count(\"*\") / final_count * 100, 2).alias(\"market_share_pct\"),\n",
    "                round(avg(\"sellers_in_city\"), 2).alias(\"avg_sellers_per_city\")\n",
    "            )\\\n",
    "            .orderBy(desc(\"sellers\"))\\\n",
    "            .show()\n",
    "        \n",
    "        print(\"\\nTop 10 Cities with Market Analysis:\")\n",
    "        cleaned_sellers.groupBy(\"seller_city\", \"seller_state\", \"metropolitan_area\", \"city_size\")\\\n",
    "            .agg(\n",
    "                count(\"*\").alias(\"sellers\"),\n",
    "                round(count(\"*\") / final_count * 100, 2).alias(\"market_share_pct\")\n",
    "            )\\\n",
    "            .orderBy(desc(\"sellers\"))\\\n",
    "            .show(10)\n",
    "        \n",
    "        print(\"\\nFinal Cleaning Summary:\")\n",
    "        print(f\"Original record count: {initial_count:,}\")\n",
    "        print(f\"Cleaned record count: {final_count:,}\")\n",
    "        print(f\"Records affected: {abs(initial_count - final_count):,}\")\n",
    "        print(f\"Data retention rate: {(final_count / initial_count) * 100:.2f}%\")\n",
    "        \n",
    "        print(\"\\nCity Consolidation:\")\n",
    "        print(f\"Original cities: {initial_cities:,}\")\n",
    "        print(f\"Final unique cities: {final_cities:,}\")\n",
    "        print(f\"Cities consolidated: {initial_cities - final_cities:,}\")\n",
    "        print(f\"Consolidation rate: {((initial_cities - final_cities) / initial_cities) * 100:.2f}%\")\n",
    "        \n",
    "        print(\"\\nCleaned Dataset Schema:\")\n",
    "        cleaned_sellers.printSchema()\n",
    "        \n",
    "        # Print market proximity analysis\n",
    "        print(\"\\nMarket Proximity Distribution:\")\n",
    "        cleaned_sellers.groupBy(\"market_proximity\")\\\n",
    "            .agg(\n",
    "                count(\"*\").alias(\"sellers\"),\n",
    "                round(count(\"*\") / final_count * 100, 2).alias(\"percentage\"),\n",
    "                round(avg(\"sellers_in_city\"), 2).alias(\"avg_sellers_per_city\")\n",
    "            )\\\n",
    "            .orderBy(desc(\"sellers\"))\\\n",
    "            .show()\n",
    "            \n",
    "        print(\"\\nMarket Proximity by Region:\")\n",
    "        cleaned_sellers.groupBy(\"market_proximity\", \"seller_region\")\\\n",
    "            .count()\\\n",
    "            .withColumn(\"percentage\", round(col(\"count\") / final_count * 100, 2))\\\n",
    "            .orderBy(desc(\"count\"))\\\n",
    "            .show()\n",
    "\n",
    "        print(\"\\nBusiness Potential Distribution:\")\n",
    "        cleaned_sellers.groupBy(\"business_potential\")\\\n",
    "            .count()\\\n",
    "            .withColumn(\"percentage\", round(col(\"count\") / final_count * 100, 2))\\\n",
    "            .orderBy(desc(\"count\"))\\\n",
    "            .show()\n",
    "\n",
    "        print(\"\\nBusiness Potential by Region:\")\n",
    "        cleaned_sellers.groupBy(\"business_potential\", \"seller_region\")\\\n",
    "            .count()\\\n",
    "            .withColumn(\"percentage\", round(col(\"count\") / final_count * 100, 2))\\\n",
    "            .orderBy(desc(\"count\"))\\\n",
    "            .show()\n",
    "\n",
    "        print(\"\\nSample of Cleaned Data with New Metrics:\")\n",
    "        cleaned_sellers.select(\n",
    "            \"seller_id\", \"seller_city\", \"seller_state\", \n",
    "            \"metropolitan_area\", \"market_proximity\", \"city_size\", \n",
    "            \"seller_density\", \"state_market_share\", \"business_potential\"\n",
    "        ).show(5)\n",
    "\n",
    "        # Display final result\n",
    "        display(cleaned_sellers.limit(10))\n",
    "\n",
    "        print(\"\\nCleaning process completed.\")\n",
    "        return cleaned_sellers\n",
    "        \n",
    "    except Exception as e:\n",
    "        print(f\"\\nError in data cleaning process: {str(e)}\")\n",
    "        raise\n",
    "\n",
    "# Execute the cleaning process\n",
    "if __name__ == \"__main__\":\n",
    "    try:\n",
    "        cleaned_sellers = clean_sellers_dataset(spark)\n",
    "    except Exception as e:\n",
    "        print(f\"Failed to clean sellers dataset: {str(e)}\")"
   ]
  },
  {
   "cell_type": "markdown",
   "metadata": {
    "application/vnd.databricks.v1+cell": {
     "cellMetadata": {},
     "inputWidgets": {},
     "nuid": "7c07b7c5-d6cb-42b5-9948-8a1acceb3f52",
     "showTitle": false,
     "tableResultSettingsMap": {},
     "title": ""
    }
   },
   "source": [
    "### Review the cleaned_sellers_withCalculations dataset"
   ]
  },
  {
   "cell_type": "code",
   "execution_count": 0,
   "metadata": {
    "application/vnd.databricks.v1+cell": {
     "cellMetadata": {
      "byteLimit": 2048000,
      "rowLimit": 10000
     },
     "inputWidgets": {},
     "nuid": "8ad3d353-90be-4f80-818f-d9be6bbe13b1",
     "showTitle": false,
     "tableResultSettingsMap": {},
     "title": ""
    }
   },
   "outputs": [
    {
     "output_type": "stream",
     "name": "stdout",
     "output_type": "stream",
     "text": [
      "\nFinal Schema:\nroot\n |-- seller_city: string (nullable = true)\n |-- seller_state: string (nullable = true)\n |-- seller_id: string (nullable = true)\n |-- seller_zip_code_prefix: string (nullable = true)\n |-- sellers_in_state: long (nullable = false)\n |-- state_market_share: double (nullable = true)\n |-- metropolitan_area: string (nullable = false)\n |-- seller_region: string (nullable = false)\n |-- sellers_in_city: long (nullable = false)\n |-- city_size: string (nullable = false)\n |-- seller_density: string (nullable = false)\n |-- market_proximity: string (nullable = false)\n |-- business_potential: string (nullable = false)\n\n\nSample of final cleaned dataset:\n+-----------+------------+--------------------------------+----------------------+----------------+------------------+-----------------+-------------+---------------+----------+--------------+----------------+------------------+\n|seller_city|seller_state|seller_id                       |seller_zip_code_prefix|sellers_in_state|state_market_share|metropolitan_area|seller_region|sellers_in_city|city_size |seller_density|market_proximity|business_potential|\n+-----------+------------+--------------------------------+----------------------+----------------+------------------+-----------------+-------------+---------------+----------+--------------+----------------+------------------+\n|Palhoca    |SC          |f8201cab383e484733266d1906e2fdfa|88137                 |190             |6.14              |Other            |South        |8              |Small City|Low           |Remote Market   |Stable            |\n|Ji Parana  |RO          |a5259c149128e82c9d6d46e0c1c812bb|76900                 |2               |0.06              |Other            |North        |1              |Small City|Low           |Remote Market   |Stable            |\n|Teresina   |PI          |47efca563408aae19bb7206c2d969ea9|64033                 |1               |0.03              |Other            |Northeast    |1              |Small City|Low           |Remote Market   |Stable            |\n|Manaus     |AM          |327b89b872c14d1c0be7235ef4871685|69005                 |1               |0.03              |Other            |North        |1              |Small City|Low           |Remote Market   |Stable            |\n|Goiania    |GO          |39f776d2974049026ff531fc42ef2a3e|74835                 |40              |1.29              |Other            |Central-West |23             |Small City|Medium        |Remote Market   |Stable            |\n+-----------+------------+--------------------------------+----------------------+----------------+------------------+-----------------+-------------+---------------+----------+--------------+----------------+------------------+\nonly showing top 5 rows\n\n\nTotal records in cleaned dataset: 3,093\n"
     ]
    }
   ],
   "source": [
    "# Verify final schema\n",
    "print(\"\\nFinal Schema:\")\n",
    "cleaned_sellers.printSchema()\n",
    "\n",
    "# Show sample of final dataset\n",
    "print(\"\\nSample of final cleaned dataset:\")\n",
    "cleaned_sellers.show(5, truncate=False)\n",
    "\n",
    "# Print final record count\n",
    "print(f\"\\nTotal records in cleaned dataset: {cleaned_sellers.count():,}\")"
   ]
  },
  {
   "cell_type": "markdown",
   "metadata": {
    "application/vnd.databricks.v1+cell": {
     "cellMetadata": {},
     "inputWidgets": {},
     "nuid": "f623eec5-3cf1-4843-8802-22cc7e539480",
     "showTitle": false,
     "tableResultSettingsMap": {},
     "title": ""
    }
   },
   "source": [
    "### Save the cleaned_sellers_withCalculations dataset in parquet file"
   ]
  },
  {
   "cell_type": "code",
   "execution_count": 0,
   "metadata": {
    "application/vnd.databricks.v1+cell": {
     "cellMetadata": {
      "byteLimit": 2048000,
      "rowLimit": 10000
     },
     "inputWidgets": {},
     "nuid": "f2ad76fb-b12d-4c83-aa9a-2183ba03bd8f",
     "showTitle": false,
     "tableResultSettingsMap": {},
     "title": ""
    }
   },
   "outputs": [
    {
     "output_type": "stream",
     "name": "stdout",
     "output_type": "stream",
     "text": [
      "\nVerification of saved Parquet file:\nNumber of rows in saved Parquet file: 3,093\n\nSample of saved data:\n"
     ]
    },
    {
     "output_type": "display_data",
     "data": {
      "text/html": [
       "<style scoped>\n",
       "  .table-result-container {\n",
       "    max-height: 300px;\n",
       "    overflow: auto;\n",
       "  }\n",
       "  table, th, td {\n",
       "    border: 1px solid black;\n",
       "    border-collapse: collapse;\n",
       "  }\n",
       "  th, td {\n",
       "    padding: 5px;\n",
       "  }\n",
       "  th {\n",
       "    text-align: left;\n",
       "  }\n",
       "</style><div class='table-result-container'><table class='table-result'><thead style='background-color: white'><tr><th>seller_city</th><th>seller_state</th><th>seller_id</th><th>seller_zip_code_prefix</th><th>sellers_in_state</th><th>state_market_share</th><th>metropolitan_area</th><th>seller_region</th><th>sellers_in_city</th><th>city_size</th><th>seller_density</th><th>market_proximity</th><th>business_potential</th></tr></thead><tbody><tr><td>Palhoca</td><td>SC</td><td>f8201cab383e484733266d1906e2fdfa</td><td>88137</td><td>190</td><td>6.14</td><td>Other</td><td>South</td><td>8</td><td>Small City</td><td>Low</td><td>Remote Market</td><td>Stable</td></tr><tr><td>Ji Parana</td><td>RO</td><td>a5259c149128e82c9d6d46e0c1c812bb</td><td>76900</td><td>2</td><td>0.06</td><td>Other</td><td>North</td><td>1</td><td>Small City</td><td>Low</td><td>Remote Market</td><td>Stable</td></tr><tr><td>Teresina</td><td>PI</td><td>47efca563408aae19bb7206c2d969ea9</td><td>64033</td><td>1</td><td>0.03</td><td>Other</td><td>Northeast</td><td>1</td><td>Small City</td><td>Low</td><td>Remote Market</td><td>Stable</td></tr><tr><td>Manaus</td><td>AM</td><td>327b89b872c14d1c0be7235ef4871685</td><td>69005</td><td>1</td><td>0.03</td><td>Other</td><td>North</td><td>1</td><td>Small City</td><td>Low</td><td>Remote Market</td><td>Stable</td></tr><tr><td>Goiania</td><td>GO</td><td>39f776d2974049026ff531fc42ef2a3e</td><td>74835</td><td>40</td><td>1.29</td><td>Other</td><td>Central-West</td><td>23</td><td>Small City</td><td>Medium</td><td>Remote Market</td><td>Stable</td></tr></tbody></table></div>"
      ]
     },
     "metadata": {
      "application/vnd.databricks.v1+output": {
       "addedWidgets": {},
       "aggData": [],
       "aggError": "",
       "aggOverflow": false,
       "aggSchema": [],
       "aggSeriesLimitReached": false,
       "aggType": "",
       "arguments": {},
       "columnCustomDisplayInfos": {},
       "data": [
        [
         "Palhoca",
         "SC",
         "f8201cab383e484733266d1906e2fdfa",
         "88137",
         190,
         6.14,
         "Other",
         "South",
         8,
         "Small City",
         "Low",
         "Remote Market",
         "Stable"
        ],
        [
         "Ji Parana",
         "RO",
         "a5259c149128e82c9d6d46e0c1c812bb",
         "76900",
         2,
         0.06,
         "Other",
         "North",
         1,
         "Small City",
         "Low",
         "Remote Market",
         "Stable"
        ],
        [
         "Teresina",
         "PI",
         "47efca563408aae19bb7206c2d969ea9",
         "64033",
         1,
         0.03,
         "Other",
         "Northeast",
         1,
         "Small City",
         "Low",
         "Remote Market",
         "Stable"
        ],
        [
         "Manaus",
         "AM",
         "327b89b872c14d1c0be7235ef4871685",
         "69005",
         1,
         0.03,
         "Other",
         "North",
         1,
         "Small City",
         "Low",
         "Remote Market",
         "Stable"
        ],
        [
         "Goiania",
         "GO",
         "39f776d2974049026ff531fc42ef2a3e",
         "74835",
         40,
         1.29,
         "Other",
         "Central-West",
         23,
         "Small City",
         "Medium",
         "Remote Market",
         "Stable"
        ]
       ],
       "datasetInfos": [],
       "dbfsResultPath": null,
       "isJsonSchema": true,
       "metadata": {},
       "overflow": false,
       "plotOptions": {
        "customPlotOptions": {},
        "displayType": "table",
        "pivotAggregation": null,
        "pivotColumns": null,
        "xColumns": null,
        "yColumns": null
       },
       "removedWidgets": [],
       "schema": [
        {
         "metadata": "{}",
         "name": "seller_city",
         "type": "\"string\""
        },
        {
         "metadata": "{}",
         "name": "seller_state",
         "type": "\"string\""
        },
        {
         "metadata": "{}",
         "name": "seller_id",
         "type": "\"string\""
        },
        {
         "metadata": "{}",
         "name": "seller_zip_code_prefix",
         "type": "\"string\""
        },
        {
         "metadata": "{}",
         "name": "sellers_in_state",
         "type": "\"long\""
        },
        {
         "metadata": "{}",
         "name": "state_market_share",
         "type": "\"double\""
        },
        {
         "metadata": "{}",
         "name": "metropolitan_area",
         "type": "\"string\""
        },
        {
         "metadata": "{}",
         "name": "seller_region",
         "type": "\"string\""
        },
        {
         "metadata": "{}",
         "name": "sellers_in_city",
         "type": "\"long\""
        },
        {
         "metadata": "{}",
         "name": "city_size",
         "type": "\"string\""
        },
        {
         "metadata": "{}",
         "name": "seller_density",
         "type": "\"string\""
        },
        {
         "metadata": "{}",
         "name": "market_proximity",
         "type": "\"string\""
        },
        {
         "metadata": "{}",
         "name": "business_potential",
         "type": "\"string\""
        }
       ],
       "type": "table"
      }
     },
     "output_type": "display_data"
    },
    {
     "output_type": "stream",
     "name": "stdout",
     "output_type": "stream",
     "text": [
      "\nSuccessfully saved as a single Parquet file.\n"
     ]
    }
   ],
   "source": [
    "# Define the output path for final cleaned and translated dataset\n",
    "output_path = \"/mnt/olist-store-data/transformed-data/olist_sellers_cleaned_dataset_withCalculations.parquet\"\n",
    "temp_path = \"/mnt/olist-store-data/transformed-data/temp_parquet_output\"\n",
    "\n",
    "try:\n",
    "    # Remove existing directories if they exist\n",
    "    dbutils.fs.rm(output_path, recurse=True)\n",
    "    dbutils.fs.rm(temp_path, recurse=True)\n",
    "\n",
    "    # Save as a single Parquet file using temporary directory\n",
    "    (cleaned_sellers\n",
    "     .repartition(1)  # Force to a single partition\n",
    "     .write\n",
    "     .mode(\"overwrite\")\n",
    "     .parquet(temp_path))\n",
    "\n",
    "    # Find the Parquet file in temp directory\n",
    "    temp_files = dbutils.fs.ls(temp_path)\n",
    "    parquet_file = [f.path for f in temp_files if f.path.endswith(\".parquet\")][0]\n",
    "    \n",
    "    # Move to final location\n",
    "    dbutils.fs.mv(parquet_file, output_path)\n",
    "    \n",
    "    # Clean up temp directory\n",
    "    dbutils.fs.rm(temp_path, recurse=True)\n",
    "\n",
    "    # Verify the saved Parquet file\n",
    "    verified_df = spark.read.parquet(output_path)\n",
    "    print(\"\\nVerification of saved Parquet file:\")\n",
    "    print(f\"Number of rows in saved Parquet file: {verified_df.count():,}\")\n",
    "    print(\"\\nSample of saved data:\")\n",
    "    display(verified_df.limit(5))\n",
    "\n",
    "    # Verify it's a single file\n",
    "    if len(dbutils.fs.ls(output_path)) == 1:\n",
    "        print(\"\\nSuccessfully saved as a single Parquet file.\")\n",
    "    else:\n",
    "        print(\"\\nWarning: Multiple files were created.\")\n",
    "\n",
    "except Exception as e:\n",
    "    print(f\"Error saving dataset: {str(e)}\")\n",
    "    # Clean up temp directory in case of failure\n",
    "    dbutils.fs.rm(temp_path, recurse=True)\n",
    "    raise\n",
    "finally:\n",
    "    # Unpersist cached DataFrame\n",
    "    cleaned_sellers.unpersist()"
   ]
  },
  {
   "cell_type": "markdown",
   "metadata": {
    "application/vnd.databricks.v1+cell": {
     "cellMetadata": {},
     "inputWidgets": {},
     "nuid": "7693d11f-3ab5-4ed5-8a03-c0519bc81879",
     "showTitle": false,
     "tableResultSettingsMap": {},
     "title": ""
    }
   },
   "source": [
    "### Review the cleaned_sellers dataset with selected columns"
   ]
  },
  {
   "cell_type": "code",
   "execution_count": 0,
   "metadata": {
    "application/vnd.databricks.v1+cell": {
     "cellMetadata": {
      "byteLimit": 2048000,
      "rowLimit": 10000
     },
     "inputWidgets": {},
     "nuid": "14a62e87-28c2-478d-91cc-a32a479ac541",
     "showTitle": false,
     "tableResultSettingsMap": {},
     "title": ""
    }
   },
   "outputs": [
    {
     "output_type": "stream",
     "name": "stdout",
     "output_type": "stream",
     "text": [
      "\nFinal Schema:\nroot\n |-- seller_id: string (nullable = true)\n |-- seller_zip_code_prefix: string (nullable = true)\n |-- seller_city: string (nullable = true)\n |-- seller_state: string (nullable = true)\n\n\nSample of final cleaned dataset:\n"
     ]
    },
    {
     "output_type": "display_data",
     "data": {
      "text/html": [
       "<style scoped>\n",
       "  .table-result-container {\n",
       "    max-height: 300px;\n",
       "    overflow: auto;\n",
       "  }\n",
       "  table, th, td {\n",
       "    border: 1px solid black;\n",
       "    border-collapse: collapse;\n",
       "  }\n",
       "  th, td {\n",
       "    padding: 5px;\n",
       "  }\n",
       "  th {\n",
       "    text-align: left;\n",
       "  }\n",
       "</style><div class='table-result-container'><table class='table-result'><thead style='background-color: white'><tr><th>seller_id</th><th>seller_zip_code_prefix</th><th>seller_city</th><th>seller_state</th></tr></thead><tbody><tr><td>f8201cab383e484733266d1906e2fdfa</td><td>88137</td><td>Palhoca</td><td>SC</td></tr><tr><td>a5259c149128e82c9d6d46e0c1c812bb</td><td>76900</td><td>Ji Parana</td><td>RO</td></tr><tr><td>47efca563408aae19bb7206c2d969ea9</td><td>64033</td><td>Teresina</td><td>PI</td></tr><tr><td>327b89b872c14d1c0be7235ef4871685</td><td>69005</td><td>Manaus</td><td>AM</td></tr><tr><td>39f776d2974049026ff531fc42ef2a3e</td><td>74835</td><td>Goiania</td><td>GO</td></tr></tbody></table></div>"
      ]
     },
     "metadata": {
      "application/vnd.databricks.v1+output": {
       "addedWidgets": {},
       "aggData": [],
       "aggError": "",
       "aggOverflow": false,
       "aggSchema": [],
       "aggSeriesLimitReached": false,
       "aggType": "",
       "arguments": {},
       "columnCustomDisplayInfos": {},
       "data": [
        [
         "f8201cab383e484733266d1906e2fdfa",
         "88137",
         "Palhoca",
         "SC"
        ],
        [
         "a5259c149128e82c9d6d46e0c1c812bb",
         "76900",
         "Ji Parana",
         "RO"
        ],
        [
         "47efca563408aae19bb7206c2d969ea9",
         "64033",
         "Teresina",
         "PI"
        ],
        [
         "327b89b872c14d1c0be7235ef4871685",
         "69005",
         "Manaus",
         "AM"
        ],
        [
         "39f776d2974049026ff531fc42ef2a3e",
         "74835",
         "Goiania",
         "GO"
        ]
       ],
       "datasetInfos": [],
       "dbfsResultPath": null,
       "isJsonSchema": true,
       "metadata": {},
       "overflow": false,
       "plotOptions": {
        "customPlotOptions": {},
        "displayType": "table",
        "pivotAggregation": null,
        "pivotColumns": null,
        "xColumns": null,
        "yColumns": null
       },
       "removedWidgets": [],
       "schema": [
        {
         "metadata": "{}",
         "name": "seller_id",
         "type": "\"string\""
        },
        {
         "metadata": "{}",
         "name": "seller_zip_code_prefix",
         "type": "\"string\""
        },
        {
         "metadata": "{}",
         "name": "seller_city",
         "type": "\"string\""
        },
        {
         "metadata": "{}",
         "name": "seller_state",
         "type": "\"string\""
        }
       ],
       "type": "table"
      }
     },
     "output_type": "display_data"
    },
    {
     "output_type": "stream",
     "name": "stdout",
     "output_type": "stream",
     "text": [
      "\nTotal records in cleaned dataset: 3,093\n"
     ]
    }
   ],
   "source": [
    "from pyspark.sql.functions import col\n",
    "\n",
    "def preview_sellers(spark):\n",
    "    # Load the existing cleaned products dataset\n",
    "    cleaned_sellers = spark.read.parquet(\"/mnt/olist-store-data/transformed-data/olist_sellers_cleaned_dataset_withCalculations.parquet\")\n",
    "\n",
    "    # Create DataFrame with selected columns\n",
    "    cleaned_selected_sellers = cleaned_sellers.select(\n",
    "        \"seller_id\",\n",
    "        \"seller_zip_code_prefix\",\n",
    "        \"seller_city\",\n",
    "        \"seller_state\",\n",
    "    )\n",
    "\n",
    "    # Verify final schema\n",
    "    print(\"\\nFinal Schema:\")\n",
    "    cleaned_selected_sellers.printSchema()\n",
    "\n",
    "    # Show sample of final dataset\n",
    "    print(\"\\nSample of final cleaned dataset:\")\n",
    "    display(cleaned_selected_sellers.limit(5))\n",
    "\n",
    "    # Print final record count\n",
    "    print(f\"\\nTotal records in cleaned dataset: {cleaned_selected_sellers.count():,}\")\n",
    "    \n",
    "    return cleaned_selected_sellers\n",
    "\n",
    "# Call the function with the spark session and store the result\n",
    "selected_sellers = preview_sellers(spark)"
   ]
  },
  {
   "cell_type": "markdown",
   "metadata": {
    "application/vnd.databricks.v1+cell": {
     "cellMetadata": {},
     "inputWidgets": {},
     "nuid": "c9fa02d7-a8c4-4f99-81c7-de679493b31f",
     "showTitle": false,
     "tableResultSettingsMap": {},
     "title": ""
    }
   },
   "source": [
    "### Save the cleaned_sellers dataset with select columns in parquet file"
   ]
  },
  {
   "cell_type": "code",
   "execution_count": 0,
   "metadata": {
    "application/vnd.databricks.v1+cell": {
     "cellMetadata": {
      "byteLimit": 2048000,
      "rowLimit": 10000
     },
     "inputWidgets": {},
     "nuid": "ce7fac2a-0e04-4d5e-9ea6-68a9006bfc8e",
     "showTitle": false,
     "tableResultSettingsMap": {},
     "title": ""
    }
   },
   "outputs": [
    {
     "output_type": "stream",
     "name": "stdout",
     "output_type": "stream",
     "text": [
      "\nVerification of saved Parquet file:\nNumber of rows in saved Parquet file: 3,093\n\nSample of saved data:\n"
     ]
    },
    {
     "output_type": "display_data",
     "data": {
      "text/html": [
       "<style scoped>\n",
       "  .table-result-container {\n",
       "    max-height: 300px;\n",
       "    overflow: auto;\n",
       "  }\n",
       "  table, th, td {\n",
       "    border: 1px solid black;\n",
       "    border-collapse: collapse;\n",
       "  }\n",
       "  th, td {\n",
       "    padding: 5px;\n",
       "  }\n",
       "  th {\n",
       "    text-align: left;\n",
       "  }\n",
       "</style><div class='table-result-container'><table class='table-result'><thead style='background-color: white'><tr><th>seller_id</th><th>seller_zip_code_prefix</th><th>seller_city</th><th>seller_state</th></tr></thead><tbody><tr><td>f8201cab383e484733266d1906e2fdfa</td><td>88137</td><td>Palhoca</td><td>SC</td></tr><tr><td>a5259c149128e82c9d6d46e0c1c812bb</td><td>76900</td><td>Ji Parana</td><td>RO</td></tr><tr><td>47efca563408aae19bb7206c2d969ea9</td><td>64033</td><td>Teresina</td><td>PI</td></tr><tr><td>327b89b872c14d1c0be7235ef4871685</td><td>69005</td><td>Manaus</td><td>AM</td></tr><tr><td>39f776d2974049026ff531fc42ef2a3e</td><td>74835</td><td>Goiania</td><td>GO</td></tr></tbody></table></div>"
      ]
     },
     "metadata": {
      "application/vnd.databricks.v1+output": {
       "addedWidgets": {},
       "aggData": [],
       "aggError": "",
       "aggOverflow": false,
       "aggSchema": [],
       "aggSeriesLimitReached": false,
       "aggType": "",
       "arguments": {},
       "columnCustomDisplayInfos": {},
       "data": [
        [
         "f8201cab383e484733266d1906e2fdfa",
         "88137",
         "Palhoca",
         "SC"
        ],
        [
         "a5259c149128e82c9d6d46e0c1c812bb",
         "76900",
         "Ji Parana",
         "RO"
        ],
        [
         "47efca563408aae19bb7206c2d969ea9",
         "64033",
         "Teresina",
         "PI"
        ],
        [
         "327b89b872c14d1c0be7235ef4871685",
         "69005",
         "Manaus",
         "AM"
        ],
        [
         "39f776d2974049026ff531fc42ef2a3e",
         "74835",
         "Goiania",
         "GO"
        ]
       ],
       "datasetInfos": [],
       "dbfsResultPath": null,
       "isJsonSchema": true,
       "metadata": {},
       "overflow": false,
       "plotOptions": {
        "customPlotOptions": {},
        "displayType": "table",
        "pivotAggregation": null,
        "pivotColumns": null,
        "xColumns": null,
        "yColumns": null
       },
       "removedWidgets": [],
       "schema": [
        {
         "metadata": "{}",
         "name": "seller_id",
         "type": "\"string\""
        },
        {
         "metadata": "{}",
         "name": "seller_zip_code_prefix",
         "type": "\"string\""
        },
        {
         "metadata": "{}",
         "name": "seller_city",
         "type": "\"string\""
        },
        {
         "metadata": "{}",
         "name": "seller_state",
         "type": "\"string\""
        }
       ],
       "type": "table"
      }
     },
     "output_type": "display_data"
    },
    {
     "output_type": "stream",
     "name": "stdout",
     "output_type": "stream",
     "text": [
      "\nSuccessfully saved as a single Parquet file.\n"
     ]
    }
   ],
   "source": [
    "# Define the output path for final cleaned and translated dataset\n",
    "output_path = \"/mnt/olist-store-data/transformed-data/olist_sellers_cleaned_dataset_v2.0.parquet\"\n",
    "temp_path = \"/mnt/olist-store-data/transformed-data/temp_sellers_parquet\"\n",
    "\n",
    "try:\n",
    "    # Remove existing directories if they exist\n",
    "    dbutils.fs.rm(output_path, recurse=True)\n",
    "    dbutils.fs.rm(temp_path, recurse=True)\n",
    "\n",
    "    # Save as a single Parquet file using temporary directory\n",
    "    (selected_sellers\n",
    "     .repartition(1)  # Force to a single partition\n",
    "     .write\n",
    "     .mode(\"overwrite\")\n",
    "     .parquet(temp_path))\n",
    "\n",
    "    # Find the Parquet file in temp directory\n",
    "    temp_files = dbutils.fs.ls(temp_path)\n",
    "    parquet_file = [f.path for f in temp_files if f.path.endswith(\".parquet\")][0]\n",
    "    \n",
    "    # Move to final location\n",
    "    dbutils.fs.mv(parquet_file, output_path)\n",
    "    \n",
    "    # Clean up temp directory\n",
    "    dbutils.fs.rm(temp_path, recurse=True)\n",
    "\n",
    "    # Verify the saved Parquet file\n",
    "    verified_df = spark.read.parquet(output_path)\n",
    "    print(\"\\nVerification of saved Parquet file:\")\n",
    "    print(f\"Number of rows in saved Parquet file: {verified_df.count():,}\")\n",
    "    print(\"\\nSample of saved data:\")\n",
    "    display(verified_df.limit(5))\n",
    "\n",
    "    # Verify it's a single file\n",
    "    if len(dbutils.fs.ls(output_path)) == 1:\n",
    "        print(\"\\nSuccessfully saved as a single Parquet file.\")\n",
    "    else:\n",
    "        print(\"\\nWarning: Multiple files were created.\")\n",
    "\n",
    "except Exception as e:\n",
    "    print(f\"Error saving dataset: {str(e)}\")\n",
    "    # Clean up temp directory in case of failure\n",
    "    dbutils.fs.rm(temp_path, recurse=True)\n",
    "    raise\n",
    "finally:\n",
    "    # Unpersist cached DataFrame\n",
    "    selected_sellers.unpersist()"
   ]
  }
 ],
 "metadata": {
  "application/vnd.databricks.v1+notebook": {
   "computePreferences": null,
   "dashboards": [],
   "environmentMetadata": {
    "base_environment": "",
    "client": "1"
   },
   "language": "python",
   "notebookMetadata": {
    "pythonIndentUnit": 4
   },
   "notebookName": "08. OLIST_Data_Cleaning_Sellers_(revised)_20250113",
   "widgets": {}
  },
  "language_info": {
   "name": "python"
  }
 },
 "nbformat": 4,
 "nbformat_minor": 0
}