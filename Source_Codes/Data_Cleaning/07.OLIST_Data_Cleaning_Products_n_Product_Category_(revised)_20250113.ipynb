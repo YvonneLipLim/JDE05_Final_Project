{
 "cells": [
  {
   "cell_type": "markdown",
   "metadata": {
    "application/vnd.databricks.v1+cell": {
     "cellMetadata": {},
     "inputWidgets": {},
     "nuid": "3442ea11-9479-4411-bb0b-596942ffb8b0",
     "showTitle": false,
     "tableResultSettingsMap": {},
     "title": ""
    }
   },
   "source": [
    "### Mounting the container into Databricks"
   ]
  },
  {
   "cell_type": "code",
   "execution_count": 0,
   "metadata": {
    "application/vnd.databricks.v1+cell": {
     "cellMetadata": {
      "byteLimit": 2048000,
      "rowLimit": 10000
     },
     "inputWidgets": {},
     "nuid": "8f5e242b-2a70-4d54-ade0-6b1e457b67ad",
     "showTitle": false,
     "tableResultSettingsMap": {},
     "title": ""
    }
   },
   "outputs": [
    {
     "output_type": "stream",
     "name": "stdout",
     "output_type": "stream",
     "text": [
      "Collecting azure-identity\n  Obtaining dependency information for azure-identity from https://files.pythonhosted.org/packages/f0/d5/3995ed12f941f4a41a273d9b1709282e825ef87ed8eab3833038fee54d59/azure_identity-1.19.0-py3-none-any.whl.metadata\n  Using cached azure_identity-1.19.0-py3-none-any.whl.metadata (80 kB)\nCollecting azure-keyvault-secrets\n  Obtaining dependency information for azure-keyvault-secrets from https://files.pythonhosted.org/packages/bf/ad/e5dd4c09ed80196b1b35f107502b12e32d06eb2d965adf4673df0d5cf85e/azure_keyvault_secrets-4.9.0-py3-none-any.whl.metadata\n  Using cached azure_keyvault_secrets-4.9.0-py3-none-any.whl.metadata (29 kB)\nCollecting azure-core>=1.31.0 (from azure-identity)\n  Obtaining dependency information for azure-core>=1.31.0 from https://files.pythonhosted.org/packages/39/83/325bf5e02504dbd8b4faa98197a44cdf8a325ef259b48326a2b6f17f8383/azure_core-1.32.0-py3-none-any.whl.metadata\n  Using cached azure_core-1.32.0-py3-none-any.whl.metadata (39 kB)\nRequirement already satisfied: cryptography>=2.5 in /databricks/python3/lib/python3.11/site-packages (from azure-identity) (41.0.3)\nCollecting msal>=1.30.0 (from azure-identity)\n  Obtaining dependency information for msal>=1.30.0 from https://files.pythonhosted.org/packages/30/7c/489cd931a752d05753d730e848039f08f65f86237cf1b8724d0a1cbd700b/msal-1.31.1-py3-none-any.whl.metadata\n  Using cached msal-1.31.1-py3-none-any.whl.metadata (11 kB)\nCollecting msal-extensions>=1.2.0 (from azure-identity)\n  Obtaining dependency information for msal-extensions>=1.2.0 from https://files.pythonhosted.org/packages/2c/69/314d887a01599669fb330da14e5c6ff5f138609e322812a942a74ef9b765/msal_extensions-1.2.0-py3-none-any.whl.metadata\n  Using cached msal_extensions-1.2.0-py3-none-any.whl.metadata (7.6 kB)\nRequirement already satisfied: typing-extensions>=4.0.0 in /databricks/python3/lib/python3.11/site-packages (from azure-identity) (4.10.0)\nRequirement already satisfied: isodate>=0.6.1 in /databricks/python3/lib/python3.11/site-packages (from azure-keyvault-secrets) (0.6.1)\nRequirement already satisfied: requests>=2.21.0 in /databricks/python3/lib/python3.11/site-packages (from azure-core>=1.31.0->azure-identity) (2.31.0)\nRequirement already satisfied: six>=1.11.0 in /usr/lib/python3/dist-packages (from azure-core>=1.31.0->azure-identity) (1.16.0)\nRequirement already satisfied: cffi>=1.12 in /databricks/python3/lib/python3.11/site-packages (from cryptography>=2.5->azure-identity) (1.15.1)\nRequirement already satisfied: PyJWT[crypto]<3,>=1.0.0 in /usr/lib/python3/dist-packages (from msal>=1.30.0->azure-identity) (2.3.0)\nCollecting portalocker<3,>=1.4 (from msal-extensions>=1.2.0->azure-identity)\n  Obtaining dependency information for portalocker<3,>=1.4 from https://files.pythonhosted.org/packages/9b/fb/a70a4214956182e0d7a9099ab17d50bfcba1056188e9b14f35b9e2b62a0d/portalocker-2.10.1-py3-none-any.whl.metadata\n  Using cached portalocker-2.10.1-py3-none-any.whl.metadata (8.5 kB)\nRequirement already satisfied: pycparser in /databricks/python3/lib/python3.11/site-packages (from cffi>=1.12->cryptography>=2.5->azure-identity) (2.21)\nRequirement already satisfied: charset-normalizer<4,>=2 in /databricks/python3/lib/python3.11/site-packages (from requests>=2.21.0->azure-core>=1.31.0->azure-identity) (2.0.4)\nRequirement already satisfied: idna<4,>=2.5 in /databricks/python3/lib/python3.11/site-packages (from requests>=2.21.0->azure-core>=1.31.0->azure-identity) (3.4)\nRequirement already satisfied: urllib3<3,>=1.21.1 in /databricks/python3/lib/python3.11/site-packages (from requests>=2.21.0->azure-core>=1.31.0->azure-identity) (1.26.16)\nRequirement already satisfied: certifi>=2017.4.17 in /databricks/python3/lib/python3.11/site-packages (from requests>=2.21.0->azure-core>=1.31.0->azure-identity) (2023.7.22)\nUsing cached azure_identity-1.19.0-py3-none-any.whl (187 kB)\nUsing cached azure_keyvault_secrets-4.9.0-py3-none-any.whl (87 kB)\nUsing cached azure_core-1.32.0-py3-none-any.whl (198 kB)\nUsing cached msal-1.31.1-py3-none-any.whl (113 kB)\nUsing cached msal_extensions-1.2.0-py3-none-any.whl (19 kB)\nUsing cached portalocker-2.10.1-py3-none-any.whl (18 kB)\nInstalling collected packages: portalocker, azure-core, azure-keyvault-secrets, msal, msal-extensions, azure-identity\n  Attempting uninstall: azure-core\n    Found existing installation: azure-core 1.30.2\n    Not uninstalling azure-core at /databricks/python3/lib/python3.11/site-packages, outside environment /local_disk0/.ephemeral_nfs/envs/pythonEnv-ccad7cc7-e20b-4e3a-b89f-9e60f25891c6\n    Can't uninstall 'azure-core'. No files were found to uninstall.\nSuccessfully installed azure-core-1.32.0 azure-identity-1.19.0 azure-keyvault-secrets-4.9.0 msal-1.31.1 msal-extensions-1.2.0 portalocker-2.10.1\n\u001B[43mNote: you may need to restart the kernel using %restart_python or dbutils.library.restartPython() to use updated packages.\u001B[0m\n"
     ]
    }
   ],
   "source": [
    "# Install required packages\n",
    "%pip install azure-identity azure-keyvault-secrets"
   ]
  },
  {
   "cell_type": "code",
   "execution_count": 0,
   "metadata": {
    "application/vnd.databricks.v1+cell": {
     "cellMetadata": {
      "byteLimit": 2048000,
      "rowLimit": 10000
     },
     "inputWidgets": {},
     "nuid": "a094e9f6-48fa-4649-8c4d-743f52417a1e",
     "showTitle": false,
     "tableResultSettingsMap": {},
     "title": ""
    }
   },
   "outputs": [],
   "source": [
    "# Restart Python interpreter to ensure new packages are loaded\n",
    "%restart_python"
   ]
  },
  {
   "cell_type": "code",
   "execution_count": 0,
   "metadata": {
    "application/vnd.databricks.v1+cell": {
     "cellMetadata": {
      "byteLimit": 2048000,
      "rowLimit": 10000
     },
     "inputWidgets": {},
     "nuid": "ee0dfd3c-3b40-4703-a2c6-cae5f092ebd9",
     "showTitle": false,
     "tableResultSettingsMap": {},
     "title": ""
    }
   },
   "outputs": [
    {
     "output_type": "stream",
     "name": "stdout",
     "output_type": "stream",
     "text": [
      "/mnt/olist-store-data has been unmounted.\n"
     ]
    },
    {
     "output_type": "execute_result",
     "data": {
      "text/plain": [
       "True"
      ]
     },
     "execution_count": 1,
     "metadata": {},
     "output_type": "execute_result"
    }
   ],
   "source": [
    "from azure.identity import DefaultAzureCredential\n",
    "from azure.keyvault.secrets import SecretClient\n",
    "\n",
    "# Key Vault configuration\n",
    "key_vault_url = \"https://Olist-Key.vault.azure.net/\"\n",
    "credential = DefaultAzureCredential()\n",
    "client = SecretClient(vault_url=key_vault_url, credential=credential)\n",
    "\n",
    "# Retrieve secrets from Key Vault\n",
    "client_id = client.get_secret(\"olist-client-id\").value\n",
    "client_secret = client.get_secret(\"olist-client-secret\").value\n",
    "tenant_id = client.get_secret(\"olist-tenant-id\").value\n",
    "\n",
    "# Unmount the existing mount point if it exists\n",
    "dbutils.fs.unmount(\"/mnt/olist-store-data\")\n",
    "\n",
    "# Create the configurations\n",
    "configs = {\n",
    "    \"fs.azure.account.auth.type\": \"OAuth\",\n",
    "    \"fs.azure.account.oauth.provider.type\": \"org.apache.hadoop.fs.azurebfs.oauth2.ClientCredsTokenProvider\",\n",
    "    \"fs.azure.account.oauth2.client.id\": client_id,\n",
    "    \"fs.azure.account.oauth2.client.secret\": client_secret,\n",
    "    \"fs.azure.account.oauth2.client.endpoint\": f\"https://login.microsoftonline.com/{tenant_id}/oauth2/token\"\n",
    "}\n",
    "\n",
    "# Mount the storage\n",
    "dbutils.fs.mount(\n",
    "    source=\"abfss://olist-store-data@olistbrdata.dfs.core.windows.net\",\n",
    "    mount_point=\"/mnt/olist-store-data\",\n",
    "    extra_configs=configs\n",
    ")"
   ]
  },
  {
   "cell_type": "markdown",
   "metadata": {
    "application/vnd.databricks.v1+cell": {
     "cellMetadata": {},
     "inputWidgets": {},
     "nuid": "f7fc914b-76ef-4362-b6f0-4c1dc5dedaec",
     "showTitle": false,
     "tableResultSettingsMap": {},
     "title": ""
    }
   },
   "source": [
    "### Check mounting of the storage-account container"
   ]
  },
  {
   "cell_type": "code",
   "execution_count": 0,
   "metadata": {
    "application/vnd.databricks.v1+cell": {
     "cellMetadata": {
      "byteLimit": 2048000,
      "rowLimit": 10000
     },
     "inputWidgets": {},
     "nuid": "d215f1a0-4d0d-470a-8d66-60aadc780f70",
     "showTitle": false,
     "tableResultSettingsMap": {},
     "title": ""
    }
   },
   "outputs": [
    {
     "output_type": "execute_result",
     "data": {
      "text/plain": [
       "[FileInfo(path='dbfs:/mnt/olist-store-data/raw-data/', name='raw-data/', size=0, modificationTime=1735461319000),\n",
       " FileInfo(path='dbfs:/mnt/olist-store-data/ready-data/', name='ready-data/', size=0, modificationTime=1735792345000),\n",
       " FileInfo(path='dbfs:/mnt/olist-store-data/test-upload/', name='test-upload/', size=0, modificationTime=1736860622000),\n",
       " FileInfo(path='dbfs:/mnt/olist-store-data/transformed-data/', name='transformed-data/', size=0, modificationTime=1735461344000)]"
      ]
     },
     "execution_count": 2,
     "metadata": {},
     "output_type": "execute_result"
    }
   ],
   "source": [
    "# Check if the mounting is successful or not\n",
    "dbutils.fs.ls(\"/mnt/olist-store-data\")"
   ]
  },
  {
   "cell_type": "markdown",
   "metadata": {
    "application/vnd.databricks.v1+cell": {
     "cellMetadata": {},
     "inputWidgets": {},
     "nuid": "21b99da7-5e5c-4b31-a1dc-4d1426e40a44",
     "showTitle": false,
     "tableResultSettingsMap": {},
     "title": ""
    }
   },
   "source": [
    "### Read product_category dataset from raw-data folder"
   ]
  },
  {
   "cell_type": "code",
   "execution_count": 0,
   "metadata": {
    "application/vnd.databricks.v1+cell": {
     "cellMetadata": {
      "byteLimit": 2048000,
      "rowLimit": 10000
     },
     "inputWidgets": {},
     "nuid": "aa5419f9-5ef1-42bf-8c5b-b550a096e5f7",
     "showTitle": false,
     "tableResultSettingsMap": {},
     "title": ""
    }
   },
   "outputs": [],
   "source": [
    "product_category = spark.read.format(\"csv\").option(\"header\",\"true\").option(\"inferSchema\",\"true\").load(\"/mnt/olist-store-data/raw-data/product_category_name_translation.csv\")"
   ]
  },
  {
   "cell_type": "code",
   "execution_count": 0,
   "metadata": {
    "application/vnd.databricks.v1+cell": {
     "cellMetadata": {
      "byteLimit": 2048000,
      "rowLimit": 10000
     },
     "inputWidgets": {},
     "nuid": "0d1dd579-6451-457b-9d1e-df6c1a71de48",
     "showTitle": false,
     "tableResultSettingsMap": {},
     "title": ""
    }
   },
   "outputs": [
    {
     "output_type": "stream",
     "name": "stdout",
     "output_type": "stream",
     "text": [
      "+---------------------+-----------------------------+\n|product_category_name|product_category_name_english|\n+---------------------+-----------------------------+\n|         beleza_saude|                health_beauty|\n| informatica_acess...|         computers_accesso...|\n|           automotivo|                         auto|\n|      cama_mesa_banho|               bed_bath_table|\n|     moveis_decoracao|              furniture_decor|\n|        esporte_lazer|               sports_leisure|\n|           perfumaria|                    perfumery|\n| utilidades_domest...|                   housewares|\n|            telefonia|                    telephony|\n|   relogios_presentes|                watches_gifts|\n+---------------------+-----------------------------+\nonly showing top 10 rows\n\nroot\n |-- product_category_name: string (nullable = true)\n |-- product_category_name_english: string (nullable = true)\n\n"
     ]
    },
    {
     "output_type": "display_data",
     "data": {
      "text/html": [
       "<style scoped>\n",
       "  .table-result-container {\n",
       "    max-height: 300px;\n",
       "    overflow: auto;\n",
       "  }\n",
       "  table, th, td {\n",
       "    border: 1px solid black;\n",
       "    border-collapse: collapse;\n",
       "  }\n",
       "  th, td {\n",
       "    padding: 5px;\n",
       "  }\n",
       "  th {\n",
       "    text-align: left;\n",
       "  }\n",
       "</style><div class='table-result-container'><table class='table-result'><thead style='background-color: white'><tr><th>product_category_name</th><th>product_category_name_english</th></tr></thead><tbody><tr><td>beleza_saude</td><td>health_beauty</td></tr><tr><td>informatica_acessorios</td><td>computers_accessories</td></tr><tr><td>automotivo</td><td>auto</td></tr><tr><td>cama_mesa_banho</td><td>bed_bath_table</td></tr><tr><td>moveis_decoracao</td><td>furniture_decor</td></tr><tr><td>esporte_lazer</td><td>sports_leisure</td></tr><tr><td>perfumaria</td><td>perfumery</td></tr><tr><td>utilidades_domesticas</td><td>housewares</td></tr><tr><td>telefonia</td><td>telephony</td></tr><tr><td>relogios_presentes</td><td>watches_gifts</td></tr></tbody></table></div>"
      ]
     },
     "metadata": {
      "application/vnd.databricks.v1+output": {
       "addedWidgets": {},
       "aggData": [],
       "aggError": "",
       "aggOverflow": false,
       "aggSchema": [],
       "aggSeriesLimitReached": false,
       "aggType": "",
       "arguments": {},
       "columnCustomDisplayInfos": {},
       "data": [
        [
         "beleza_saude",
         "health_beauty"
        ],
        [
         "informatica_acessorios",
         "computers_accessories"
        ],
        [
         "automotivo",
         "auto"
        ],
        [
         "cama_mesa_banho",
         "bed_bath_table"
        ],
        [
         "moveis_decoracao",
         "furniture_decor"
        ],
        [
         "esporte_lazer",
         "sports_leisure"
        ],
        [
         "perfumaria",
         "perfumery"
        ],
        [
         "utilidades_domesticas",
         "housewares"
        ],
        [
         "telefonia",
         "telephony"
        ],
        [
         "relogios_presentes",
         "watches_gifts"
        ]
       ],
       "datasetInfos": [],
       "dbfsResultPath": null,
       "isJsonSchema": true,
       "metadata": {},
       "overflow": false,
       "plotOptions": {
        "customPlotOptions": {},
        "displayType": "table",
        "pivotAggregation": null,
        "pivotColumns": null,
        "xColumns": null,
        "yColumns": null
       },
       "removedWidgets": [],
       "schema": [
        {
         "metadata": "{}",
         "name": "product_category_name",
         "type": "\"string\""
        },
        {
         "metadata": "{}",
         "name": "product_category_name_english",
         "type": "\"string\""
        }
       ],
       "type": "table"
      }
     },
     "output_type": "display_data"
    }
   ],
   "source": [
    "product_category.show(10)\n",
    "product_category.printSchema()\n",
    "display(product_category.limit(10))"
   ]
  },
  {
   "cell_type": "markdown",
   "metadata": {
    "application/vnd.databricks.v1+cell": {
     "cellMetadata": {},
     "inputWidgets": {},
     "nuid": "c3537ea4-f029-4661-94ea-3d4fa0a32ab3",
     "showTitle": false,
     "tableResultSettingsMap": {},
     "title": ""
    }
   },
   "source": [
    "### Data cleaning for product_catergory dataset\n",
    "- **Step 1**: Basic text cleaning (lowercase, trim, special character removal).\n",
    "\n",
    "- **Step 2**: Title case conversion for English category names.\n",
    "\n",
    "- **Step 3**: Plural form detection and consistency checking.\n",
    "\n",
    "- **Step 4**: Special case handling for specific categories.\n",
    "\n",
    "- **Step 5**: Similarity calculation between Portuguese and English names."
   ]
  },
  {
   "cell_type": "code",
   "execution_count": 0,
   "metadata": {
    "application/vnd.databricks.v1+cell": {
     "cellMetadata": {
      "byteLimit": 2048000,
      "rowLimit": 10000
     },
     "inputWidgets": {},
     "nuid": "17c39aa8-839e-4819-aa56-71878d64056f",
     "showTitle": false,
     "tableResultSettingsMap": {},
     "title": ""
    }
   },
   "outputs": [
    {
     "output_type": "stream",
     "name": "stdout",
     "output_type": "stream",
     "text": [
      "Singular/Plural Inconsistencies:\n+---------------------------+-----------------------------------+-----------------------------------+------------------+-----------------+\n|product_category_name_clean|product_category_name_english_clean|product_category_name_english_title|is_original_plural|is_english_plural|\n+---------------------------+-----------------------------------+-----------------------------------+------------------+-----------------+\n+---------------------------+-----------------------------------+-----------------------------------+------------------+-----------------+\n\n+----------------+-----------------+-----------------------------+----------------------+\n|consistent_count|exact_match_count|plural_consistency_percentage|exact_match_percentage|\n+----------------+-----------------+-----------------------------+----------------------+\n|              71|               16|                        100.0|    22.535211267605636|\n+----------------+-----------------+-----------------------------+----------------------+\n\nCategories with high name dissimilarity:\n+---------------------------+-----------------------------------+-----------------------------------+---------------+\n|product_category_name_clean|product_category_name_english_clean|product_category_name_english_title|name_similarity|\n+---------------------------+-----------------------------------+-----------------------------------+---------------+\n+---------------------------+-----------------------------------+-----------------------------------+---------------+\n\n"
     ]
    },
    {
     "output_type": "display_data",
     "data": {
      "text/html": [
       "<style scoped>\n",
       "  .table-result-container {\n",
       "    max-height: 300px;\n",
       "    overflow: auto;\n",
       "  }\n",
       "  table, th, td {\n",
       "    border: 1px solid black;\n",
       "    border-collapse: collapse;\n",
       "  }\n",
       "  th, td {\n",
       "    padding: 5px;\n",
       "  }\n",
       "  th {\n",
       "    text-align: left;\n",
       "  }\n",
       "</style><div class='table-result-container'><table class='table-result'><thead style='background-color: white'><tr><th>product_category_name</th><th>product_category_name_english</th><th>product_category_name_clean</th><th>product_category_name_english_clean</th><th>product_category_name_english_title</th><th>is_original_plural</th><th>is_english_plural</th><th>is_plural_consistent</th><th>normalized_pt</th><th>normalized_en</th><th>name_similarity</th></tr></thead><tbody><tr><td>beleza_saude</td><td>health_beauty</td><td>beleza_saude</td><td>health_beauty</td><td>Health Beauty</td><td>false</td><td>false</td><td>true</td><td>beleza_saude</td><td>health_beauty</td><td>9</td></tr><tr><td>informatica_acessorios</td><td>computers_accessories</td><td>informatica_acessorios</td><td>computers_accessories</td><td>Computers Accessories</td><td>true</td><td>true</td><td>true</td><td>informatica_acessorios</td><td>computers_accessories</td><td>11</td></tr><tr><td>automotivo</td><td>auto</td><td>automotivo</td><td>auto</td><td>Auto</td><td>false</td><td>false</td><td>true</td><td>automotivo</td><td>auto</td><td>6</td></tr><tr><td>cama_mesa_banho</td><td>bed_bath_table</td><td>cama_mesa_banho</td><td>bed_bath_table</td><td>Bed Bath Table</td><td>false</td><td>false</td><td>true</td><td>cama_mesa_banho</td><td>bed_bath_table</td><td>12</td></tr><tr><td>moveis_decoracao</td><td>furniture_decor</td><td>moveis_decoracao</td><td>furniture_decor</td><td>Furniture Decor</td><td>false</td><td>false</td><td>true</td><td>furniture_decoracao</td><td>furniture_decor</td><td>4</td></tr><tr><td>esporte_lazer</td><td>sports_leisure</td><td>esporte_lazer</td><td>sports_leisure</td><td>Sports Leisure</td><td>false</td><td>false</td><td>true</td><td>esporte_lazer</td><td>sports_leisure</td><td>7</td></tr><tr><td>perfumaria</td><td>perfumery</td><td>perfumaria</td><td>perfumery</td><td>Perfumery</td><td>false</td><td>false</td><td>true</td><td>perfumaria</td><td>perfumery</td><td>3</td></tr><tr><td>utilidades_domesticas</td><td>housewares</td><td>utilidades_domesticas</td><td>housewares</td><td>Housewares</td><td>true</td><td>true</td><td>true</td><td>housewares</td><td>housewares</td><td>0</td></tr><tr><td>telefonia</td><td>telephony</td><td>telefonia</td><td>telephony</td><td>Telephony</td><td>false</td><td>false</td><td>true</td><td>telefonia</td><td>telephony</td><td>4</td></tr><tr><td>relogios_presentes</td><td>watches_gifts</td><td>relogios_presentes</td><td>watches_gifts</td><td>Watches Gifts</td><td>true</td><td>true</td><td>true</td><td>relogios_presentes</td><td>watches_gifts</td><td>14</td></tr></tbody></table></div>"
      ]
     },
     "metadata": {
      "application/vnd.databricks.v1+output": {
       "addedWidgets": {},
       "aggData": [],
       "aggError": "",
       "aggOverflow": false,
       "aggSchema": [],
       "aggSeriesLimitReached": false,
       "aggType": "",
       "arguments": {},
       "columnCustomDisplayInfos": {},
       "data": [
        [
         "beleza_saude",
         "health_beauty",
         "beleza_saude",
         "health_beauty",
         "Health Beauty",
         false,
         false,
         true,
         "beleza_saude",
         "health_beauty",
         9
        ],
        [
         "informatica_acessorios",
         "computers_accessories",
         "informatica_acessorios",
         "computers_accessories",
         "Computers Accessories",
         true,
         true,
         true,
         "informatica_acessorios",
         "computers_accessories",
         11
        ],
        [
         "automotivo",
         "auto",
         "automotivo",
         "auto",
         "Auto",
         false,
         false,
         true,
         "automotivo",
         "auto",
         6
        ],
        [
         "cama_mesa_banho",
         "bed_bath_table",
         "cama_mesa_banho",
         "bed_bath_table",
         "Bed Bath Table",
         false,
         false,
         true,
         "cama_mesa_banho",
         "bed_bath_table",
         12
        ],
        [
         "moveis_decoracao",
         "furniture_decor",
         "moveis_decoracao",
         "furniture_decor",
         "Furniture Decor",
         false,
         false,
         true,
         "furniture_decoracao",
         "furniture_decor",
         4
        ],
        [
         "esporte_lazer",
         "sports_leisure",
         "esporte_lazer",
         "sports_leisure",
         "Sports Leisure",
         false,
         false,
         true,
         "esporte_lazer",
         "sports_leisure",
         7
        ],
        [
         "perfumaria",
         "perfumery",
         "perfumaria",
         "perfumery",
         "Perfumery",
         false,
         false,
         true,
         "perfumaria",
         "perfumery",
         3
        ],
        [
         "utilidades_domesticas",
         "housewares",
         "utilidades_domesticas",
         "housewares",
         "Housewares",
         true,
         true,
         true,
         "housewares",
         "housewares",
         0
        ],
        [
         "telefonia",
         "telephony",
         "telefonia",
         "telephony",
         "Telephony",
         false,
         false,
         true,
         "telefonia",
         "telephony",
         4
        ],
        [
         "relogios_presentes",
         "watches_gifts",
         "relogios_presentes",
         "watches_gifts",
         "Watches Gifts",
         true,
         true,
         true,
         "relogios_presentes",
         "watches_gifts",
         14
        ]
       ],
       "datasetInfos": [],
       "dbfsResultPath": null,
       "isJsonSchema": true,
       "metadata": {},
       "overflow": false,
       "plotOptions": {
        "customPlotOptions": {},
        "displayType": "table",
        "pivotAggregation": null,
        "pivotColumns": null,
        "xColumns": null,
        "yColumns": null
       },
       "removedWidgets": [],
       "schema": [
        {
         "metadata": "{}",
         "name": "product_category_name",
         "type": "\"string\""
        },
        {
         "metadata": "{}",
         "name": "product_category_name_english",
         "type": "\"string\""
        },
        {
         "metadata": "{}",
         "name": "product_category_name_clean",
         "type": "\"string\""
        },
        {
         "metadata": "{}",
         "name": "product_category_name_english_clean",
         "type": "\"string\""
        },
        {
         "metadata": "{}",
         "name": "product_category_name_english_title",
         "type": "\"string\""
        },
        {
         "metadata": "{}",
         "name": "is_original_plural",
         "type": "\"boolean\""
        },
        {
         "metadata": "{}",
         "name": "is_english_plural",
         "type": "\"boolean\""
        },
        {
         "metadata": "{}",
         "name": "is_plural_consistent",
         "type": "\"boolean\""
        },
        {
         "metadata": "{}",
         "name": "normalized_pt",
         "type": "\"string\""
        },
        {
         "metadata": "{}",
         "name": "normalized_en",
         "type": "\"string\""
        },
        {
         "metadata": "{}",
         "name": "name_similarity",
         "type": "\"integer\""
        }
       ],
       "type": "table"
      }
     },
     "output_type": "display_data"
    },
    {
     "output_type": "stream",
     "name": "stdout",
     "output_type": "stream",
     "text": [
      "\nCleaning process completed.\n"
     ]
    }
   ],
   "source": [
    "# This script performs data cleaning and analysis on the product_category dataset.\n",
    "# It standardizes category names, checks for consistency between Portuguese and English versions,\n",
    "# and identifies potential mismatches or inconsistencies.\n",
    "\n",
    "# Import libraries\n",
    "from pyspark.sql.functions import (\n",
    "    col, lower, when, levenshtein, count as count_, \n",
    "    sum as sum_, greatest, length, regexp_replace, trim,\n",
    "    initcap  # Add initcap for title case conversion\n",
    ")\n",
    "\n",
    "# Define helper function to check if a category name is likely to be plural\n",
    "def is_likely_plural(column_name):\n",
    "    return when(\n",
    "        (lower(col(column_name)).endswith('s') & \n",
    "         ~lower(col(column_name)).endswith('ss') &\n",
    "         ~lower(col(column_name)).isin('business', 'press', 'express')) |\n",
    "        (lower(col(column_name)).endswith('is') |\n",
    "         lower(col(column_name)).endswith('es') |\n",
    "         lower(col(column_name)).endswith('ns')),\n",
    "        True\n",
    "    ).when(\n",
    "        lower(col(column_name)).isin(\n",
    "            'alimentos', 'bebes', 'artes',\n",
    "            'housewares', 'supplies', 'clothes'\n",
    "        ),\n",
    "        True\n",
    "    ).otherwise(False)\n",
    "\n",
    "# Define function to apply specific mappings and rules for special cases in category names\n",
    "def apply_category_mapping(df):\n",
    "    return df.withColumn(\n",
    "        \"is_plural_consistent\",\n",
    "        when(\n",
    "            # Handle Portuguese-English special cases\n",
    "            (lower(col(\"product_category_name_clean\")).isin(\n",
    "                \"alimentos_bebidas\", \"bebes\", \"artes\", \"alimentos\"\n",
    "            )) & \n",
    "            (lower(col(\"product_category_name_english_clean\")).isin(\n",
    "                \"food_drink\", \"baby\", \"art\", \"food\"\n",
    "            )),\n",
    "            True\n",
    "        ).when(\n",
    "            # Handle tools/ferramentas pattern\n",
    "            (col(\"product_category_name_clean\").like(\"%ferramentas%\")) & \n",
    "            (col(\"product_category_name_english_clean\").like(\"%tools%\")),\n",
    "            True\n",
    "        ).when(\n",
    "            # Handle supplies pattern\n",
    "            col(\"product_category_name_english_clean\").like(\"%supplies%\"),\n",
    "            True\n",
    "        ).when(\n",
    "            # Handle clothes pattern\n",
    "            col(\"product_category_name_english_clean\").like(\"%clothes%\"),\n",
    "            True\n",
    "        ).when(\n",
    "            # Handle books pattern\n",
    "            (col(\"product_category_name_clean\").like(\"%livros_%\")) & \n",
    "            (col(\"product_category_name_english_clean\").like(\"books_%\")),\n",
    "            True\n",
    "        ).when(\n",
    "            # Handle business/commerce terms\n",
    "            (col(\"product_category_name_clean\").like(\"%comercio%\")) & \n",
    "            (col(\"product_category_name_english_clean\").like(\"%commerce%\")),\n",
    "            True\n",
    "        ).when(\n",
    "            # Handle industry/business terms\n",
    "            (col(\"product_category_name_clean\").like(\"%negocios%\")) & \n",
    "            (col(\"product_category_name_english_clean\").like(\"%business%\")),\n",
    "            True\n",
    "        ).otherwise(col(\"is_plural_consistent\"))\n",
    "    )\n",
    "\n",
    "# Define function to calculate similarity between Portuguese and English category names\n",
    "def calculate_similarity(df):\n",
    "    # First normalize common terms\n",
    "    normalized_df = df.withColumn(\n",
    "        \"normalized_pt\",\n",
    "        when(col(\"product_category_name_clean\").like(\"%portateis_casa_forno_e_cafe%\"), \n",
    "             \"small_appliances_home_oven_and_coffee\")\n",
    "        .when(col(\"product_category_name_clean\").like(\"%fashion_roupa_infanto_juvenil%\"),\n",
    "              \"fashion_childrens_clothes\")\n",
    "        .when(col(\"product_category_name_clean\").like(\"%utilidades_domesticas%\"),\n",
    "              \"housewares\")\n",
    "        .when(col(\"product_category_name_clean\").like(\"%instrumentos_musicais%\"),\n",
    "              \"musical_instruments\")\n",
    "        .when(col(\"product_category_name_clean\").like(\"%livros_interesse_geral%\"),\n",
    "              \"books_general_interest\")\n",
    "        .when(col(\"product_category_name_clean\").like(\"%moveis_cozinha_area_de_servico_jantar_e_jardim%\"), \n",
    "             \"kitchen_dining_laundry_garden_furniture\")\n",
    "        .when(col(\"product_category_name_clean\").like(\"%moveis_colchao_e_estofado%\"),\n",
    "              \"furniture_mattress_and_upholstery\")\n",
    "        .when(col(\"product_category_name_clean\").like(\"%moveis%\"), \n",
    "             regexp_replace(col(\"product_category_name_clean\"), \"moveis\", \"furniture\"))\n",
    "        .when(col(\"product_category_name_clean\").like(\"%construcao_ferramentas_ferramentas%\"),\n",
    "              \"construction_tools_tools\")\n",
    "        .when(col(\"product_category_name_clean\").like(\"%construcao_ferramentas%\"),\n",
    "              regexp_replace(\n",
    "                  regexp_replace(col(\"product_category_name_clean\"), \n",
    "                               \"construcao\", \"construction\"),\n",
    "                  \"ferramentas\", \"tools\"\n",
    "              ))\n",
    "        .otherwise(col(\"product_category_name_clean\"))\n",
    "    ).withColumn(\n",
    "        \"normalized_en\",\n",
    "        when(col(\"product_category_name_english_clean\").like(\"%costruction%\"),\n",
    "             regexp_replace(col(\"product_category_name_english_clean\"), \"costruction\", \"construction\"))\n",
    "        .otherwise(col(\"product_category_name_english_clean\"))\n",
    "    )\n",
    "    \n",
    "    return normalized_df.withColumn(\n",
    "        \"name_similarity\",\n",
    "        when(\n",
    "            (col(\"normalized_pt\") == col(\"normalized_en\")),\n",
    "            0\n",
    "        ).when(\n",
    "            (col(\"product_category_name_clean\").isin(\n",
    "                \"portateis_casa_forno_e_cafe\",\n",
    "                \"fashion_roupa_infanto_juvenil\",\n",
    "                \"utilidades_domesticas\",\n",
    "                \"instrumentos_musicais\",\n",
    "                \"livros_interesse_geral\"\n",
    "            )),\n",
    "            5\n",
    "        ).otherwise(\n",
    "            levenshtein(\n",
    "                col(\"normalized_pt\"),\n",
    "                col(\"normalized_en\")\n",
    "            )\n",
    "        )\n",
    "    )\n",
    "\n",
    "# Main cleaning function\n",
    "def clean_product_categories(df):\n",
    "    # Basic cleaning\n",
    "    cleaned_df = df.withColumn(\n",
    "        \"product_category_name_clean\",\n",
    "        regexp_replace(lower(trim(col(\"product_category_name\"))), \"[^a-z0-9_]\", \"_\")\n",
    "    ).withColumn(\n",
    "        \"product_category_name_english_clean\",\n",
    "        regexp_replace(lower(trim(col(\"product_category_name_english\"))), \"[^a-z0-9_]\", \"_\")\n",
    "    )\n",
    "    \n",
    "    # Convert English category names to title case\n",
    "    cleaned_df = cleaned_df.withColumn(\n",
    "        \"product_category_name_english_title\",\n",
    "        initcap(regexp_replace(col(\"product_category_name_english_clean\"), \"_\", \" \"))\n",
    "    )\n",
    "    \n",
    "    # Check for plural consistency\n",
    "    cleaned_df = cleaned_df.withColumn(\n",
    "        \"is_original_plural\",\n",
    "        is_likely_plural(\"product_category_name_clean\")\n",
    "    ).withColumn(\n",
    "        \"is_english_plural\",\n",
    "        is_likely_plural(\"product_category_name_english_clean\")\n",
    "    )\n",
    "    \n",
    "    # Create is_plural_consistent column\n",
    "    cleaned_df = cleaned_df.withColumn(\n",
    "        \"is_plural_consistent\",\n",
    "        col(\"is_original_plural\") == col(\"is_english_plural\")\n",
    "    )\n",
    "    \n",
    "    # Apply category mapping and calculate name similarity\n",
    "    cleaned_df = (apply_category_mapping(cleaned_df)\n",
    "                 .transform(calculate_similarity))\n",
    "    \n",
    "    return cleaned_df\n",
    "\n",
    "# Process the data\n",
    "cleaned_product_category = clean_product_categories(product_category)\n",
    "\n",
    "# Display results and analysis\n",
    "print(\"Singular/Plural Inconsistencies:\")\n",
    "cleaned_product_category.filter(~col(\"is_plural_consistent\")).select(\n",
    "    \"product_category_name_clean\", \n",
    "    \"product_category_name_english_clean\",\n",
    "    \"product_category_name_english_title\",\n",
    "    \"is_original_plural\", \n",
    "    \"is_english_plural\"\n",
    ").show(truncate=False)\n",
    "\n",
    "# Calculate and display metrics\n",
    "total_rows = cleaned_product_category.count()\n",
    "cleaned_product_category.agg(\n",
    "    sum_(col(\"is_plural_consistent\").cast(\"int\")).alias(\"consistent_count\"),\n",
    "    sum_(when(col(\"name_similarity\") == 0, 1).otherwise(0)).alias(\"exact_match_count\"),\n",
    "    (sum_(col(\"is_plural_consistent\").cast(\"int\")) / count_(\"*\") * 100).alias(\"plural_consistency_percentage\"),\n",
    "    (sum_(when(col(\"name_similarity\") == 0, 1).otherwise(0)) / count_(\"*\") * 100).alias(\"exact_match_percentage\")\n",
    ").show()\n",
    "\n",
    "print(\"Categories with high name dissimilarity:\")\n",
    "cleaned_product_category.filter(col(\"name_similarity\") > 15).orderBy(\n",
    "    col(\"name_similarity\").desc()\n",
    ").select(\n",
    "    \"product_category_name_clean\",\n",
    "    \"product_category_name_english_clean\",\n",
    "    \"product_category_name_english_title\",\n",
    "    \"name_similarity\"\n",
    ").show(10, truncate=False)\n",
    "\n",
    "# Display final result\n",
    "display(cleaned_product_category.limit(10))\n",
    "\n",
    "print(\"\\nCleaning process completed.\")"
   ]
  },
  {
   "cell_type": "markdown",
   "metadata": {
    "application/vnd.databricks.v1+cell": {
     "cellMetadata": {},
     "inputWidgets": {},
     "nuid": "56ee7d76-b3b6-4b82-8589-71427e062057",
     "showTitle": false,
     "tableResultSettingsMap": {},
     "title": ""
    }
   },
   "source": [
    "### Review the cleaned_product_category dataset"
   ]
  },
  {
   "cell_type": "code",
   "execution_count": 0,
   "metadata": {
    "application/vnd.databricks.v1+cell": {
     "cellMetadata": {
      "byteLimit": 2048000,
      "rowLimit": 10000
     },
     "inputWidgets": {},
     "nuid": "2c267581-3bc6-4ff5-bf73-ce794850935b",
     "showTitle": false,
     "tableResultSettingsMap": {},
     "title": ""
    }
   },
   "outputs": [
    {
     "output_type": "stream",
     "name": "stdout",
     "output_type": "stream",
     "text": [
      "\nFinal Schema:\nroot\n |-- product_category_name_clean: string (nullable = true)\n |-- product_category_name_english_title: string (nullable = true)\n\n\nSample of final cleaned dataset:\n+---------------------------+-----------------------------------+\n|product_category_name_clean|product_category_name_english_title|\n+---------------------------+-----------------------------------+\n|beleza_saude               |Health Beauty                      |\n|informatica_acessorios     |Computers Accessories              |\n|automotivo                 |Auto                               |\n|cama_mesa_banho            |Bed Bath Table                     |\n|moveis_decoracao           |Furniture Decor                    |\n+---------------------------+-----------------------------------+\nonly showing top 5 rows\n\n\nTotal records in cleaned dataset: 71\n"
     ]
    }
   ],
   "source": [
    "# Select only the required columns and create final DataFrame\n",
    "cleaned_product_categories = cleaned_product_category.select(\n",
    "    \"product_category_name_clean\",\n",
    "    \"product_category_name_english_title\"\n",
    ")\n",
    "\n",
    "# Verify final schema\n",
    "print(\"\\nFinal Schema:\")\n",
    "cleaned_product_categories.printSchema()\n",
    "\n",
    "# Show sample of final dataset\n",
    "print(\"\\nSample of final cleaned dataset:\")\n",
    "cleaned_product_categories.show(5, truncate=False)\n",
    "\n",
    "# Print final record count\n",
    "print(f\"\\nTotal records in cleaned dataset: {cleaned_product_categories.count():,}\")"
   ]
  },
  {
   "cell_type": "markdown",
   "metadata": {
    "application/vnd.databricks.v1+cell": {
     "cellMetadata": {},
     "inputWidgets": {},
     "nuid": "a080d1af-d1bb-41f2-9a67-2dc8778b9d0a",
     "showTitle": false,
     "tableResultSettingsMap": {},
     "title": ""
    }
   },
   "source": [
    "### Save the cleaned_product_category to a parquet file"
   ]
  },
  {
   "cell_type": "code",
   "execution_count": 0,
   "metadata": {
    "application/vnd.databricks.v1+cell": {
     "cellMetadata": {
      "byteLimit": 2048000,
      "rowLimit": 10000
     },
     "inputWidgets": {},
     "nuid": "3c7a6b03-fa02-4e6e-bc47-6fb9e452df52",
     "showTitle": false,
     "tableResultSettingsMap": {},
     "title": ""
    }
   },
   "outputs": [
    {
     "output_type": "stream",
     "name": "stdout",
     "output_type": "stream",
     "text": [
      "\nVerification of saved Parquet file:\nNumber of rows in saved Parquet file: 71\n\nSample of saved data:\n"
     ]
    },
    {
     "output_type": "display_data",
     "data": {
      "text/html": [
       "<style scoped>\n",
       "  .table-result-container {\n",
       "    max-height: 300px;\n",
       "    overflow: auto;\n",
       "  }\n",
       "  table, th, td {\n",
       "    border: 1px solid black;\n",
       "    border-collapse: collapse;\n",
       "  }\n",
       "  th, td {\n",
       "    padding: 5px;\n",
       "  }\n",
       "  th {\n",
       "    text-align: left;\n",
       "  }\n",
       "</style><div class='table-result-container'><table class='table-result'><thead style='background-color: white'><tr><th>product_category_name_clean</th><th>product_category_name_english_title</th></tr></thead><tbody><tr><td>beleza_saude</td><td>Health Beauty</td></tr><tr><td>informatica_acessorios</td><td>Computers Accessories</td></tr><tr><td>automotivo</td><td>Auto</td></tr><tr><td>cama_mesa_banho</td><td>Bed Bath Table</td></tr><tr><td>moveis_decoracao</td><td>Furniture Decor</td></tr></tbody></table></div>"
      ]
     },
     "metadata": {
      "application/vnd.databricks.v1+output": {
       "addedWidgets": {},
       "aggData": [],
       "aggError": "",
       "aggOverflow": false,
       "aggSchema": [],
       "aggSeriesLimitReached": false,
       "aggType": "",
       "arguments": {},
       "columnCustomDisplayInfos": {},
       "data": [
        [
         "beleza_saude",
         "Health Beauty"
        ],
        [
         "informatica_acessorios",
         "Computers Accessories"
        ],
        [
         "automotivo",
         "Auto"
        ],
        [
         "cama_mesa_banho",
         "Bed Bath Table"
        ],
        [
         "moveis_decoracao",
         "Furniture Decor"
        ]
       ],
       "datasetInfos": [],
       "dbfsResultPath": null,
       "isJsonSchema": true,
       "metadata": {},
       "overflow": false,
       "plotOptions": {
        "customPlotOptions": {},
        "displayType": "table",
        "pivotAggregation": null,
        "pivotColumns": null,
        "xColumns": null,
        "yColumns": null
       },
       "removedWidgets": [],
       "schema": [
        {
         "metadata": "{}",
         "name": "product_category_name_clean",
         "type": "\"string\""
        },
        {
         "metadata": "{}",
         "name": "product_category_name_english_title",
         "type": "\"string\""
        }
       ],
       "type": "table"
      }
     },
     "output_type": "display_data"
    },
    {
     "output_type": "stream",
     "name": "stdout",
     "output_type": "stream",
     "text": [
      "\nSuccessfully saved as a single Parquet file.\n"
     ]
    }
   ],
   "source": [
    "# Define the output path for final cleaned and translated dataset\n",
    "output_path = \"/mnt/olist-store-data/transformed-data/olist_product_category_cleaned_dataset_final_v2.0.parquet\"\n",
    "temp_path = \"/mnt/olist-store-data/transformed-data/temp_parquet_output\"\n",
    "\n",
    "try:\n",
    "    # Remove existing directories if they exist\n",
    "    dbutils.fs.rm(output_path, recurse=True)\n",
    "    dbutils.fs.rm(temp_path, recurse=True)\n",
    "\n",
    "    # Save as a single Parquet file using temporary directory\n",
    "    (cleaned_product_categories\n",
    "     .repartition(1)  # Force to a single partition\n",
    "     .write\n",
    "     .mode(\"overwrite\")\n",
    "     .parquet(temp_path))\n",
    "\n",
    "    # Find the Parquet file in temp directory\n",
    "    temp_files = dbutils.fs.ls(temp_path)\n",
    "    parquet_file = [f.path for f in temp_files if f.path.endswith(\".parquet\")][0]\n",
    "    \n",
    "    # Move to final location\n",
    "    dbutils.fs.mv(parquet_file, output_path)\n",
    "    \n",
    "    # Clean up temp directory\n",
    "    dbutils.fs.rm(temp_path, recurse=True)\n",
    "\n",
    "    # Verify the saved Parquet file\n",
    "    verified_df = spark.read.parquet(output_path)\n",
    "    print(\"\\nVerification of saved Parquet file:\")\n",
    "    print(f\"Number of rows in saved Parquet file: {verified_df.count():,}\")\n",
    "    print(\"\\nSample of saved data:\")\n",
    "    display(verified_df.limit(5))\n",
    "\n",
    "    # Verify it's a single file\n",
    "    if len(dbutils.fs.ls(output_path)) == 1:\n",
    "        print(\"\\nSuccessfully saved as a single Parquet file.\")\n",
    "    else:\n",
    "        print(\"\\nWarning: Multiple files were created.\")\n",
    "\n",
    "except Exception as e:\n",
    "    print(f\"Error saving dataset: {str(e)}\")\n",
    "    # Clean up temp directory in case of failure\n",
    "    dbutils.fs.rm(temp_path, recurse=True)\n",
    "    raise\n",
    "finally:\n",
    "    # Unpersist cached DataFrame\n",
    "    cleaned_product_categories.unpersist()"
   ]
  },
  {
   "cell_type": "markdown",
   "metadata": {
    "application/vnd.databricks.v1+cell": {
     "cellMetadata": {},
     "inputWidgets": {},
     "nuid": "3156a3ea-16e5-43bd-bf71-985621b74e0d",
     "showTitle": false,
     "tableResultSettingsMap": {},
     "title": ""
    }
   },
   "source": [
    "### Read products dataset from raw-data folder"
   ]
  },
  {
   "cell_type": "code",
   "execution_count": 0,
   "metadata": {
    "application/vnd.databricks.v1+cell": {
     "cellMetadata": {
      "byteLimit": 2048000,
      "rowLimit": 10000
     },
     "inputWidgets": {},
     "nuid": "5928de5b-789c-47de-8aab-f9592ebed398",
     "showTitle": false,
     "tableResultSettingsMap": {},
     "title": ""
    }
   },
   "outputs": [],
   "source": [
    "products = spark.read.format(\"csv\").option(\"header\",\"true\").option(\"inferSchema\",\"true\").load(\"/mnt/olist-store-data/raw-data/olist_products_dataset.csv\")"
   ]
  },
  {
   "cell_type": "code",
   "execution_count": 0,
   "metadata": {
    "application/vnd.databricks.v1+cell": {
     "cellMetadata": {
      "byteLimit": 2048000,
      "rowLimit": 10000
     },
     "inputWidgets": {},
     "nuid": "57b4ca8a-1e11-4484-b86d-d93c68e8390c",
     "showTitle": false,
     "tableResultSettingsMap": {},
     "title": ""
    }
   },
   "outputs": [
    {
     "output_type": "stream",
     "name": "stdout",
     "output_type": "stream",
     "text": [
      "+--------------------+---------------------+-------------------+--------------------------+------------------+----------------+-----------------+-----------------+----------------+\n|          product_id|product_category_name|product_name_lenght|product_description_lenght|product_photos_qty|product_weight_g|product_length_cm|product_height_cm|product_width_cm|\n+--------------------+---------------------+-------------------+--------------------------+------------------+----------------+-----------------+-----------------+----------------+\n|1e9e8ef04dbcff454...|           perfumaria|                 40|                       287|                 1|             225|               16|               10|              14|\n|3aa071139cb16b67c...|                artes|                 44|                       276|                 1|            1000|               30|               18|              20|\n|96bd76ec8810374ed...|        esporte_lazer|                 46|                       250|                 1|             154|               18|                9|              15|\n|cef67bcfe19066a93...|                bebes|                 27|                       261|                 1|             371|               26|                4|              26|\n|9dc1a7de274444849...| utilidades_domest...|                 37|                       402|                 4|             625|               20|               17|              13|\n|41d3672d4792049fa...| instrumentos_musi...|                 60|                       745|                 1|             200|               38|                5|              11|\n|732bd381ad09e530f...|           cool_stuff|                 56|                      1272|                 4|           18350|               70|               24|              44|\n|2548af3e6e77a690c...|     moveis_decoracao|                 56|                       184|                 2|             900|               40|                8|              40|\n|37cc742be07708b53...|     eletrodomesticos|                 57|                       163|                 1|             400|               27|               13|              17|\n|8c92109888e8cdf9d...|           brinquedos|                 36|                      1156|                 1|             600|               17|               10|              12|\n+--------------------+---------------------+-------------------+--------------------------+------------------+----------------+-----------------+-----------------+----------------+\nonly showing top 10 rows\n\nroot\n |-- product_id: string (nullable = true)\n |-- product_category_name: string (nullable = true)\n |-- product_name_lenght: integer (nullable = true)\n |-- product_description_lenght: integer (nullable = true)\n |-- product_photos_qty: integer (nullable = true)\n |-- product_weight_g: integer (nullable = true)\n |-- product_length_cm: integer (nullable = true)\n |-- product_height_cm: integer (nullable = true)\n |-- product_width_cm: integer (nullable = true)\n\n"
     ]
    },
    {
     "output_type": "display_data",
     "data": {
      "text/html": [
       "<style scoped>\n",
       "  .table-result-container {\n",
       "    max-height: 300px;\n",
       "    overflow: auto;\n",
       "  }\n",
       "  table, th, td {\n",
       "    border: 1px solid black;\n",
       "    border-collapse: collapse;\n",
       "  }\n",
       "  th, td {\n",
       "    padding: 5px;\n",
       "  }\n",
       "  th {\n",
       "    text-align: left;\n",
       "  }\n",
       "</style><div class='table-result-container'><table class='table-result'><thead style='background-color: white'><tr><th>product_id</th><th>product_category_name</th><th>product_name_lenght</th><th>product_description_lenght</th><th>product_photos_qty</th><th>product_weight_g</th><th>product_length_cm</th><th>product_height_cm</th><th>product_width_cm</th></tr></thead><tbody><tr><td>1e9e8ef04dbcff4541ed26657ea517e5</td><td>perfumaria</td><td>40</td><td>287</td><td>1</td><td>225</td><td>16</td><td>10</td><td>14</td></tr><tr><td>3aa071139cb16b67ca9e5dea641aaa2f</td><td>artes</td><td>44</td><td>276</td><td>1</td><td>1000</td><td>30</td><td>18</td><td>20</td></tr><tr><td>96bd76ec8810374ed1b65e291975717f</td><td>esporte_lazer</td><td>46</td><td>250</td><td>1</td><td>154</td><td>18</td><td>9</td><td>15</td></tr><tr><td>cef67bcfe19066a932b7673e239eb23d</td><td>bebes</td><td>27</td><td>261</td><td>1</td><td>371</td><td>26</td><td>4</td><td>26</td></tr><tr><td>9dc1a7de274444849c219cff195d0b71</td><td>utilidades_domesticas</td><td>37</td><td>402</td><td>4</td><td>625</td><td>20</td><td>17</td><td>13</td></tr><tr><td>41d3672d4792049fa1779bb35283ed13</td><td>instrumentos_musicais</td><td>60</td><td>745</td><td>1</td><td>200</td><td>38</td><td>5</td><td>11</td></tr><tr><td>732bd381ad09e530fe0a5f457d81becb</td><td>cool_stuff</td><td>56</td><td>1272</td><td>4</td><td>18350</td><td>70</td><td>24</td><td>44</td></tr><tr><td>2548af3e6e77a690cf3eb6368e9ab61e</td><td>moveis_decoracao</td><td>56</td><td>184</td><td>2</td><td>900</td><td>40</td><td>8</td><td>40</td></tr><tr><td>37cc742be07708b53a98702e77a21a02</td><td>eletrodomesticos</td><td>57</td><td>163</td><td>1</td><td>400</td><td>27</td><td>13</td><td>17</td></tr><tr><td>8c92109888e8cdf9d66dc7e463025574</td><td>brinquedos</td><td>36</td><td>1156</td><td>1</td><td>600</td><td>17</td><td>10</td><td>12</td></tr></tbody></table></div>"
      ]
     },
     "metadata": {
      "application/vnd.databricks.v1+output": {
       "addedWidgets": {},
       "aggData": [],
       "aggError": "",
       "aggOverflow": false,
       "aggSchema": [],
       "aggSeriesLimitReached": false,
       "aggType": "",
       "arguments": {},
       "columnCustomDisplayInfos": {},
       "data": [
        [
         "1e9e8ef04dbcff4541ed26657ea517e5",
         "perfumaria",
         40,
         287,
         1,
         225,
         16,
         10,
         14
        ],
        [
         "3aa071139cb16b67ca9e5dea641aaa2f",
         "artes",
         44,
         276,
         1,
         1000,
         30,
         18,
         20
        ],
        [
         "96bd76ec8810374ed1b65e291975717f",
         "esporte_lazer",
         46,
         250,
         1,
         154,
         18,
         9,
         15
        ],
        [
         "cef67bcfe19066a932b7673e239eb23d",
         "bebes",
         27,
         261,
         1,
         371,
         26,
         4,
         26
        ],
        [
         "9dc1a7de274444849c219cff195d0b71",
         "utilidades_domesticas",
         37,
         402,
         4,
         625,
         20,
         17,
         13
        ],
        [
         "41d3672d4792049fa1779bb35283ed13",
         "instrumentos_musicais",
         60,
         745,
         1,
         200,
         38,
         5,
         11
        ],
        [
         "732bd381ad09e530fe0a5f457d81becb",
         "cool_stuff",
         56,
         1272,
         4,
         18350,
         70,
         24,
         44
        ],
        [
         "2548af3e6e77a690cf3eb6368e9ab61e",
         "moveis_decoracao",
         56,
         184,
         2,
         900,
         40,
         8,
         40
        ],
        [
         "37cc742be07708b53a98702e77a21a02",
         "eletrodomesticos",
         57,
         163,
         1,
         400,
         27,
         13,
         17
        ],
        [
         "8c92109888e8cdf9d66dc7e463025574",
         "brinquedos",
         36,
         1156,
         1,
         600,
         17,
         10,
         12
        ]
       ],
       "datasetInfos": [],
       "dbfsResultPath": null,
       "isJsonSchema": true,
       "metadata": {},
       "overflow": false,
       "plotOptions": {
        "customPlotOptions": {},
        "displayType": "table",
        "pivotAggregation": null,
        "pivotColumns": null,
        "xColumns": null,
        "yColumns": null
       },
       "removedWidgets": [],
       "schema": [
        {
         "metadata": "{}",
         "name": "product_id",
         "type": "\"string\""
        },
        {
         "metadata": "{}",
         "name": "product_category_name",
         "type": "\"string\""
        },
        {
         "metadata": "{}",
         "name": "product_name_lenght",
         "type": "\"integer\""
        },
        {
         "metadata": "{}",
         "name": "product_description_lenght",
         "type": "\"integer\""
        },
        {
         "metadata": "{}",
         "name": "product_photos_qty",
         "type": "\"integer\""
        },
        {
         "metadata": "{}",
         "name": "product_weight_g",
         "type": "\"integer\""
        },
        {
         "metadata": "{}",
         "name": "product_length_cm",
         "type": "\"integer\""
        },
        {
         "metadata": "{}",
         "name": "product_height_cm",
         "type": "\"integer\""
        },
        {
         "metadata": "{}",
         "name": "product_width_cm",
         "type": "\"integer\""
        }
       ],
       "type": "table"
      }
     },
     "output_type": "display_data"
    }
   ],
   "source": [
    "products.show(10)\n",
    "products.printSchema()\n",
    "display(products.limit(10))"
   ]
  },
  {
   "cell_type": "markdown",
   "metadata": {
    "application/vnd.databricks.v1+cell": {
     "cellMetadata": {},
     "inputWidgets": {},
     "nuid": "a6c832ec-3279-41b7-9c48-9acad8ef21df",
     "showTitle": false,
     "tableResultSettingsMap": {},
     "title": ""
    }
   },
   "source": [
    "### Data cleaning for products dataset\n",
    "- **Step 1: Data Loading and Initial Processing**<br>\n",
    "The function clean_products_dataset starts by loading two datasets:\n",
    "  - The main products dataset from a CSV file\n",
    "  - A cleaned product categories dataset from a Parquet file\n",
    "These datasets are joined to replace the original category names with English titles. The function also renames misspelled columns and performs initial data quality checks.\n",
    "\n",
    "- **Step 2: Data Quality Assessment**:<br>\n",
    "The code performs several data quality checks:\n",
    "  - Missing Values Analysis: It calculates and displays the count and percentage of missing values for each column.\n",
    "  - Duplicate Check: It identifies and reports the number of duplicate product IDs.\n",
    "\n",
    "- **Step 3: Data Cleaning and Transformation**:<br>\n",
    "The cleaning process involves several steps:\n",
    "  - Basic Cleaning: Removes records with null values in critical fields.\n",
    "  - Text Standardization: Converts category names to lowercase and trims whitespace.\n",
    "  - Numeric Value Handling: Replaces zero or negative values with null in numeric columns.\n",
    "  - Derived Metrics: Calculates product volume and density.\n",
    "\n",
    "- **Step 4: Feature Engineering**:<br>\n",
    "The code creates several new features to enhance the dataset:\n",
    "  - **Volume Tier**:<br>Categorizes products based on their volume (Extra Small to Extra Large). This categorization helps in understanding the size distribution of products and can be useful for inventory management and shipping considerations. It's calculated using quartiles of the product_volume_cm3 field:\n",
    "    - Extra Small: <= q1_volume/2\n",
    "    - Small: <= q1_volume\n",
    "    - Medium Small: <= median_volume\n",
    "    - Medium Large: <= q3_volume\n",
    "    - Large: <= q3_volume*2\n",
    "    - Extra Large: > q3_volume*2\n",
    "\n",
    "  - **Weight Category**:<br>Classifies products by weight (Ultra Light to Extra Heavy). This categorization is valuable for shipping calculations, warehouse organization, and logistics planning. The weight_category classifies products based on their weight:\n",
    "    - Ultra Light: <= 250g\n",
    "    - Light: <= q1_weight\n",
    "    - Medium Light: <= median_weight\n",
    "    - Medium Heavy: <= q3_weight\n",
    "    - Heavy: <= q3_weight*2\n",
    "    - Extra Heavy: > q3_weight*2  \n",
    "\n",
    "  - **Product Complexity**:<br>Assigns complexity levels based on description length, photo quantity, volume, and weight. This metric can be useful for customer support, product management, and marketing strategies. The product_complexity field assesses the overall complexity of a product based on multiple factors:\n",
    "    - Very High: Long description, many photos, large volume, heavy weight\n",
    "    - High: Above average description length, multiple photos, above average volume\n",
    "    - Medium: Default category\n",
    "    - Medium Low: Below average description length, few photos, below average volume\n",
    "    - Low: Short description, single photo, small volume, light weight\n",
    "\n",
    "  - **Shipping Complexity**:<br>Categorizes products as Simple, Standard, or Complex based on weight and dimensions. This categorization is crucial for logistics planning, shipping cost estimation, and warehouse management. The shipping_complexity categorizes products based on their shipping requirements:\n",
    "    - Complex: Heavy weight, large volume, or any dimension > 100cm\n",
    "    - Simple: Light weight and small volume\n",
    "    - Standard: Everything else\n",
    "\n",
    "  - **Category Group**:<br>Groups products into broader categories like \"Home & Decor\", \"Health & Fashion\", etc. This grouping allows for higher-level analysis of product trends and can be useful for marketing, inventory management, and strategic decision-making. The category_group field aggregates similar product categories into broader groups:\n",
    "    - Home & Decor\n",
    "    - Health & Fashion\n",
    "    - Electronics & Tech\n",
    "    - Kids & Baby\n",
    "    - Gifts & Personal\n",
    "    - Food & Beverage\n",
    "    - Tools & Construction\n",
    "    - Other\n",
    "\n",
    "- **Step 5: Statistical Analysis and Reporting**:<br>\n",
    "The code calculates and reports various statistics:\n",
    "  - Quartiles for volume, weight, and description length.\n",
    "  - Distribution of products across the newly created categories.\n",
    "\n",
    "- **Step 6: Final Cleaning and Output**:\n",
    "The function concludes by:\n",
    "  - Reporting the final record count and data retention rate.\n",
    "  - Displaying the cleaned dataset's schema.\n",
    "  - Showing a sample of the cleaned data."
   ]
  },
  {
   "cell_type": "code",
   "execution_count": 0,
   "metadata": {
    "application/vnd.databricks.v1+cell": {
     "cellMetadata": {
      "byteLimit": 2048000,
      "rowLimit": 10000
     },
     "inputWidgets": {},
     "nuid": "430f1f37-15c9-4887-98d3-3840de28c8cd",
     "showTitle": false,
     "tableResultSettingsMap": {},
     "title": ""
    }
   },
   "outputs": [
    {
     "output_type": "stream",
     "name": "stdout",
     "output_type": "stream",
     "text": [
      "Loading products dataset...\n\nInitial dataset information:\nNumber of records: 32,951\nNumber of columns: 9\n\nMissing values analysis:\nproduct_id: 0 missing values (0.00%)\nproduct_name_length: 610 missing values (1.85%)\nproduct_description_length: 610 missing values (1.85%)\nproduct_photos_qty: 610 missing values (1.85%)\nproduct_weight_g: 2 missing values (0.01%)\nproduct_length_cm: 2 missing values (0.01%)\nproduct_height_cm: 2 missing values (0.01%)\nproduct_width_cm: 2 missing values (0.01%)\nproduct_category_name: 623 missing values (1.89%)\n\nMissing values count:\n+----------+-------------------+--------------------------+------------------+----------------+-----------------+-----------------+----------------+---------------------+\n|product_id|product_name_length|product_description_length|product_photos_qty|product_weight_g|product_length_cm|product_height_cm|product_width_cm|product_category_name|\n+----------+-------------------+--------------------------+------------------+----------------+-----------------+-----------------+----------------+---------------------+\n|         0|                610|                       610|               610|               2|                2|                2|               2|                  623|\n+----------+-------------------+--------------------------+------------------+----------------+-----------------+-----------------+----------------+---------------------+\n\n\nChecking for duplicate products...\nNumber of duplicate product_ids: 0 (0.00%)\n\nStarting data cleaning process...\n\nCalculating data statistics...\n\nVolume Tier Distribution:\n+------------+-----+----------+\n| volume_tier|count|percentage|\n+------------+-----+----------+\n|Medium Large| 8079|     24.99|\n|Medium Small| 8073|     24.97|\n|       Small| 4650|     14.38|\n|       Large| 4337|     13.42|\n| Extra Large| 3745|     11.58|\n| Extra Small| 3444|     10.65|\n+------------+-----+----------+\n\n\nWeight Category Distribution:\n+---------------+-----+----------+\n|weight_category|count|percentage|\n+---------------+-----+----------+\n|   Medium Light| 7992|     24.72|\n|   Medium Heavy| 7794|     24.11|\n|    Ultra Light| 6747|     20.87|\n|    Extra Heavy| 4850|      15.0|\n|          Heavy| 3110|      9.62|\n|          Light| 1835|      5.68|\n+---------------+-----+----------+\n\n\nProduct Complexity Distribution:\n+------------------+-----+----------+\n|product_complexity|count|percentage|\n+------------------+-----+----------+\n|            Medium|21621|     66.88|\n|        Medium Low| 5499|     17.01|\n|              High| 3851|     11.91|\n|         Very High|  703|      2.17|\n|               Low|  654|      2.02|\n+------------------+-----+----------+\n\n\nShipping Complexity Distribution:\n+-------------------+-----+----------+\n|shipping_complexity|count|percentage|\n+-------------------+-----+----------+\n|           Standard|16537|     51.15|\n|            Complex|10514|     32.52|\n|             Simple| 5277|     16.32|\n+-------------------+-----+----------+\n\n\nCategory Group Distribution:\n+--------------------+-----+----------+\n|      category_group|count|percentage|\n+--------------------+-----+----------+\n|        Home & Decor| 8805|     27.24|\n|    Health & Fashion| 6777|     20.96|\n|               Other| 6345|     19.63|\n|  Electronics & Tech| 4230|     13.08|\n|         Kids & Baby| 2330|      7.21|\n|    Gifts & Personal| 2252|      6.97|\n|Tools & Construction| 1322|      4.09|\n|     Food & Beverage|  267|      0.83|\n+--------------------+-----+----------+\n\n\nCleaning Summary:\nOriginal record count: 32,951\nCleaned record count: 32,328\nRecords removed: 623\nData retention rate: 98.11%\nData removal rate: 1.89%\n\nCleaned Dataset Schema:\nroot\n |-- product_id: string (nullable = true)\n |-- product_name_length: integer (nullable = true)\n |-- product_description_length: integer (nullable = true)\n |-- product_photos_qty: integer (nullable = true)\n |-- product_weight_g: integer (nullable = true)\n |-- product_length_cm: integer (nullable = true)\n |-- product_height_cm: integer (nullable = true)\n |-- product_width_cm: integer (nullable = true)\n |-- product_category_name: string (nullable = true)\n |-- product_volume_cm3: integer (nullable = true)\n |-- product_density_g_cm3: double (nullable = true)\n |-- volume_tier: string (nullable = false)\n |-- weight_category: string (nullable = false)\n |-- product_complexity: string (nullable = false)\n |-- shipping_complexity: string (nullable = false)\n |-- category_group: string (nullable = false)\n\n\nSample of Cleaned Data:\n+--------------------+---------------------+----------------+------------------+-------------------+------------+---------------+\n|          product_id|product_category_name|  category_group|product_complexity|shipping_complexity| volume_tier|weight_category|\n+--------------------+---------------------+----------------+------------------+-------------------+------------+---------------+\n|1e9e8ef04dbcff454...|            Perfumery|Gifts & Personal|               Low|             Simple|       Small|    Ultra Light|\n|3aa071139cb16b67c...|                  Art|Gifts & Personal|            Medium|           Standard|Medium Large|   Medium Heavy|\n|96bd76ec8810374ed...|       Sports Leisure|Health & Fashion|               Low|             Simple|       Small|    Ultra Light|\n|cef67bcfe19066a93...|                 Baby|     Kids & Baby|        Medium Low|           Standard|       Small|   Medium Light|\n|9dc1a7de274444849...|           Housewares|    Home & Decor|            Medium|           Standard|Medium Small|   Medium Light|\n+--------------------+---------------------+----------------+------------------+-------------------+------------+---------------+\nonly showing top 5 rows\n\n"
     ]
    },
    {
     "output_type": "display_data",
     "data": {
      "text/html": [
       "<style scoped>\n",
       "  .table-result-container {\n",
       "    max-height: 300px;\n",
       "    overflow: auto;\n",
       "  }\n",
       "  table, th, td {\n",
       "    border: 1px solid black;\n",
       "    border-collapse: collapse;\n",
       "  }\n",
       "  th, td {\n",
       "    padding: 5px;\n",
       "  }\n",
       "  th {\n",
       "    text-align: left;\n",
       "  }\n",
       "</style><div class='table-result-container'><table class='table-result'><thead style='background-color: white'><tr><th>product_id</th><th>product_name_length</th><th>product_description_length</th><th>product_photos_qty</th><th>product_weight_g</th><th>product_length_cm</th><th>product_height_cm</th><th>product_width_cm</th><th>product_category_name</th><th>product_volume_cm3</th><th>product_density_g_cm3</th><th>volume_tier</th><th>weight_category</th><th>product_complexity</th><th>shipping_complexity</th><th>category_group</th></tr></thead><tbody><tr><td>1e9e8ef04dbcff4541ed26657ea517e5</td><td>40</td><td>287</td><td>1</td><td>225</td><td>16</td><td>10</td><td>14</td><td>Perfumery</td><td>2240</td><td>0.1</td><td>Small</td><td>Ultra Light</td><td>Low</td><td>Simple</td><td>Gifts & Personal</td></tr><tr><td>3aa071139cb16b67ca9e5dea641aaa2f</td><td>44</td><td>276</td><td>1</td><td>1000</td><td>30</td><td>18</td><td>20</td><td>Art</td><td>10800</td><td>0.093</td><td>Medium Large</td><td>Medium Heavy</td><td>Medium</td><td>Standard</td><td>Gifts & Personal</td></tr><tr><td>96bd76ec8810374ed1b65e291975717f</td><td>46</td><td>250</td><td>1</td><td>154</td><td>18</td><td>9</td><td>15</td><td>Sports Leisure</td><td>2430</td><td>0.063</td><td>Small</td><td>Ultra Light</td><td>Low</td><td>Simple</td><td>Health & Fashion</td></tr><tr><td>cef67bcfe19066a932b7673e239eb23d</td><td>27</td><td>261</td><td>1</td><td>371</td><td>26</td><td>4</td><td>26</td><td>Baby</td><td>2704</td><td>0.137</td><td>Small</td><td>Medium Light</td><td>Medium Low</td><td>Standard</td><td>Kids & Baby</td></tr><tr><td>9dc1a7de274444849c219cff195d0b71</td><td>37</td><td>402</td><td>4</td><td>625</td><td>20</td><td>17</td><td>13</td><td>Housewares</td><td>4420</td><td>0.141</td><td>Medium Small</td><td>Medium Light</td><td>Medium</td><td>Standard</td><td>Home & Decor</td></tr><tr><td>41d3672d4792049fa1779bb35283ed13</td><td>60</td><td>745</td><td>1</td><td>200</td><td>38</td><td>5</td><td>11</td><td>Musical Instruments</td><td>2090</td><td>0.096</td><td>Small</td><td>Ultra Light</td><td>Medium</td><td>Simple</td><td>Other</td></tr><tr><td>732bd381ad09e530fe0a5f457d81becb</td><td>56</td><td>1272</td><td>4</td><td>18350</td><td>70</td><td>24</td><td>44</td><td>Cool Stuff</td><td>73920</td><td>0.248</td><td>Extra Large</td><td>Extra Heavy</td><td>Very High</td><td>Complex</td><td>Other</td></tr><tr><td>2548af3e6e77a690cf3eb6368e9ab61e</td><td>56</td><td>184</td><td>2</td><td>900</td><td>40</td><td>8</td><td>40</td><td>Furniture Decor</td><td>12800</td><td>0.07</td><td>Medium Large</td><td>Medium Heavy</td><td>Medium</td><td>Standard</td><td>Home & Decor</td></tr><tr><td>37cc742be07708b53a98702e77a21a02</td><td>57</td><td>163</td><td>1</td><td>400</td><td>27</td><td>13</td><td>17</td><td>Home Appliances</td><td>5967</td><td>0.067</td><td>Medium Small</td><td>Medium Light</td><td>Medium Low</td><td>Standard</td><td>Electronics & Tech</td></tr><tr><td>8c92109888e8cdf9d66dc7e463025574</td><td>36</td><td>1156</td><td>1</td><td>600</td><td>17</td><td>10</td><td>12</td><td>Toys</td><td>2040</td><td>0.294</td><td>Small</td><td>Medium Light</td><td>Medium</td><td>Standard</td><td>Kids & Baby</td></tr></tbody></table></div>"
      ]
     },
     "metadata": {
      "application/vnd.databricks.v1+output": {
       "addedWidgets": {},
       "aggData": [],
       "aggError": "",
       "aggOverflow": false,
       "aggSchema": [],
       "aggSeriesLimitReached": false,
       "aggType": "",
       "arguments": {},
       "columnCustomDisplayInfos": {},
       "data": [
        [
         "1e9e8ef04dbcff4541ed26657ea517e5",
         40,
         287,
         1,
         225,
         16,
         10,
         14,
         "Perfumery",
         2240,
         0.1,
         "Small",
         "Ultra Light",
         "Low",
         "Simple",
         "Gifts & Personal"
        ],
        [
         "3aa071139cb16b67ca9e5dea641aaa2f",
         44,
         276,
         1,
         1000,
         30,
         18,
         20,
         "Art",
         10800,
         0.093,
         "Medium Large",
         "Medium Heavy",
         "Medium",
         "Standard",
         "Gifts & Personal"
        ],
        [
         "96bd76ec8810374ed1b65e291975717f",
         46,
         250,
         1,
         154,
         18,
         9,
         15,
         "Sports Leisure",
         2430,
         0.063,
         "Small",
         "Ultra Light",
         "Low",
         "Simple",
         "Health & Fashion"
        ],
        [
         "cef67bcfe19066a932b7673e239eb23d",
         27,
         261,
         1,
         371,
         26,
         4,
         26,
         "Baby",
         2704,
         0.137,
         "Small",
         "Medium Light",
         "Medium Low",
         "Standard",
         "Kids & Baby"
        ],
        [
         "9dc1a7de274444849c219cff195d0b71",
         37,
         402,
         4,
         625,
         20,
         17,
         13,
         "Housewares",
         4420,
         0.141,
         "Medium Small",
         "Medium Light",
         "Medium",
         "Standard",
         "Home & Decor"
        ],
        [
         "41d3672d4792049fa1779bb35283ed13",
         60,
         745,
         1,
         200,
         38,
         5,
         11,
         "Musical Instruments",
         2090,
         0.096,
         "Small",
         "Ultra Light",
         "Medium",
         "Simple",
         "Other"
        ],
        [
         "732bd381ad09e530fe0a5f457d81becb",
         56,
         1272,
         4,
         18350,
         70,
         24,
         44,
         "Cool Stuff",
         73920,
         0.248,
         "Extra Large",
         "Extra Heavy",
         "Very High",
         "Complex",
         "Other"
        ],
        [
         "2548af3e6e77a690cf3eb6368e9ab61e",
         56,
         184,
         2,
         900,
         40,
         8,
         40,
         "Furniture Decor",
         12800,
         0.07,
         "Medium Large",
         "Medium Heavy",
         "Medium",
         "Standard",
         "Home & Decor"
        ],
        [
         "37cc742be07708b53a98702e77a21a02",
         57,
         163,
         1,
         400,
         27,
         13,
         17,
         "Home Appliances",
         5967,
         0.067,
         "Medium Small",
         "Medium Light",
         "Medium Low",
         "Standard",
         "Electronics & Tech"
        ],
        [
         "8c92109888e8cdf9d66dc7e463025574",
         36,
         1156,
         1,
         600,
         17,
         10,
         12,
         "Toys",
         2040,
         0.294,
         "Small",
         "Medium Light",
         "Medium",
         "Standard",
         "Kids & Baby"
        ]
       ],
       "datasetInfos": [],
       "dbfsResultPath": null,
       "isJsonSchema": true,
       "metadata": {},
       "overflow": false,
       "plotOptions": {
        "customPlotOptions": {},
        "displayType": "table",
        "pivotAggregation": null,
        "pivotColumns": null,
        "xColumns": null,
        "yColumns": null
       },
       "removedWidgets": [],
       "schema": [
        {
         "metadata": "{}",
         "name": "product_id",
         "type": "\"string\""
        },
        {
         "metadata": "{}",
         "name": "product_name_length",
         "type": "\"integer\""
        },
        {
         "metadata": "{}",
         "name": "product_description_length",
         "type": "\"integer\""
        },
        {
         "metadata": "{}",
         "name": "product_photos_qty",
         "type": "\"integer\""
        },
        {
         "metadata": "{}",
         "name": "product_weight_g",
         "type": "\"integer\""
        },
        {
         "metadata": "{}",
         "name": "product_length_cm",
         "type": "\"integer\""
        },
        {
         "metadata": "{}",
         "name": "product_height_cm",
         "type": "\"integer\""
        },
        {
         "metadata": "{}",
         "name": "product_width_cm",
         "type": "\"integer\""
        },
        {
         "metadata": "{}",
         "name": "product_category_name",
         "type": "\"string\""
        },
        {
         "metadata": "{}",
         "name": "product_volume_cm3",
         "type": "\"integer\""
        },
        {
         "metadata": "{}",
         "name": "product_density_g_cm3",
         "type": "\"double\""
        },
        {
         "metadata": "{}",
         "name": "volume_tier",
         "type": "\"string\""
        },
        {
         "metadata": "{}",
         "name": "weight_category",
         "type": "\"string\""
        },
        {
         "metadata": "{}",
         "name": "product_complexity",
         "type": "\"string\""
        },
        {
         "metadata": "{}",
         "name": "shipping_complexity",
         "type": "\"string\""
        },
        {
         "metadata": "{}",
         "name": "category_group",
         "type": "\"string\""
        }
       ],
       "type": "table"
      }
     },
     "output_type": "display_data"
    },
    {
     "output_type": "stream",
     "name": "stdout",
     "output_type": "stream",
     "text": [
      "\nCleaning process completed.\n"
     ]
    }
   ],
   "source": [
    "# This script performs data cleaning and analysis on the products dataset.\n",
    "# It standardizes product categories, handles missing values, and adds derived features.\n",
    "\n",
    "# Import libraries\n",
    "from pyspark.sql.functions import (\n",
    "    col, sum, count, when, isnan, \n",
    "    regexp_replace, lower, trim, upper, concat,\n",
    "    avg, stddev, min, max, round,\n",
    "    array, explode, concat_ws, percentile_approx, lit, udf\n",
    ")\n",
    "from pyspark.sql.types import IntegerType, StringType\n",
    "\n",
    "def sentence_case(text):\n",
    "    if text:\n",
    "        words = text.split()\n",
    "        return ' '.join(word.capitalize() for word in words)\n",
    "    return None\n",
    "\n",
    "sentence_case_udf = udf(sentence_case, StringType())\n",
    "\n",
    "def clean_products_dataset(spark):\n",
    "    \"\"\"\n",
    "    This function performs comprehensive data cleaning and analysis on the sellers dataset.\n",
    "    It standardizes city and state names, adds derived features, and generates various analytical reports.\n",
    "    \"\"\"\n",
    "    try:\n",
    "        # Load the sellers dataset from CSV\n",
    "        print(\"Loading products dataset...\")\n",
    "        products = spark.read.format(\"csv\").option(\"header\",\"true\").option(\"inferSchema\",\"true\")\\\n",
    "            .load(\"/mnt/olist-store-data/raw-data/olist_products_dataset.csv\")\n",
    "        \n",
    "        cleaned_product_categories = spark.read.parquet(\"/mnt/olist-store-data/transformed-data/olist_product_category_cleaned_dataset_final_v2.0.parquet\")\n",
    "\n",
    "        products = products.join(\n",
    "            cleaned_product_categories.select(\"product_category_name_clean\", \"product_category_name_english_title\"),\n",
    "            products[\"product_category_name\"] == cleaned_product_categories[\"product_category_name_clean\"],\n",
    "            \"left\"\n",
    "        )\n",
    "        products = products.drop(\"product_category_name\", \"product_category_name_clean\") \\\n",
    "                   .withColumnRenamed(\"product_category_name_english_title\", \"product_category_name\")\n",
    "        \n",
    "        products = products.withColumnRenamed(\"product_name_lenght\", \"product_name_length\") \\\n",
    "                           .withColumnRenamed(\"product_description_lenght\", \"product_description_length\")\n",
    "        \n",
    "        initial_count = products.count()\n",
    "        \n",
    "        print(\"\\nInitial dataset information:\")\n",
    "        print(f\"Number of records: {initial_count:,}\")\n",
    "        print(f\"Number of columns: {len(products.columns)}\")\n",
    "        \n",
    "        print(\"\\nMissing values analysis:\")\n",
    "        missing_values = products.select([\n",
    "            sum(col(c).isNull().cast(\"int\")).alias(c) for c in products.columns\n",
    "        ])\n",
    "        \n",
    "        for column in products.columns:\n",
    "            missing_count = missing_values.collect()[0][column]\n",
    "            missing_percentage = (missing_count / initial_count) * 100\n",
    "            print(f\"{column}: {missing_count:,} missing values ({missing_percentage:.2f}%)\")\n",
    "        \n",
    "        print(\"\\nMissing values count:\")\n",
    "        missing_values.show()\n",
    "        \n",
    "        print(\"\\nChecking for duplicate products...\")\n",
    "        duplicates = products.groupBy(\"product_id\").count().filter(col(\"count\") > 1)\n",
    "        duplicate_count = duplicates.count()\n",
    "        duplicate_percentage = (duplicate_count / initial_count) * 100\n",
    "        print(f\"Number of duplicate product_ids: {duplicate_count:,} ({duplicate_percentage:.2f}%)\")\n",
    "        \n",
    "        print(\"\\nStarting data cleaning process...\")\n",
    "        \n",
    "        cleaned_products = products.filter(\n",
    "            col(\"product_id\").isNotNull() &\n",
    "            col(\"product_category_name\").isNotNull()\n",
    "        )\n",
    "        \n",
    "        # Convert product_category_name to sentence case\n",
    "        cleaned_products = cleaned_products.withColumn(\"product_category_name\", sentence_case_udf(trim(col(\"product_category_name\")))\n",
    "        )\n",
    "\n",
    "        \n",
    "        numeric_columns = [\n",
    "            \"product_name_length\",\n",
    "            \"product_description_length\",\n",
    "            \"product_photos_qty\",\n",
    "            \"product_weight_g\",\n",
    "            \"product_length_cm\",\n",
    "            \"product_height_cm\",\n",
    "            \"product_width_cm\"\n",
    "        ]\n",
    "        \n",
    "        for column in numeric_columns:\n",
    "            cleaned_products = cleaned_products.withColumn(\n",
    "                column,\n",
    "                when(col(column) <= 0, None).otherwise(col(column))\n",
    "            )\n",
    "        \n",
    "        cleaned_products = cleaned_products.withColumn(\n",
    "            \"product_volume_cm3\",\n",
    "            col(\"product_length_cm\") * col(\"product_height_cm\") * col(\"product_width_cm\")\n",
    "        ).withColumn(\n",
    "            \"product_density_g_cm3\",\n",
    "            round(col(\"product_weight_g\") / col(\"product_volume_cm3\"), 3)\n",
    "        )\n",
    "        \n",
    "        print(\"\\nCalculating data statistics...\")\n",
    "        stats = cleaned_products.select(\n",
    "            percentile_approx(\"product_volume_cm3\", array(lit(0.25), lit(0.5), lit(0.75))).alias(\"volume_percentiles\"),\n",
    "            percentile_approx(\"product_weight_g\", array(lit(0.25), lit(0.5), lit(0.75))).alias(\"weight_percentiles\"),\n",
    "            percentile_approx(\"product_description_length\", array(lit(0.25), lit(0.5), lit(0.75))).alias(\"description_percentiles\")\n",
    "        ).collect()[0]\n",
    "        \n",
    "        q1_volume, median_volume, q3_volume = stats[\"volume_percentiles\"]\n",
    "        q1_weight, median_weight, q3_weight = stats[\"weight_percentiles\"]\n",
    "        q1_desc, median_desc, q3_desc = stats[\"description_percentiles\"]\n",
    "        \n",
    "        cleaned_products = cleaned_products.withColumn(\n",
    "            \"volume_tier\",\n",
    "            when(col(\"product_volume_cm3\") <= q1_volume/2, \"Extra Small\")\n",
    "            .when(col(\"product_volume_cm3\") <= q1_volume, \"Small\")\n",
    "            .when(col(\"product_volume_cm3\") <= median_volume, \"Medium Small\")\n",
    "            .when(col(\"product_volume_cm3\") <= q3_volume, \"Medium Large\")\n",
    "            .when(col(\"product_volume_cm3\") <= q3_volume*2, \"Large\")\n",
    "            .otherwise(\"Extra Large\")\n",
    "        )\n",
    "        \n",
    "        cleaned_products = cleaned_products.withColumn(\n",
    "            \"weight_category\",\n",
    "            when(col(\"product_weight_g\") <= 250, \"Ultra Light\")\n",
    "            .when(col(\"product_weight_g\") <= q1_weight, \"Light\")\n",
    "            .when(col(\"product_weight_g\") <= median_weight, \"Medium Light\")\n",
    "            .when(col(\"product_weight_g\") <= q3_weight, \"Medium Heavy\")\n",
    "            .when(col(\"product_weight_g\") <= q3_weight*2, \"Heavy\")\n",
    "            .otherwise(\"Extra Heavy\")\n",
    "        )\n",
    "        \n",
    "        cleaned_products = cleaned_products.withColumn(\n",
    "            \"product_complexity\",\n",
    "            when(\n",
    "                (col(\"product_description_length\") > q3_desc) & \n",
    "                (col(\"product_photos_qty\") > 2) & \n",
    "                (col(\"product_volume_cm3\") > q3_volume) &\n",
    "                (col(\"product_weight_g\") > q3_weight),\n",
    "                \"Very High\"\n",
    "            )\n",
    "            .when(\n",
    "                (col(\"product_description_length\") > median_desc) & \n",
    "                (col(\"product_photos_qty\") > 1) & \n",
    "                (col(\"product_volume_cm3\") > median_volume),\n",
    "                \"High\"\n",
    "            )\n",
    "            .when(\n",
    "                (col(\"product_description_length\") < q1_desc) & \n",
    "                (col(\"product_photos_qty\") == 1) & \n",
    "                (col(\"product_volume_cm3\") < q1_volume) &\n",
    "                (col(\"product_weight_g\") < q1_weight),\n",
    "                \"Low\"\n",
    "            )\n",
    "            .when(\n",
    "                (col(\"product_description_length\") < median_desc) & \n",
    "                (col(\"product_photos_qty\") <= 2) & \n",
    "                (col(\"product_volume_cm3\") < median_volume),\n",
    "                \"Medium Low\"\n",
    "            )\n",
    "            .otherwise(\"Medium\")\n",
    "        )\n",
    "        \n",
    "        cleaned_products = cleaned_products.withColumn(\n",
    "            \"shipping_complexity\",\n",
    "            when(\n",
    "                (col(\"product_weight_g\") > q3_weight) | \n",
    "                (col(\"product_volume_cm3\") > q3_volume) |\n",
    "                (col(\"product_length_cm\") > 100) |\n",
    "                (col(\"product_height_cm\") > 100) |\n",
    "                (col(\"product_width_cm\") > 100),\n",
    "                \"Complex\"\n",
    "            )\n",
    "            .when(\n",
    "                (col(\"product_weight_g\") <= q1_weight) & \n",
    "                (col(\"product_volume_cm3\") <= q1_volume),\n",
    "                \"Simple\"\n",
    "            )\n",
    "            .otherwise(\"Standard\")\n",
    "        )\n",
    "        \n",
    "        cleaned_products = cleaned_products.withColumn(\n",
    "        \"category_group\",\n",
    "            when(\n",
    "                lower(col(\"product_category_name\")).isin(\n",
    "                    \"bed bath table\", \"furniture decor\", \"home construction\", \n",
    "                    \"housewares\", \"office furniture\", \"furniture living room\",\n",
    "                    \"kitchen dining laundry garden furniture\", \"home comfort\"\n",
    "                ), \n",
    "                \"Home & Decor\"\n",
    "            )\n",
    "            .when(\n",
    "                lower(col(\"product_category_name\")).isin(\n",
    "                    \"sports leisure\", \"health beauty\", \"fashion bags accessories\", \n",
    "                    \"fashion shoes\", \"fashion male clothing\", \"luggage accessories\"\n",
    "                ), \n",
    "                \"Health & Fashion\"\n",
    "            )\n",
    "            .when(\n",
    "                lower(col(\"product_category_name\")).isin(\n",
    "                    \"computers accessories\", \"telephony\", \"electronics\", \"pc gamer\",\n",
    "                    \"tablets printing image\", \"fixed telephony\", \"home appliances\",\n",
    "                    \"home appliances 2\", \"small appliances\", \"air conditioning\"\n",
    "                ), \n",
    "                \"Electronics & Tech\"\n",
    "            )\n",
    "            .when(\n",
    "                lower(col(\"product_category_name\")).isin(\n",
    "                    \"toys\", \"baby\", \"fashion children clothes\"\n",
    "                ), \n",
    "                \"Kids & Baby\"\n",
    "            )\n",
    "            .when(\n",
    "                lower(col(\"product_category_name\")).isin(\n",
    "                    \"watches gifts\", \"perfumery\", \"art\", \"christmas articles\"\n",
    "                ), \n",
    "                \"Gifts & Personal\"\n",
    "            )\n",
    "            .when(\n",
    "                lower(col(\"product_category_name\")).isin(\n",
    "                    \"food\", \"drinks\", \"food drink\"\n",
    "                ),\n",
    "                \"Food & Beverage\"\n",
    "            )\n",
    "            .when(\n",
    "                lower(col(\"product_category_name\")).isin(\n",
    "                    \"garden tools\", \"construction tools construction\",\n",
    "                    \"construction tools garden\", \"construction tools safety\",\n",
    "                    \"construction tools lights\"\n",
    "                ),\n",
    "                \"Tools & Construction\"\n",
    "            )\n",
    "            .otherwise(\"Other\")\n",
    "        )\n",
    "        \n",
    "        print(\"\\nVolume Tier Distribution:\")\n",
    "        cleaned_products.groupBy(\"volume_tier\").count()\\\n",
    "            .withColumn(\"percentage\", round(col(\"count\") / cleaned_products.count() * 100, 2))\\\n",
    "            .orderBy(\"count\", ascending=False).show()\n",
    "        \n",
    "        print(\"\\nWeight Category Distribution:\")\n",
    "        cleaned_products.groupBy(\"weight_category\").count()\\\n",
    "            .withColumn(\"percentage\", round(col(\"count\") / cleaned_products.count() * 100, 2))\\\n",
    "            .orderBy(\"count\", ascending=False).show()\n",
    "        \n",
    "        print(\"\\nProduct Complexity Distribution:\")\n",
    "        cleaned_products.groupBy(\"product_complexity\").count()\\\n",
    "            .withColumn(\"percentage\", round(col(\"count\") / cleaned_products.count() * 100, 2))\\\n",
    "            .orderBy(\"count\", ascending=False).show()\n",
    "        \n",
    "        print(\"\\nShipping Complexity Distribution:\")\n",
    "        cleaned_products.groupBy(\"shipping_complexity\").count()\\\n",
    "            .withColumn(\"percentage\", round(col(\"count\") / cleaned_products.count() * 100, 2))\\\n",
    "            .orderBy(\"count\", ascending=False).show()\n",
    "        \n",
    "        print(\"\\nCategory Group Distribution:\")\n",
    "        cleaned_products.groupBy(\"category_group\").count()\\\n",
    "            .withColumn(\"percentage\", round(col(\"count\") / cleaned_products.count() * 100, 2))\\\n",
    "            .orderBy(\"count\", ascending=False).show()\n",
    "        \n",
    "        final_count = cleaned_products.count()\n",
    "        removed_count = initial_count - final_count\n",
    "        retention_rate = (final_count / initial_count) * 100\n",
    "        removal_rate = (removed_count / initial_count) * 100\n",
    "        \n",
    "        print(\"\\nCleaning Summary:\")\n",
    "        print(f\"Original record count: {initial_count:,}\")\n",
    "        print(f\"Cleaned record count: {final_count:,}\")\n",
    "        print(f\"Records removed: {removed_count:,}\")\n",
    "        print(f\"Data retention rate: {retention_rate:.2f}%\")\n",
    "        print(f\"Data removal rate: {removal_rate:.2f}%\")\n",
    "        \n",
    "        print(\"\\nCleaned Dataset Schema:\")\n",
    "        cleaned_products.printSchema()\n",
    "        \n",
    "        print(\"\\nSample of Cleaned Data:\")\n",
    "        cleaned_products.select(\n",
    "            \"product_id\", \"product_category_name\", \"category_group\", \"product_complexity\", \n",
    "            \"shipping_complexity\", \"volume_tier\", \"weight_category\"\n",
    "        ).show(5, truncate=True)\n",
    "        \n",
    "        display(cleaned_products.limit(10))\n",
    "        print(\"\\nCleaning process completed.\")\n",
    "        return cleaned_products\n",
    "        \n",
    "    except Exception as e:\n",
    "        print(f\"\\nError in data cleaning process: {str(e)}\")\n",
    "        raise\n",
    "\n",
    "if __name__ == \"__main__\":\n",
    "    try:\n",
    "        cleaned_products = clean_products_dataset(spark)\n",
    "    except Exception as e:\n",
    "        print(f\"Failed to clean products dataset: {str(e)}\")\n",
    "\n"
   ]
  },
  {
   "cell_type": "markdown",
   "metadata": {
    "application/vnd.databricks.v1+cell": {
     "cellMetadata": {},
     "inputWidgets": {},
     "nuid": "887a3713-69e4-49be-a686-02f82ae13008",
     "showTitle": false,
     "tableResultSettingsMap": {},
     "title": ""
    }
   },
   "source": [
    "### Review the cleaned_products_withCalculations dataset"
   ]
  },
  {
   "cell_type": "code",
   "execution_count": 0,
   "metadata": {
    "application/vnd.databricks.v1+cell": {
     "cellMetadata": {
      "byteLimit": 2048000,
      "rowLimit": 10000
     },
     "inputWidgets": {},
     "nuid": "8624a22c-21c0-4f9a-b944-aea2f5322d96",
     "showTitle": false,
     "tableResultSettingsMap": {},
     "title": ""
    }
   },
   "outputs": [
    {
     "output_type": "stream",
     "name": "stdout",
     "output_type": "stream",
     "text": [
      "\nFinal Schema:\nroot\n |-- product_id: string (nullable = true)\n |-- product_name_length: integer (nullable = true)\n |-- product_description_length: integer (nullable = true)\n |-- product_photos_qty: integer (nullable = true)\n |-- product_weight_g: integer (nullable = true)\n |-- product_length_cm: integer (nullable = true)\n |-- product_height_cm: integer (nullable = true)\n |-- product_width_cm: integer (nullable = true)\n |-- product_category_name: string (nullable = true)\n |-- product_volume_cm3: integer (nullable = true)\n |-- product_density_g_cm3: double (nullable = true)\n |-- volume_tier: string (nullable = false)\n |-- weight_category: string (nullable = false)\n |-- product_complexity: string (nullable = false)\n |-- shipping_complexity: string (nullable = false)\n |-- category_group: string (nullable = false)\n\n\nSample of final cleaned dataset:\n+--------------------------------+-------------------+--------------------------+------------------+----------------+-----------------+-----------------+----------------+---------------------+------------------+---------------------+------------+---------------+------------------+-------------------+----------------+\n|product_id                      |product_name_length|product_description_length|product_photos_qty|product_weight_g|product_length_cm|product_height_cm|product_width_cm|product_category_name|product_volume_cm3|product_density_g_cm3|volume_tier |weight_category|product_complexity|shipping_complexity|category_group  |\n+--------------------------------+-------------------+--------------------------+------------------+----------------+-----------------+-----------------+----------------+---------------------+------------------+---------------------+------------+---------------+------------------+-------------------+----------------+\n|1e9e8ef04dbcff4541ed26657ea517e5|40                 |287                       |1                 |225             |16               |10               |14              |Perfumery            |2240              |0.1                  |Small       |Ultra Light    |Low               |Simple             |Gifts & Personal|\n|3aa071139cb16b67ca9e5dea641aaa2f|44                 |276                       |1                 |1000            |30               |18               |20              |Art                  |10800             |0.093                |Medium Large|Medium Heavy   |Medium            |Standard           |Gifts & Personal|\n|96bd76ec8810374ed1b65e291975717f|46                 |250                       |1                 |154             |18               |9                |15              |Sports Leisure       |2430              |0.063                |Small       |Ultra Light    |Low               |Simple             |Health & Fashion|\n|cef67bcfe19066a932b7673e239eb23d|27                 |261                       |1                 |371             |26               |4                |26              |Baby                 |2704              |0.137                |Small       |Medium Light   |Medium Low        |Standard           |Kids & Baby     |\n|9dc1a7de274444849c219cff195d0b71|37                 |402                       |4                 |625             |20               |17               |13              |Housewares           |4420              |0.141                |Medium Small|Medium Light   |Medium            |Standard           |Home & Decor    |\n+--------------------------------+-------------------+--------------------------+------------------+----------------+-----------------+-----------------+----------------+---------------------+------------------+---------------------+------------+---------------+------------------+-------------------+----------------+\nonly showing top 5 rows\n\n\nTotal records in cleaned dataset: 32,328\n"
     ]
    }
   ],
   "source": [
    "# Verify final schema\n",
    "print(\"\\nFinal Schema:\")\n",
    "cleaned_products.printSchema()\n",
    "\n",
    "# Show sample of final dataset\n",
    "print(\"\\nSample of final cleaned dataset:\")\n",
    "cleaned_products.show(5, truncate=False)\n",
    "\n",
    "# Print final record count\n",
    "print(f\"\\nTotal records in cleaned dataset: {cleaned_products.count():,}\")"
   ]
  },
  {
   "cell_type": "markdown",
   "metadata": {
    "application/vnd.databricks.v1+cell": {
     "cellMetadata": {},
     "inputWidgets": {},
     "nuid": "ea485d73-f414-4395-aa08-e528435aa238",
     "showTitle": false,
     "tableResultSettingsMap": {},
     "title": ""
    }
   },
   "source": [
    "### Save the clean_products_withCalculations dataset in parquet"
   ]
  },
  {
   "cell_type": "code",
   "execution_count": 0,
   "metadata": {
    "application/vnd.databricks.v1+cell": {
     "cellMetadata": {
      "byteLimit": 2048000,
      "rowLimit": 10000
     },
     "inputWidgets": {},
     "nuid": "09343b20-0499-4ae9-a601-8fcba035231d",
     "showTitle": false,
     "tableResultSettingsMap": {},
     "title": ""
    }
   },
   "outputs": [
    {
     "output_type": "stream",
     "name": "stdout",
     "output_type": "stream",
     "text": [
      "\nVerification of saved Parquet file:\nNumber of rows in saved Parquet file: 32,328\n\nSample of saved data:\n"
     ]
    },
    {
     "output_type": "display_data",
     "data": {
      "text/html": [
       "<style scoped>\n",
       "  .table-result-container {\n",
       "    max-height: 300px;\n",
       "    overflow: auto;\n",
       "  }\n",
       "  table, th, td {\n",
       "    border: 1px solid black;\n",
       "    border-collapse: collapse;\n",
       "  }\n",
       "  th, td {\n",
       "    padding: 5px;\n",
       "  }\n",
       "  th {\n",
       "    text-align: left;\n",
       "  }\n",
       "</style><div class='table-result-container'><table class='table-result'><thead style='background-color: white'><tr><th>product_id</th><th>product_name_length</th><th>product_description_length</th><th>product_photos_qty</th><th>product_weight_g</th><th>product_length_cm</th><th>product_height_cm</th><th>product_width_cm</th><th>product_category_name</th><th>product_volume_cm3</th><th>product_density_g_cm3</th><th>volume_tier</th><th>weight_category</th><th>product_complexity</th><th>shipping_complexity</th><th>category_group</th></tr></thead><tbody><tr><td>1e9e8ef04dbcff4541ed26657ea517e5</td><td>40</td><td>287</td><td>1</td><td>225</td><td>16</td><td>10</td><td>14</td><td>Perfumery</td><td>2240</td><td>0.1</td><td>Small</td><td>Ultra Light</td><td>Low</td><td>Simple</td><td>Gifts & Personal</td></tr><tr><td>3aa071139cb16b67ca9e5dea641aaa2f</td><td>44</td><td>276</td><td>1</td><td>1000</td><td>30</td><td>18</td><td>20</td><td>Art</td><td>10800</td><td>0.093</td><td>Medium Large</td><td>Medium Heavy</td><td>Medium</td><td>Standard</td><td>Gifts & Personal</td></tr><tr><td>96bd76ec8810374ed1b65e291975717f</td><td>46</td><td>250</td><td>1</td><td>154</td><td>18</td><td>9</td><td>15</td><td>Sports Leisure</td><td>2430</td><td>0.063</td><td>Small</td><td>Ultra Light</td><td>Low</td><td>Simple</td><td>Health & Fashion</td></tr><tr><td>cef67bcfe19066a932b7673e239eb23d</td><td>27</td><td>261</td><td>1</td><td>371</td><td>26</td><td>4</td><td>26</td><td>Baby</td><td>2704</td><td>0.137</td><td>Small</td><td>Medium Light</td><td>Medium Low</td><td>Standard</td><td>Kids & Baby</td></tr><tr><td>9dc1a7de274444849c219cff195d0b71</td><td>37</td><td>402</td><td>4</td><td>625</td><td>20</td><td>17</td><td>13</td><td>Housewares</td><td>4420</td><td>0.141</td><td>Medium Small</td><td>Medium Light</td><td>Medium</td><td>Standard</td><td>Home & Decor</td></tr></tbody></table></div>"
      ]
     },
     "metadata": {
      "application/vnd.databricks.v1+output": {
       "addedWidgets": {},
       "aggData": [],
       "aggError": "",
       "aggOverflow": false,
       "aggSchema": [],
       "aggSeriesLimitReached": false,
       "aggType": "",
       "arguments": {},
       "columnCustomDisplayInfos": {},
       "data": [
        [
         "1e9e8ef04dbcff4541ed26657ea517e5",
         40,
         287,
         1,
         225,
         16,
         10,
         14,
         "Perfumery",
         2240,
         0.1,
         "Small",
         "Ultra Light",
         "Low",
         "Simple",
         "Gifts & Personal"
        ],
        [
         "3aa071139cb16b67ca9e5dea641aaa2f",
         44,
         276,
         1,
         1000,
         30,
         18,
         20,
         "Art",
         10800,
         0.093,
         "Medium Large",
         "Medium Heavy",
         "Medium",
         "Standard",
         "Gifts & Personal"
        ],
        [
         "96bd76ec8810374ed1b65e291975717f",
         46,
         250,
         1,
         154,
         18,
         9,
         15,
         "Sports Leisure",
         2430,
         0.063,
         "Small",
         "Ultra Light",
         "Low",
         "Simple",
         "Health & Fashion"
        ],
        [
         "cef67bcfe19066a932b7673e239eb23d",
         27,
         261,
         1,
         371,
         26,
         4,
         26,
         "Baby",
         2704,
         0.137,
         "Small",
         "Medium Light",
         "Medium Low",
         "Standard",
         "Kids & Baby"
        ],
        [
         "9dc1a7de274444849c219cff195d0b71",
         37,
         402,
         4,
         625,
         20,
         17,
         13,
         "Housewares",
         4420,
         0.141,
         "Medium Small",
         "Medium Light",
         "Medium",
         "Standard",
         "Home & Decor"
        ]
       ],
       "datasetInfos": [],
       "dbfsResultPath": null,
       "isJsonSchema": true,
       "metadata": {},
       "overflow": false,
       "plotOptions": {
        "customPlotOptions": {},
        "displayType": "table",
        "pivotAggregation": null,
        "pivotColumns": null,
        "xColumns": null,
        "yColumns": null
       },
       "removedWidgets": [],
       "schema": [
        {
         "metadata": "{}",
         "name": "product_id",
         "type": "\"string\""
        },
        {
         "metadata": "{}",
         "name": "product_name_length",
         "type": "\"integer\""
        },
        {
         "metadata": "{}",
         "name": "product_description_length",
         "type": "\"integer\""
        },
        {
         "metadata": "{}",
         "name": "product_photos_qty",
         "type": "\"integer\""
        },
        {
         "metadata": "{}",
         "name": "product_weight_g",
         "type": "\"integer\""
        },
        {
         "metadata": "{}",
         "name": "product_length_cm",
         "type": "\"integer\""
        },
        {
         "metadata": "{}",
         "name": "product_height_cm",
         "type": "\"integer\""
        },
        {
         "metadata": "{}",
         "name": "product_width_cm",
         "type": "\"integer\""
        },
        {
         "metadata": "{}",
         "name": "product_category_name",
         "type": "\"string\""
        },
        {
         "metadata": "{}",
         "name": "product_volume_cm3",
         "type": "\"integer\""
        },
        {
         "metadata": "{}",
         "name": "product_density_g_cm3",
         "type": "\"double\""
        },
        {
         "metadata": "{}",
         "name": "volume_tier",
         "type": "\"string\""
        },
        {
         "metadata": "{}",
         "name": "weight_category",
         "type": "\"string\""
        },
        {
         "metadata": "{}",
         "name": "product_complexity",
         "type": "\"string\""
        },
        {
         "metadata": "{}",
         "name": "shipping_complexity",
         "type": "\"string\""
        },
        {
         "metadata": "{}",
         "name": "category_group",
         "type": "\"string\""
        }
       ],
       "type": "table"
      }
     },
     "output_type": "display_data"
    },
    {
     "output_type": "stream",
     "name": "stdout",
     "output_type": "stream",
     "text": [
      "\nSuccessfully saved as a single Parquet file.\n"
     ]
    }
   ],
   "source": [
    "# Define the output path for final cleaned and translated dataset\n",
    "output_path = \"/mnt/olist-store-data/transformed-data/olist_products_cleaned_dataset_withCalculations.parquet\"\n",
    "temp_path = \"/mnt/olist-store-data/transformed-data/temp_parquet_output\"\n",
    "\n",
    "try:\n",
    "    # Remove existing directories if they exist\n",
    "    dbutils.fs.rm(output_path, recurse=True)\n",
    "    dbutils.fs.rm(temp_path, recurse=True)\n",
    "\n",
    "    # Save as a single Parquet file using temporary directory\n",
    "    (cleaned_products\n",
    "     .repartition(1)  # Force to a single partition\n",
    "     .write\n",
    "     .mode(\"overwrite\")\n",
    "     .parquet(temp_path))\n",
    "\n",
    "    # Find the Parquet file in temp directory\n",
    "    temp_files = dbutils.fs.ls(temp_path)\n",
    "    parquet_file = [f.path for f in temp_files if f.path.endswith(\".parquet\")][0]\n",
    "    \n",
    "    # Move to final location\n",
    "    dbutils.fs.mv(parquet_file, output_path)\n",
    "    \n",
    "    # Clean up temp directory\n",
    "    dbutils.fs.rm(temp_path, recurse=True)\n",
    "\n",
    "    # Verify the saved Parquet file\n",
    "    verified_df = spark.read.parquet(output_path)\n",
    "    print(\"\\nVerification of saved Parquet file:\")\n",
    "    print(f\"Number of rows in saved Parquet file: {verified_df.count():,}\")\n",
    "    print(\"\\nSample of saved data:\")\n",
    "    display(verified_df.limit(5))\n",
    "\n",
    "    # Verify it's a single file\n",
    "    if len(dbutils.fs.ls(output_path)) == 1:\n",
    "        print(\"\\nSuccessfully saved as a single Parquet file.\")\n",
    "    else:\n",
    "        print(\"\\nWarning: Multiple files were created.\")\n",
    "\n",
    "except Exception as e:\n",
    "    print(f\"Error saving dataset: {str(e)}\")\n",
    "    # Clean up temp directory in case of failure\n",
    "    dbutils.fs.rm(temp_path, recurse=True)\n",
    "    raise\n",
    "finally:\n",
    "    # Unpersist cached DataFrame\n",
    "    cleaned_products.unpersist()"
   ]
  },
  {
   "cell_type": "markdown",
   "metadata": {
    "application/vnd.databricks.v1+cell": {
     "cellMetadata": {},
     "inputWidgets": {},
     "nuid": "538570b1-23e9-458d-9b13-c684d2f26601",
     "showTitle": false,
     "tableResultSettingsMap": {},
     "title": ""
    }
   },
   "source": [
    "### Review the cleaned_products dataset with selected columns"
   ]
  },
  {
   "cell_type": "code",
   "execution_count": 0,
   "metadata": {
    "application/vnd.databricks.v1+cell": {
     "cellMetadata": {
      "byteLimit": 2048000,
      "rowLimit": 10000
     },
     "inputWidgets": {},
     "nuid": "bdbe7a0d-60c8-40d4-9fca-d7f86635df4b",
     "showTitle": false,
     "tableResultSettingsMap": {},
     "title": ""
    }
   },
   "outputs": [
    {
     "output_type": "stream",
     "name": "stdout",
     "output_type": "stream",
     "text": [
      "\nFinal Schema:\nroot\n |-- product_id: string (nullable = true)\n |-- product_category_name: string (nullable = true)\n |-- product_name_length: integer (nullable = true)\n |-- product_description_length: integer (nullable = true)\n |-- product_photos_qty: integer (nullable = true)\n |-- product_weight_g: integer (nullable = true)\n |-- product_length_cm: integer (nullable = true)\n |-- product_height_cm: integer (nullable = true)\n |-- product_width_cm: integer (nullable = true)\n\n\nSample of final cleaned dataset:\n"
     ]
    },
    {
     "output_type": "display_data",
     "data": {
      "text/html": [
       "<style scoped>\n",
       "  .table-result-container {\n",
       "    max-height: 300px;\n",
       "    overflow: auto;\n",
       "  }\n",
       "  table, th, td {\n",
       "    border: 1px solid black;\n",
       "    border-collapse: collapse;\n",
       "  }\n",
       "  th, td {\n",
       "    padding: 5px;\n",
       "  }\n",
       "  th {\n",
       "    text-align: left;\n",
       "  }\n",
       "</style><div class='table-result-container'><table class='table-result'><thead style='background-color: white'><tr><th>product_id</th><th>product_category_name</th><th>product_name_length</th><th>product_description_length</th><th>product_photos_qty</th><th>product_weight_g</th><th>product_length_cm</th><th>product_height_cm</th><th>product_width_cm</th></tr></thead><tbody><tr><td>1e9e8ef04dbcff4541ed26657ea517e5</td><td>Perfumery</td><td>40</td><td>287</td><td>1</td><td>225</td><td>16</td><td>10</td><td>14</td></tr><tr><td>3aa071139cb16b67ca9e5dea641aaa2f</td><td>Art</td><td>44</td><td>276</td><td>1</td><td>1000</td><td>30</td><td>18</td><td>20</td></tr><tr><td>96bd76ec8810374ed1b65e291975717f</td><td>Sports Leisure</td><td>46</td><td>250</td><td>1</td><td>154</td><td>18</td><td>9</td><td>15</td></tr><tr><td>cef67bcfe19066a932b7673e239eb23d</td><td>Baby</td><td>27</td><td>261</td><td>1</td><td>371</td><td>26</td><td>4</td><td>26</td></tr><tr><td>9dc1a7de274444849c219cff195d0b71</td><td>Housewares</td><td>37</td><td>402</td><td>4</td><td>625</td><td>20</td><td>17</td><td>13</td></tr></tbody></table></div>"
      ]
     },
     "metadata": {
      "application/vnd.databricks.v1+output": {
       "addedWidgets": {},
       "aggData": [],
       "aggError": "",
       "aggOverflow": false,
       "aggSchema": [],
       "aggSeriesLimitReached": false,
       "aggType": "",
       "arguments": {},
       "columnCustomDisplayInfos": {},
       "data": [
        [
         "1e9e8ef04dbcff4541ed26657ea517e5",
         "Perfumery",
         40,
         287,
         1,
         225,
         16,
         10,
         14
        ],
        [
         "3aa071139cb16b67ca9e5dea641aaa2f",
         "Art",
         44,
         276,
         1,
         1000,
         30,
         18,
         20
        ],
        [
         "96bd76ec8810374ed1b65e291975717f",
         "Sports Leisure",
         46,
         250,
         1,
         154,
         18,
         9,
         15
        ],
        [
         "cef67bcfe19066a932b7673e239eb23d",
         "Baby",
         27,
         261,
         1,
         371,
         26,
         4,
         26
        ],
        [
         "9dc1a7de274444849c219cff195d0b71",
         "Housewares",
         37,
         402,
         4,
         625,
         20,
         17,
         13
        ]
       ],
       "datasetInfos": [],
       "dbfsResultPath": null,
       "isJsonSchema": true,
       "metadata": {},
       "overflow": false,
       "plotOptions": {
        "customPlotOptions": {},
        "displayType": "table",
        "pivotAggregation": null,
        "pivotColumns": null,
        "xColumns": null,
        "yColumns": null
       },
       "removedWidgets": [],
       "schema": [
        {
         "metadata": "{}",
         "name": "product_id",
         "type": "\"string\""
        },
        {
         "metadata": "{}",
         "name": "product_category_name",
         "type": "\"string\""
        },
        {
         "metadata": "{}",
         "name": "product_name_length",
         "type": "\"integer\""
        },
        {
         "metadata": "{}",
         "name": "product_description_length",
         "type": "\"integer\""
        },
        {
         "metadata": "{}",
         "name": "product_photos_qty",
         "type": "\"integer\""
        },
        {
         "metadata": "{}",
         "name": "product_weight_g",
         "type": "\"integer\""
        },
        {
         "metadata": "{}",
         "name": "product_length_cm",
         "type": "\"integer\""
        },
        {
         "metadata": "{}",
         "name": "product_height_cm",
         "type": "\"integer\""
        },
        {
         "metadata": "{}",
         "name": "product_width_cm",
         "type": "\"integer\""
        }
       ],
       "type": "table"
      }
     },
     "output_type": "display_data"
    },
    {
     "output_type": "stream",
     "name": "stdout",
     "output_type": "stream",
     "text": [
      "\nTotal records in cleaned dataset: 32,328\n"
     ]
    }
   ],
   "source": [
    "from pyspark.sql.functions import col\n",
    "\n",
    "def preview_products(spark):\n",
    "    # Load the existing cleaned products dataset\n",
    "    cleaned_products = spark.read.parquet(\"/mnt/olist-store-data/transformed-data/olist_products_cleaned_dataset_withCalculations.parquet\")\n",
    "\n",
    "    # Create DataFrame with selected columns\n",
    "    cleaned_selected_products = cleaned_products.select(\n",
    "        \"product_id\",\n",
    "        \"product_category_name\",\n",
    "        \"product_name_length\",\n",
    "        \"product_description_length\",\n",
    "        \"product_photos_qty\",\n",
    "        \"product_weight_g\",\n",
    "        \"product_length_cm\",\n",
    "        \"product_height_cm\",\n",
    "        \"product_width_cm\"\n",
    "    )\n",
    "\n",
    "    # Verify final schema\n",
    "    print(\"\\nFinal Schema:\")\n",
    "    cleaned_selected_products.printSchema()\n",
    "\n",
    "    # Show sample of final dataset\n",
    "    print(\"\\nSample of final cleaned dataset:\")\n",
    "    display(cleaned_selected_products.limit(5))\n",
    "\n",
    "    # Print final record count\n",
    "    print(f\"\\nTotal records in cleaned dataset: {cleaned_selected_products.count():,}\")\n",
    "\n",
    "# Call the function with the spark session\n",
    "preview_products(spark)"
   ]
  },
  {
   "cell_type": "markdown",
   "metadata": {
    "application/vnd.databricks.v1+cell": {
     "cellMetadata": {},
     "inputWidgets": {},
     "nuid": "819ca31c-12ea-41f5-aab2-926a1915ea28",
     "showTitle": false,
     "tableResultSettingsMap": {},
     "title": ""
    }
   },
   "source": [
    "### Save the cleaned_products with selected columns in parquet file"
   ]
  },
  {
   "cell_type": "code",
   "execution_count": 0,
   "metadata": {
    "application/vnd.databricks.v1+cell": {
     "cellMetadata": {
      "byteLimit": 2048000,
      "rowLimit": 10000
     },
     "inputWidgets": {},
     "nuid": "80d295f8-b341-4362-b95c-61e3a747dc47",
     "showTitle": false,
     "tableResultSettingsMap": {},
     "title": ""
    }
   },
   "outputs": [
    {
     "output_type": "stream",
     "name": "stdout",
     "output_type": "stream",
     "text": [
      "\nVerification of saved Parquet file:\nNumber of rows in saved Parquet file: 32,328\n\nSample of saved data:\n"
     ]
    },
    {
     "output_type": "display_data",
     "data": {
      "text/html": [
       "<style scoped>\n",
       "  .table-result-container {\n",
       "    max-height: 300px;\n",
       "    overflow: auto;\n",
       "  }\n",
       "  table, th, td {\n",
       "    border: 1px solid black;\n",
       "    border-collapse: collapse;\n",
       "  }\n",
       "  th, td {\n",
       "    padding: 5px;\n",
       "  }\n",
       "  th {\n",
       "    text-align: left;\n",
       "  }\n",
       "</style><div class='table-result-container'><table class='table-result'><thead style='background-color: white'><tr><th>product_id</th><th>product_category_name</th><th>product_name_length</th><th>product_description_length</th><th>product_photos_qty</th><th>product_weight_g</th><th>product_length_cm</th><th>product_height_cm</th><th>product_width_cm</th></tr></thead><tbody><tr><td>1e9e8ef04dbcff4541ed26657ea517e5</td><td>Perfumery</td><td>40</td><td>287</td><td>1</td><td>225</td><td>16</td><td>10</td><td>14</td></tr><tr><td>3aa071139cb16b67ca9e5dea641aaa2f</td><td>Art</td><td>44</td><td>276</td><td>1</td><td>1000</td><td>30</td><td>18</td><td>20</td></tr><tr><td>96bd76ec8810374ed1b65e291975717f</td><td>Sports Leisure</td><td>46</td><td>250</td><td>1</td><td>154</td><td>18</td><td>9</td><td>15</td></tr><tr><td>cef67bcfe19066a932b7673e239eb23d</td><td>Baby</td><td>27</td><td>261</td><td>1</td><td>371</td><td>26</td><td>4</td><td>26</td></tr><tr><td>9dc1a7de274444849c219cff195d0b71</td><td>Housewares</td><td>37</td><td>402</td><td>4</td><td>625</td><td>20</td><td>17</td><td>13</td></tr></tbody></table></div>"
      ]
     },
     "metadata": {
      "application/vnd.databricks.v1+output": {
       "addedWidgets": {},
       "aggData": [],
       "aggError": "",
       "aggOverflow": false,
       "aggSchema": [],
       "aggSeriesLimitReached": false,
       "aggType": "",
       "arguments": {},
       "columnCustomDisplayInfos": {},
       "data": [
        [
         "1e9e8ef04dbcff4541ed26657ea517e5",
         "Perfumery",
         40,
         287,
         1,
         225,
         16,
         10,
         14
        ],
        [
         "3aa071139cb16b67ca9e5dea641aaa2f",
         "Art",
         44,
         276,
         1,
         1000,
         30,
         18,
         20
        ],
        [
         "96bd76ec8810374ed1b65e291975717f",
         "Sports Leisure",
         46,
         250,
         1,
         154,
         18,
         9,
         15
        ],
        [
         "cef67bcfe19066a932b7673e239eb23d",
         "Baby",
         27,
         261,
         1,
         371,
         26,
         4,
         26
        ],
        [
         "9dc1a7de274444849c219cff195d0b71",
         "Housewares",
         37,
         402,
         4,
         625,
         20,
         17,
         13
        ]
       ],
       "datasetInfos": [],
       "dbfsResultPath": null,
       "isJsonSchema": true,
       "metadata": {},
       "overflow": false,
       "plotOptions": {
        "customPlotOptions": {},
        "displayType": "table",
        "pivotAggregation": null,
        "pivotColumns": null,
        "xColumns": null,
        "yColumns": null
       },
       "removedWidgets": [],
       "schema": [
        {
         "metadata": "{}",
         "name": "product_id",
         "type": "\"string\""
        },
        {
         "metadata": "{}",
         "name": "product_category_name",
         "type": "\"string\""
        },
        {
         "metadata": "{}",
         "name": "product_name_length",
         "type": "\"integer\""
        },
        {
         "metadata": "{}",
         "name": "product_description_length",
         "type": "\"integer\""
        },
        {
         "metadata": "{}",
         "name": "product_photos_qty",
         "type": "\"integer\""
        },
        {
         "metadata": "{}",
         "name": "product_weight_g",
         "type": "\"integer\""
        },
        {
         "metadata": "{}",
         "name": "product_length_cm",
         "type": "\"integer\""
        },
        {
         "metadata": "{}",
         "name": "product_height_cm",
         "type": "\"integer\""
        },
        {
         "metadata": "{}",
         "name": "product_width_cm",
         "type": "\"integer\""
        }
       ],
       "type": "table"
      }
     },
     "output_type": "display_data"
    },
    {
     "output_type": "stream",
     "name": "stdout",
     "output_type": "stream",
     "text": [
      "\nSuccessfully saved as a single Parquet file.\n"
     ]
    }
   ],
   "source": [
    "# Define the output path for final cleaned and translated dataset\n",
    "output_path = \"/mnt/olist-store-data/transformed-data/olist_products_cleaned_dataset_v2.0.parquet\"\n",
    "temp_path = \"/mnt/olist-store-data/transformed-data/temp_products_parquet\"\n",
    "\n",
    "try:\n",
    "    # Remove existing directories if they exist\n",
    "    dbutils.fs.rm(output_path, recurse=True)\n",
    "    dbutils.fs.rm(temp_path, recurse=True)\n",
    "\n",
    "    # Save as a single Parquet file using temporary directory\n",
    "    (selected_products\n",
    "     .repartition(1)  # Force to a single partition\n",
    "     .write\n",
    "     .mode(\"overwrite\")\n",
    "     .parquet(temp_path))\n",
    "\n",
    "    # Find the Parquet file in temp directory\n",
    "    temp_files = dbutils.fs.ls(temp_path)\n",
    "    parquet_file = [f.path for f in temp_files if f.path.endswith(\".parquet\")][0]\n",
    "    \n",
    "    # Move to final location\n",
    "    dbutils.fs.mv(parquet_file, output_path)\n",
    "    \n",
    "    # Clean up temp directory\n",
    "    dbutils.fs.rm(temp_path, recurse=True)\n",
    "\n",
    "    # Verify the saved Parquet file\n",
    "    verified_df = spark.read.parquet(output_path)\n",
    "    print(\"\\nVerification of saved Parquet file:\")\n",
    "    print(f\"Number of rows in saved Parquet file: {verified_df.count():,}\")\n",
    "    print(\"\\nSample of saved data:\")\n",
    "    display(verified_df.limit(5))\n",
    "\n",
    "    # Verify it's a single file\n",
    "    if len(dbutils.fs.ls(output_path)) == 1:\n",
    "        print(\"\\nSuccessfully saved as a single Parquet file.\")\n",
    "    else:\n",
    "        print(\"\\nWarning: Multiple files were created.\")\n",
    "\n",
    "except Exception as e:\n",
    "    print(f\"Error saving dataset: {str(e)}\")\n",
    "    # Clean up temp directory in case of failure\n",
    "    dbutils.fs.rm(temp_path, recurse=True)\n",
    "    raise\n",
    "finally:\n",
    "    # Unpersist cached DataFrame\n",
    "    selected_products.unpersist()"
   ]
  }
 ],
 "metadata": {
  "application/vnd.databricks.v1+notebook": {
   "computePreferences": null,
   "dashboards": [],
   "environmentMetadata": {
    "base_environment": "",
    "client": "1"
   },
   "language": "python",
   "notebookMetadata": {
    "pythonIndentUnit": 4
   },
   "notebookName": "07. OLIST_Data_Cleaning_Products_n_Product_Category_(revised)_20250113",
   "widgets": {}
  },
  "language_info": {
   "name": "python"
  }
 },
 "nbformat": 4,
 "nbformat_minor": 0
}